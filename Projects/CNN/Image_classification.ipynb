{
  "nbformat": 4,
  "nbformat_minor": 0,
  "metadata": {
    "colab": {
      "provenance": []
    },
    "kernelspec": {
      "name": "python3",
      "display_name": "Python 3"
    },
    "language_info": {
      "name": "python"
    }
  },
  "cells": [
    {
      "cell_type": "code",
      "execution_count": null,
      "metadata": {
        "id": "Ml42IRb-uaig"
      },
      "outputs": [],
      "source": [
        "#Importing the required libraries\n",
        "import pandas as pd\n",
        "import seaborn as sns\n",
        "import numpy as np\n",
        "import sklearn\n",
        "from tensorflow import keras\n",
        "from keras import layers\n",
        "from sklearn.model_selection import train_test_split\n",
        "import urllib.request\n",
        "import os\n",
        "import tensorflow as tf\n",
        "import matplotlib.pyplot as plt\n",
        "import numpy as np\n",
        "from PIL import Image\n",
        "import random\n",
        "from sklearn.preprocessing import LabelEncoder\n",
        "from keras import layers\n",
        "from keras.layers import Conv2D, MaxPooling2D, Dense, Flatten\n",
        "from keras.utils import to_categorical\n",
        "from sklearn.preprocessing import OneHotEncoder\n",
        "from sklearn.metrics import classification_report\n",
        "from keras.optimizers import Adam\n",
        "from sklearn.metrics import confusion_matrix"
      ]
    },
    {
      "cell_type": "code",
      "source": [
        "from google.colab import drive\n",
        "drive.mount('/content/drive')"
      ],
      "metadata": {
        "colab": {
          "base_uri": "https://localhost:8080/"
        },
        "id": "033sEJ_muhmU",
        "outputId": "d8873f4a-b87b-4e29-8fe5-336a3e3c8e64"
      },
      "execution_count": null,
      "outputs": [
        {
          "output_type": "stream",
          "name": "stdout",
          "text": [
            "Mounted at /content/drive\n"
          ]
        }
      ]
    },
    {
      "cell_type": "markdown",
      "source": [
        "As the images were in different files with the file names being the labels of the images, the images had to be extracted individually from the files and their labels preserved.\n",
        "\n",
        "To extract the files a two empty lists were created for train and test images and their labels. A classes list was then created to extract all their names form the files using the OS python module. The module first checked if the if the path specified is a directory and adds the name of the directory to the list classes. The if loop then joins the names of the path and the directory and opens the images. it then resizes the image to a 34 by 34 pixel. It then saves the image as a Numpy array in the train_images list and adds the labels of the image extracted from classes list to the train_labels list. The same actions were carried out for the test set provided.\n",
        "\n"
      ],
      "metadata": {
        "id": "Gp5OjAeyRW8R"
      }
    },
    {
      "cell_type": "code",
      "source": [
        "#Directory where the files were located\n",
        "dir = \"/content/drive/MyDrive/Images_dataset/_train\"\n",
        "\n",
        "#creating a list of the file names\n",
        "classes = [cls.name for cls in os.scandir(dir) if cls.is_dir()]\n",
        "\n",
        "#Creating empty lists\n",
        "train_images, train_labels = [], []\n",
        "\n",
        "#itterating through the file names to create a file path for image extraction\n",
        "for i in classes:\n",
        "    file = os.path.join(dir, i)\n",
        "    for img in os.listdir(file):\n",
        "        img_file = os.path.join(file, img)\n",
        "        image = Image.open(img_file)\n",
        "\n",
        "        #Resizing the image\n",
        "        image = image.resize((34, 34))\n",
        "\n",
        "        #Saving the image as a numpy array\n",
        "        train_images.append(np.array(image))\n",
        "\n",
        "        #Adding the image label to the labels list\n",
        "        train_labels.append(str(i))\n",
        "\n",
        "train_images = np.array(train_images)\n",
        "\n",
        "\n",
        "print(\"train_images shape:\", train_images.shape)\n",
        "print(\"train_labels shape:\", len(train_labels))\n"
      ],
      "metadata": {
        "colab": {
          "base_uri": "https://localhost:8080/"
        },
        "id": "7QqfmK0v9xVB",
        "outputId": "50ed6387-acb0-4391-ded4-66a73176809a"
      },
      "execution_count": null,
      "outputs": [
        {
          "output_type": "stream",
          "name": "stdout",
          "text": [
            "train_images shape: (5959, 34, 34, 3)\n",
            "train_labels shape: 5959\n"
          ]
        }
      ]
    },
    {
      "cell_type": "code",
      "source": [
        "dir = \"/content/drive/MyDrive/Images_dataset/_test\"\n",
        "classes = [cls.name for cls in os.scandir(dir) if cls.is_dir()]\n",
        "\n",
        "test_images, test_labels = [], []\n",
        "for i in classes:\n",
        "    file = os.path.join(dir, i)\n",
        "    for img in os.listdir(file):\n",
        "        img_file = os.path.join(file, img)\n",
        "        image = Image.open(img_file)\n",
        "        image = image.resize((34, 34))\n",
        "        test_images.append(np.array(image))\n",
        "        test_labels.append(str(i))\n",
        "\n",
        "test_images = np.array(test_images)\n",
        "\n",
        "\n",
        "print(\"test_images shape:\", test_images.shape)\n",
        "print(\"test_labels shape:\", len(test_labels))"
      ],
      "metadata": {
        "colab": {
          "base_uri": "https://localhost:8080/"
        },
        "id": "hruDH38Lbswi",
        "outputId": "07cb0fbd-e6e4-49a4-d4d0-11473615a2b4"
      },
      "execution_count": null,
      "outputs": [
        {
          "output_type": "stream",
          "name": "stdout",
          "text": [
            "test_images shape: (940, 34, 34, 3)\n",
            "test_labels shape: 940\n"
          ]
        }
      ]
    },
    {
      "cell_type": "markdown",
      "source": [
        "The list of images and the labels were viewed in a dataframe to visulaize how they look. Since the training set is a list, these had to be converted into a dictionary with the keys being the numpy array and the items the labels."
      ],
      "metadata": {
        "id": "hV2ceO4ar3Eo"
      }
    },
    {
      "cell_type": "code",
      "source": [
        "#converting the lists to a pandas dataframe to visualize the data\n",
        "df = {'Image': train_images.tolist(), 'Label': train_labels}\n",
        "df = pd.DataFrame(df)\n",
        "df.head(10)"
      ],
      "metadata": {
        "colab": {
          "base_uri": "https://localhost:8080/",
          "height": 363
        },
        "id": "0xTELhKD3yoS",
        "outputId": "90b03356-caa1-4e29-9f4e-063a4db5c58c"
      },
      "execution_count": null,
      "outputs": [
        {
          "output_type": "execute_result",
          "data": {
            "text/plain": [
              "                                               Image  Label\n",
              "0  [[[255, 255, 255], [255, 255, 255], [255, 255,...  fruit\n",
              "1  [[[255, 255, 255], [255, 255, 255], [255, 255,...  fruit\n",
              "2  [[[255, 255, 255], [255, 255, 255], [255, 255,...  fruit\n",
              "3  [[[255, 255, 255], [255, 255, 255], [255, 255,...  fruit\n",
              "4  [[[255, 255, 255], [255, 255, 255], [255, 255,...  fruit\n",
              "5  [[[255, 255, 255], [255, 255, 255], [255, 255,...  fruit\n",
              "6  [[[255, 255, 255], [255, 255, 255], [255, 255,...  fruit\n",
              "7  [[[255, 255, 255], [255, 255, 255], [255, 255,...  fruit\n",
              "8  [[[255, 255, 253], [254, 254, 255], [253, 254,...  fruit\n",
              "9  [[[255, 255, 255], [255, 255, 255], [255, 255,...  fruit"
            ],
            "text/html": [
              "\n",
              "  <div id=\"df-423b58d6-4c80-4250-a4f4-ef53ba3a2a59\">\n",
              "    <div class=\"colab-df-container\">\n",
              "      <div>\n",
              "<style scoped>\n",
              "    .dataframe tbody tr th:only-of-type {\n",
              "        vertical-align: middle;\n",
              "    }\n",
              "\n",
              "    .dataframe tbody tr th {\n",
              "        vertical-align: top;\n",
              "    }\n",
              "\n",
              "    .dataframe thead th {\n",
              "        text-align: right;\n",
              "    }\n",
              "</style>\n",
              "<table border=\"1\" class=\"dataframe\">\n",
              "  <thead>\n",
              "    <tr style=\"text-align: right;\">\n",
              "      <th></th>\n",
              "      <th>Image</th>\n",
              "      <th>Label</th>\n",
              "    </tr>\n",
              "  </thead>\n",
              "  <tbody>\n",
              "    <tr>\n",
              "      <th>0</th>\n",
              "      <td>[[[255, 255, 255], [255, 255, 255], [255, 255,...</td>\n",
              "      <td>fruit</td>\n",
              "    </tr>\n",
              "    <tr>\n",
              "      <th>1</th>\n",
              "      <td>[[[255, 255, 255], [255, 255, 255], [255, 255,...</td>\n",
              "      <td>fruit</td>\n",
              "    </tr>\n",
              "    <tr>\n",
              "      <th>2</th>\n",
              "      <td>[[[255, 255, 255], [255, 255, 255], [255, 255,...</td>\n",
              "      <td>fruit</td>\n",
              "    </tr>\n",
              "    <tr>\n",
              "      <th>3</th>\n",
              "      <td>[[[255, 255, 255], [255, 255, 255], [255, 255,...</td>\n",
              "      <td>fruit</td>\n",
              "    </tr>\n",
              "    <tr>\n",
              "      <th>4</th>\n",
              "      <td>[[[255, 255, 255], [255, 255, 255], [255, 255,...</td>\n",
              "      <td>fruit</td>\n",
              "    </tr>\n",
              "    <tr>\n",
              "      <th>5</th>\n",
              "      <td>[[[255, 255, 255], [255, 255, 255], [255, 255,...</td>\n",
              "      <td>fruit</td>\n",
              "    </tr>\n",
              "    <tr>\n",
              "      <th>6</th>\n",
              "      <td>[[[255, 255, 255], [255, 255, 255], [255, 255,...</td>\n",
              "      <td>fruit</td>\n",
              "    </tr>\n",
              "    <tr>\n",
              "      <th>7</th>\n",
              "      <td>[[[255, 255, 255], [255, 255, 255], [255, 255,...</td>\n",
              "      <td>fruit</td>\n",
              "    </tr>\n",
              "    <tr>\n",
              "      <th>8</th>\n",
              "      <td>[[[255, 255, 253], [254, 254, 255], [253, 254,...</td>\n",
              "      <td>fruit</td>\n",
              "    </tr>\n",
              "    <tr>\n",
              "      <th>9</th>\n",
              "      <td>[[[255, 255, 255], [255, 255, 255], [255, 255,...</td>\n",
              "      <td>fruit</td>\n",
              "    </tr>\n",
              "  </tbody>\n",
              "</table>\n",
              "</div>\n",
              "      <button class=\"colab-df-convert\" onclick=\"convertToInteractive('df-423b58d6-4c80-4250-a4f4-ef53ba3a2a59')\"\n",
              "              title=\"Convert this dataframe to an interactive table.\"\n",
              "              style=\"display:none;\">\n",
              "        \n",
              "  <svg xmlns=\"http://www.w3.org/2000/svg\" height=\"24px\"viewBox=\"0 0 24 24\"\n",
              "       width=\"24px\">\n",
              "    <path d=\"M0 0h24v24H0V0z\" fill=\"none\"/>\n",
              "    <path d=\"M18.56 5.44l.94 2.06.94-2.06 2.06-.94-2.06-.94-.94-2.06-.94 2.06-2.06.94zm-11 1L8.5 8.5l.94-2.06 2.06-.94-2.06-.94L8.5 2.5l-.94 2.06-2.06.94zm10 10l.94 2.06.94-2.06 2.06-.94-2.06-.94-.94-2.06-.94 2.06-2.06.94z\"/><path d=\"M17.41 7.96l-1.37-1.37c-.4-.4-.92-.59-1.43-.59-.52 0-1.04.2-1.43.59L10.3 9.45l-7.72 7.72c-.78.78-.78 2.05 0 2.83L4 21.41c.39.39.9.59 1.41.59.51 0 1.02-.2 1.41-.59l7.78-7.78 2.81-2.81c.8-.78.8-2.07 0-2.86zM5.41 20L4 18.59l7.72-7.72 1.47 1.35L5.41 20z\"/>\n",
              "  </svg>\n",
              "      </button>\n",
              "      \n",
              "  <style>\n",
              "    .colab-df-container {\n",
              "      display:flex;\n",
              "      flex-wrap:wrap;\n",
              "      gap: 12px;\n",
              "    }\n",
              "\n",
              "    .colab-df-convert {\n",
              "      background-color: #E8F0FE;\n",
              "      border: none;\n",
              "      border-radius: 50%;\n",
              "      cursor: pointer;\n",
              "      display: none;\n",
              "      fill: #1967D2;\n",
              "      height: 32px;\n",
              "      padding: 0 0 0 0;\n",
              "      width: 32px;\n",
              "    }\n",
              "\n",
              "    .colab-df-convert:hover {\n",
              "      background-color: #E2EBFA;\n",
              "      box-shadow: 0px 1px 2px rgba(60, 64, 67, 0.3), 0px 1px 3px 1px rgba(60, 64, 67, 0.15);\n",
              "      fill: #174EA6;\n",
              "    }\n",
              "\n",
              "    [theme=dark] .colab-df-convert {\n",
              "      background-color: #3B4455;\n",
              "      fill: #D2E3FC;\n",
              "    }\n",
              "\n",
              "    [theme=dark] .colab-df-convert:hover {\n",
              "      background-color: #434B5C;\n",
              "      box-shadow: 0px 1px 3px 1px rgba(0, 0, 0, 0.15);\n",
              "      filter: drop-shadow(0px 1px 2px rgba(0, 0, 0, 0.3));\n",
              "      fill: #FFFFFF;\n",
              "    }\n",
              "  </style>\n",
              "\n",
              "      <script>\n",
              "        const buttonEl =\n",
              "          document.querySelector('#df-423b58d6-4c80-4250-a4f4-ef53ba3a2a59 button.colab-df-convert');\n",
              "        buttonEl.style.display =\n",
              "          google.colab.kernel.accessAllowed ? 'block' : 'none';\n",
              "\n",
              "        async function convertToInteractive(key) {\n",
              "          const element = document.querySelector('#df-423b58d6-4c80-4250-a4f4-ef53ba3a2a59');\n",
              "          const dataTable =\n",
              "            await google.colab.kernel.invokeFunction('convertToInteractive',\n",
              "                                                     [key], {});\n",
              "          if (!dataTable) return;\n",
              "\n",
              "          const docLinkHtml = 'Like what you see? Visit the ' +\n",
              "            '<a target=\"_blank\" href=https://colab.research.google.com/notebooks/data_table.ipynb>data table notebook</a>'\n",
              "            + ' to learn more about interactive tables.';\n",
              "          element.innerHTML = '';\n",
              "          dataTable['output_type'] = 'display_data';\n",
              "          await google.colab.output.renderOutput(dataTable, element);\n",
              "          const docLink = document.createElement('div');\n",
              "          docLink.innerHTML = docLinkHtml;\n",
              "          element.appendChild(docLink);\n",
              "        }\n",
              "      </script>\n",
              "    </div>\n",
              "  </div>\n",
              "  "
            ]
          },
          "metadata": {},
          "execution_count": 5
        }
      ]
    },
    {
      "cell_type": "markdown",
      "source": [
        "# Data Exploration\n",
        "\n",
        "To check if the correct order of images were extarcted randon images along with their labels were plotted."
      ],
      "metadata": {
        "id": "7A24uYujsafd"
      }
    },
    {
      "cell_type": "code",
      "source": [
        "#Selecting 5 random indicies of the train_images\n",
        "im = random.sample(range(len(train_images)), 5)\n",
        "pltimages = train_images[im]\n",
        "#Selecting the same indicies in the train_label list\n",
        "pltlabels = [train_labels[i] for i in im]\n",
        "fig, axes = plt.subplots(1, 5, figsize=(8, 8))\n",
        "#Using the enumerate function to itterrate over the pltimages variable and disply the images\n",
        "for i, j in enumerate(pltimages):\n",
        "    axes[i].imshow(j)\n",
        "    axes[i].axis('off')\n",
        "    axes[i].set_title(pltlabels[i])\n",
        "\n",
        "plt.show()"
      ],
      "metadata": {
        "colab": {
          "base_uri": "https://localhost:8080/",
          "height": 163
        },
        "id": "XGSB0ksXxH-u",
        "outputId": "69b75e6d-72ed-412f-fff3-ec4acad6a886"
      },
      "execution_count": null,
      "outputs": [
        {
          "output_type": "display_data",
          "data": {
            "text/plain": [
              "<Figure size 800x800 with 5 Axes>"
            ],
            "image/png": "[encoded data removed]"
          },
          "metadata": {}
        }
      ]
    },
    {
      "cell_type": "markdown",
      "source": [
        "The same was done for the test images so ensure that the images and their labels match."
      ],
      "metadata": {
        "id": "RxzhK6_cBE4I"
      }
    },
    {
      "cell_type": "code",
      "source": [
        "im = random.sample(range(len(test_images)), 5)\n",
        "pltimages = test_images[im]\n",
        "pltlabels = [test_labels[i] for i in im]\n",
        "fig, axes = plt.subplots(1, 5, figsize=(8, 8))\n",
        "for i, j in enumerate(pltimages):\n",
        "    axes[i].imshow(j)\n",
        "    axes[i].axis('off')\n",
        "    axes[i].set_title(pltlabels[i])\n",
        "\n",
        "plt.show()"
      ],
      "metadata": {
        "colab": {
          "base_uri": "https://localhost:8080/",
          "height": 163
        },
        "id": "TRCKITuzA3If",
        "outputId": "aaf6aa84-8dcc-4ede-ea95-32b0f980cc64"
      },
      "execution_count": null,
      "outputs": [
        {
          "output_type": "display_data",
          "data": {
            "text/plain": [
              "<Figure size 800x800 with 5 Axes>"
            ],
            "image/png": "[encoded data removed]"
          },
          "metadata": {}
        }
      ]
    },
    {
      "cell_type": "markdown",
      "source": [
        "The count of each image type needs to be know to understand the distribution of data. Ideally, the number of images of each class or label should be equally distributed so that machine prediction models can learn efficiently from the equal distribution of features and not have a bias towards the majority class. Deep neural networks can handle slight imbalances in the distribution of data due to their ability to learn complex features and patterns.\n",
        "\n",
        "The distribution of images below shows that car images are the majority class followed by the images of a fruit and a person. The images of a dog and an airplane are the minority class."
      ],
      "metadata": {
        "id": "YFKefBR17JkB"
      }
    },
    {
      "cell_type": "code",
      "source": [
        "#Counting the number of each type of image\n",
        "df['Label'].value_counts()\n"
      ],
      "metadata": {
        "colab": {
          "base_uri": "https://localhost:8080/"
        },
        "id": "gudlFUevaK7A",
        "outputId": "f2a6b0a5-b62a-4a9d-8d83-dee87f870cd8"
      },
      "execution_count": null,
      "outputs": [
        {
          "output_type": "execute_result",
          "data": {
            "text/plain": [
              "car          871\n",
              "fruit        850\n",
              "person       838\n",
              "cat          797\n",
              "flower       717\n",
              "motorbike    670\n",
              "airplane     619\n",
              "dog          597\n",
              "Name: Label, dtype: int64"
            ]
          },
          "metadata": {},
          "execution_count": 9
        }
      ]
    },
    {
      "cell_type": "markdown",
      "source": [
        "For a better visualization of the distribution, the count of each type of image in the training set were plotted."
      ],
      "metadata": {
        "id": "mGGNZIkaCBet"
      }
    },
    {
      "cell_type": "code",
      "source": [
        "#Plotting the distribution from the value counts of the dataframe created above\n",
        "counts = df['Label'].value_counts()\n",
        "counts.plot(kind='bar')\n",
        "plt.xlabel('Label')\n",
        "plt.ylabel('Count')\n",
        "plt.title('Label counts')\n",
        "plt.show()"
      ],
      "metadata": {
        "colab": {
          "base_uri": "https://localhost:8080/",
          "height": 528
        },
        "id": "HJqKDamoafIX",
        "outputId": "001c54ae-37eb-4098-dd1b-76054d065cf3"
      },
      "execution_count": null,
      "outputs": [
        {
          "output_type": "display_data",
          "data": {
            "text/plain": [
              "<Figure size 640x480 with 1 Axes>"
            ],
            "image/png": "[encoded data removed]"
          },
          "metadata": {}
        }
      ]
    },
    {
      "cell_type": "markdown",
      "source": [
        "Since the images and their labels were extracted in an ordered  manner, with all the images following a sequence, the lists have to be shuffled. This is done because the neural network could memorize the pattern of the images and their labels, this would increase the bias of the model and the model might not generalize well when presented with the test set. To shuffle the images and the labels, Skit Learn's shuffle module was utilized. This module shuffles the images and their labels in a random manner while maintaining the order of both the lists.\n",
        "\n"
      ],
      "metadata": {
        "id": "1QRU4UOdW3on"
      }
    },
    {
      "cell_type": "code",
      "source": [
        "#Shuffling both the image and the labels lists\n",
        "train_images,train_labels=sklearn.utils.shuffle(train_images,train_labels)"
      ],
      "metadata": {
        "id": "O6K8yEypAzQb"
      },
      "execution_count": null,
      "outputs": []
    },
    {
      "cell_type": "markdown",
      "source": [
        "The train images and the labels are again put in a data frame format to observe the changes. As before, random images were plotted along with their labels to ensure that the shuffling preserved the connection between the image and their labels."
      ],
      "metadata": {
        "id": "_1p3GN7eDWPu"
      }
    },
    {
      "cell_type": "code",
      "source": [
        "df = {'Image': train_images.tolist(), 'Label': train_labels}\n",
        "df = pd.DataFrame(df)\n",
        "df.head(10)"
      ],
      "metadata": {
        "colab": {
          "base_uri": "https://localhost:8080/",
          "height": 363
        },
        "id": "U5XDDMYyDS-O",
        "outputId": "9cfde461-74e4-48e3-dec6-450f351d4829"
      },
      "execution_count": null,
      "outputs": [
        {
          "output_type": "execute_result",
          "data": {
            "text/plain": [
              "                                               Image     Label\n",
              "0  [[[85, 87, 82], [108, 71, 54], [116, 75, 58], ...  airplane\n",
              "1  [[[103, 129, 82], [100, 120, 72], [99, 119, 79...    flower\n",
              "2  [[[76, 102, 72], [79, 106, 76], [80, 111, 76],...  airplane\n",
              "3  [[[121, 123, 119], [117, 119, 116], [117, 118,...       dog\n",
              "4  [[[255, 255, 255], [255, 255, 255], [255, 255,...     fruit\n",
              "5  [[[79, 117, 150], [83, 127, 159], [177, 201, 2...  airplane\n",
              "6  [[[237, 234, 238], [237, 235, 240], [238, 233,...       car\n",
              "7  [[[255, 255, 255], [255, 255, 255], [255, 255,...     fruit\n",
              "8  [[[51, 75, 53], [51, 73, 52], [52, 74, 47], [6...    flower\n",
              "9  [[[44, 67, 23], [53, 75, 25], [37, 49, 15], [3...    flower"
            ],
            "text/html": [
              "\n",
              "  <div id=\"df-4509a22d-fc3e-42d8-957e-73109eaa087d\">\n",
              "    <div class=\"colab-df-container\">\n",
              "      <div>\n",
              "<style scoped>\n",
              "    .dataframe tbody tr th:only-of-type {\n",
              "        vertical-align: middle;\n",
              "    }\n",
              "\n",
              "    .dataframe tbody tr th {\n",
              "        vertical-align: top;\n",
              "    }\n",
              "\n",
              "    .dataframe thead th {\n",
              "        text-align: right;\n",
              "    }\n",
              "</style>\n",
              "<table border=\"1\" class=\"dataframe\">\n",
              "  <thead>\n",
              "    <tr style=\"text-align: right;\">\n",
              "      <th></th>\n",
              "      <th>Image</th>\n",
              "      <th>Label</th>\n",
              "    </tr>\n",
              "  </thead>\n",
              "  <tbody>\n",
              "    <tr>\n",
              "      <th>0</th>\n",
              "      <td>[[[85, 87, 82], [108, 71, 54], [116, 75, 58], ...</td>\n",
              "      <td>airplane</td>\n",
              "    </tr>\n",
              "    <tr>\n",
              "      <th>1</th>\n",
              "      <td>[[[103, 129, 82], [100, 120, 72], [99, 119, 79...</td>\n",
              "      <td>flower</td>\n",
              "    </tr>\n",
              "    <tr>\n",
              "      <th>2</th>\n",
              "      <td>[[[76, 102, 72], [79, 106, 76], [80, 111, 76],...</td>\n",
              "      <td>airplane</td>\n",
              "    </tr>\n",
              "    <tr>\n",
              "      <th>3</th>\n",
              "      <td>[[[121, 123, 119], [117, 119, 116], [117, 118,...</td>\n",
              "      <td>dog</td>\n",
              "    </tr>\n",
              "    <tr>\n",
              "      <th>4</th>\n",
              "      <td>[[[255, 255, 255], [255, 255, 255], [255, 255,...</td>\n",
              "      <td>fruit</td>\n",
              "    </tr>\n",
              "    <tr>\n",
              "      <th>5</th>\n",
              "      <td>[[[79, 117, 150], [83, 127, 159], [177, 201, 2...</td>\n",
              "      <td>airplane</td>\n",
              "    </tr>\n",
              "    <tr>\n",
              "      <th>6</th>\n",
              "      <td>[[[237, 234, 238], [237, 235, 240], [238, 233,...</td>\n",
              "      <td>car</td>\n",
              "    </tr>\n",
              "    <tr>\n",
              "      <th>7</th>\n",
              "      <td>[[[255, 255, 255], [255, 255, 255], [255, 255,...</td>\n",
              "      <td>fruit</td>\n",
              "    </tr>\n",
              "    <tr>\n",
              "      <th>8</th>\n",
              "      <td>[[[51, 75, 53], [51, 73, 52], [52, 74, 47], [6...</td>\n",
              "      <td>flower</td>\n",
              "    </tr>\n",
              "    <tr>\n",
              "      <th>9</th>\n",
              "      <td>[[[44, 67, 23], [53, 75, 25], [37, 49, 15], [3...</td>\n",
              "      <td>flower</td>\n",
              "    </tr>\n",
              "  </tbody>\n",
              "</table>\n",
              "</div>\n",
              "      <button class=\"colab-df-convert\" onclick=\"convertToInteractive('df-4509a22d-fc3e-42d8-957e-73109eaa087d')\"\n",
              "              title=\"Convert this dataframe to an interactive table.\"\n",
              "              style=\"display:none;\">\n",
              "        \n",
              "  <svg xmlns=\"http://www.w3.org/2000/svg\" height=\"24px\"viewBox=\"0 0 24 24\"\n",
              "       width=\"24px\">\n",
              "    <path d=\"M0 0h24v24H0V0z\" fill=\"none\"/>\n",
              "    <path d=\"M18.56 5.44l.94 2.06.94-2.06 2.06-.94-2.06-.94-.94-2.06-.94 2.06-2.06.94zm-11 1L8.5 8.5l.94-2.06 2.06-.94-2.06-.94L8.5 2.5l-.94 2.06-2.06.94zm10 10l.94 2.06.94-2.06 2.06-.94-2.06-.94-.94-2.06-.94 2.06-2.06.94z\"/><path d=\"M17.41 7.96l-1.37-1.37c-.4-.4-.92-.59-1.43-.59-.52 0-1.04.2-1.43.59L10.3 9.45l-7.72 7.72c-.78.78-.78 2.05 0 2.83L4 21.41c.39.39.9.59 1.41.59.51 0 1.02-.2 1.41-.59l7.78-7.78 2.81-2.81c.8-.78.8-2.07 0-2.86zM5.41 20L4 18.59l7.72-7.72 1.47 1.35L5.41 20z\"/>\n",
              "  </svg>\n",
              "      </button>\n",
              "      \n",
              "  <style>\n",
              "    .colab-df-container {\n",
              "      display:flex;\n",
              "      flex-wrap:wrap;\n",
              "      gap: 12px;\n",
              "    }\n",
              "\n",
              "    .colab-df-convert {\n",
              "      background-color: #E8F0FE;\n",
              "      border: none;\n",
              "      border-radius: 50%;\n",
              "      cursor: pointer;\n",
              "      display: none;\n",
              "      fill: #1967D2;\n",
              "      height: 32px;\n",
              "      padding: 0 0 0 0;\n",
              "      width: 32px;\n",
              "    }\n",
              "\n",
              "    .colab-df-convert:hover {\n",
              "      background-color: #E2EBFA;\n",
              "      box-shadow: 0px 1px 2px rgba(60, 64, 67, 0.3), 0px 1px 3px 1px rgba(60, 64, 67, 0.15);\n",
              "      fill: #174EA6;\n",
              "    }\n",
              "\n",
              "    [theme=dark] .colab-df-convert {\n",
              "      background-color: #3B4455;\n",
              "      fill: #D2E3FC;\n",
              "    }\n",
              "\n",
              "    [theme=dark] .colab-df-convert:hover {\n",
              "      background-color: #434B5C;\n",
              "      box-shadow: 0px 1px 3px 1px rgba(0, 0, 0, 0.15);\n",
              "      filter: drop-shadow(0px 1px 2px rgba(0, 0, 0, 0.3));\n",
              "      fill: #FFFFFF;\n",
              "    }\n",
              "  </style>\n",
              "\n",
              "      <script>\n",
              "        const buttonEl =\n",
              "          document.querySelector('#df-4509a22d-fc3e-42d8-957e-73109eaa087d button.colab-df-convert');\n",
              "        buttonEl.style.display =\n",
              "          google.colab.kernel.accessAllowed ? 'block' : 'none';\n",
              "\n",
              "        async function convertToInteractive(key) {\n",
              "          const element = document.querySelector('#df-4509a22d-fc3e-42d8-957e-73109eaa087d');\n",
              "          const dataTable =\n",
              "            await google.colab.kernel.invokeFunction('convertToInteractive',\n",
              "                                                     [key], {});\n",
              "          if (!dataTable) return;\n",
              "\n",
              "          const docLinkHtml = 'Like what you see? Visit the ' +\n",
              "            '<a target=\"_blank\" href=https://colab.research.google.com/notebooks/data_table.ipynb>data table notebook</a>'\n",
              "            + ' to learn more about interactive tables.';\n",
              "          element.innerHTML = '';\n",
              "          dataTable['output_type'] = 'display_data';\n",
              "          await google.colab.output.renderOutput(dataTable, element);\n",
              "          const docLink = document.createElement('div');\n",
              "          docLink.innerHTML = docLinkHtml;\n",
              "          element.appendChild(docLink);\n",
              "        }\n",
              "      </script>\n",
              "    </div>\n",
              "  </div>\n",
              "  "
            ]
          },
          "metadata": {},
          "execution_count": 12
        }
      ]
    },
    {
      "cell_type": "code",
      "source": [
        "im = random.sample(range(len(train_images)), 5)\n",
        "pltimages = train_images[im]\n",
        "pltlabels = [train_labels[i] for i in im]\n",
        "fig, axes = plt.subplots(1, 5, figsize=(8, 8))\n",
        "for i, j in enumerate(pltimages):\n",
        "    axes[i].imshow(j)\n",
        "    axes[i].axis('off')\n",
        "    axes[i].set_title(pltlabels[i])\n",
        "\n",
        "plt.show()"
      ],
      "metadata": {
        "colab": {
          "base_uri": "https://localhost:8080/",
          "height": 163
        },
        "id": "MqbA9oFnD1RU",
        "outputId": "733ce5d6-b200-4d6e-ce12-c39bb02ba76c"
      },
      "execution_count": null,
      "outputs": [
        {
          "output_type": "display_data",
          "data": {
            "text/plain": [
              "<Figure size 800x800 with 5 Axes>"
            ],
            "image/png": "[encoded data removed]"
          },
          "metadata": {}
        }
      ]
    },
    {
      "cell_type": "markdown",
      "source": [
        "# Feature Engineering\n",
        "\n",
        "The labels of the images are in a string format and deep neural networks require their integer representation for training. To convert the labels to numerical values Skit learn's Label Encoder utility was used. This assigns a unique value to each label. The value of the labels was then mapped and saved in a variable. The target variable are then converted to a 2d array using the Keras to categorical utility. This is usually done for deep neural network for various reasons such as compatibility with a loss functions and ease of model prediction interpretation where, the model calculates the probability of each class and its easier to compare the predicted probabilities with that of the true class. Hence both the train and test labels were label encoded and One Hot Encoded into a vector of class 8 (since there are 8 diffrent image labels). The output will be a 2d array.\n"
      ],
      "metadata": {
        "id": "zvcrhv7Vu9dM"
      }
    },
    {
      "cell_type": "code",
      "source": [
        "#Initializing the label encoder\n",
        "label_encoder = LabelEncoder()\n",
        "\n",
        "#Training and encoding the labels\n",
        "train_labels = label_encoder.fit_transform(train_labels)\n",
        "test_labels = label_encoder.fit_transform(test_labels)\n",
        "\n",
        "#Mapping the encoded labels to their classes\n",
        "train_labels_mapping=label_encoder.classes_\n",
        "test_labels_mapping=label_encoder.classes_\n",
        "\n",
        "\n",
        "#One hot encoding the classes using keras to_categorical utility\n",
        "train_labels = to_categorical(train_labels, 8)\n",
        "test_labels = to_categorical(test_labels, 8)\n",
        "print(train_labels.shape)\n",
        "print(test_labels.shape)\n"
      ],
      "metadata": {
        "id": "G-E0I-pES5Bg",
        "colab": {
          "base_uri": "https://localhost:8080/"
        },
        "outputId": "c36c1b1e-f248-4038-e987-6faff2fb1fc5"
      },
      "execution_count": null,
      "outputs": [
        {
          "output_type": "stream",
          "name": "stdout",
          "text": [
            "(5959, 8)\n",
            "(940, 8)\n"
          ]
        }
      ]
    },
    {
      "cell_type": "markdown",
      "source": [
        "The images stored in an array had various pixel values with the maximum being 255. To normalize them each element in the array was divided by 255 to normalize the values between 0 and 1. Prior to normalizing, the elements were converted to float values. The conversion to a float values will allow the model to carry out more accurate calculations and the normalization will allow the model to converge faster. This was carried out for both the training and testing image sets."
      ],
      "metadata": {
        "id": "ERllTkx_Znli"
      }
    },
    {
      "cell_type": "code",
      "source": [
        "#Normalizing the pixels and converting them to float values\n",
        "train_images=train_images.astype(\"float32\") / 255\n",
        "test_images=test_images.astype(\"float32\") / 255\n"
      ],
      "metadata": {
        "id": "OcEFFTqES45U"
      },
      "execution_count": null,
      "outputs": []
    },
    {
      "cell_type": "markdown",
      "source": [
        "# Model Construction and Hyperparameter Tunning\n",
        "\n",
        "The model selected for this is a Keras Convolutional Neural Network model from the Keras library. Keras is an API within Tensor Flow, a deep learning framework developed by google. The model is Convolutional Neural Network or CNN for short, is designed specifically for image processing and speech related processing. It is a sequential model since it contains many types of layers which can be added or removed. The layers are connected to each other from which data flows through the neurons. A CNN model contains a convolution layer that uses filters to glide over the images and extract features and patterns. It applies an activation function to eliminate linearity and learn the relationship between the features. The pooling layer followed by the convolution layer then reduces the dimensionality of the learned relationships. The network could also contain a dense layer where every neuron in the dense layer is connected to every neuron in layer in the preceding layer allowing the model to learn the unique features and patterns of the images or speech. The output layer is the final layer of the CNN which has the same number of neurons as the classes it is used to predict, the output layer also contains an activation function that transforms the predictions into an probability distribution where, each probability corresponds to each probability of each class the model is used to predict. Other than the above mentioned layers, the CNN can contain a dropout layer where a random neuron is dropped and its weight therefore are not updated. This is done to regularize the training and prevents overfitting allowing the model to generalize well.\n",
        "\n",
        "Since there are many adjustable hyper-parameters of a CNN, it can be challenging to determine the best combination of parameters that will allow the model to predict accurately. The model was trained various times by adjusting the hyper-parameters and measuring its performance metrics. The tuned hyperparameters and their effect on the performance are detailed in a table below. The columns of the table are as follows:\n",
        "\n",
        "\n",
        "**Layers**: states the number of layers in the CNN including the output layer and the dropout layer  \n",
        "\n",
        "**Con_act**: The activation function applied at the convolution layer\n",
        "\n",
        "**No.Fil**: The number of filters on the convolution layer. The single digits represent the layer on which the filter size was applied, e.g., 1/30 translates to 30 filters were applied to the 1st convolutional layer.\n",
        "\n",
        "**Kernal_size**: The size of the filter matrix used to scan the images for features and patterns. The number preceding the size represents the size of the filter on the layer, e.g. 1(3,3) represents a filter size on the first convolution layer.\n",
        "\n",
        "**Batch**: This is the number of batches that are passed through the network during each iteration.\n",
        "\n",
        "**No. Dense_lay**: This is the number of dense layers in the model. This includes the output layer\n",
        "\n",
        "**No. Dense_neur**: This is the number of neurons in the dense layer Dense act_func: This is the activation function applied at the dense layer of the model.\n",
        "\n",
        "**Learn_rate**: This is the increments at which the weights are updated of features during each pass through.\n",
        "\n",
        "**Loss**: This is the loss function which measures the error between the predicted values and the true values of the model. The type of loss function used is Categorical Cross Entropy commonly used for multiclass predictions.\n",
        "\n",
        "**Acc**: The accuracy by which the model correctly makes the predictions of classes as compared to the overall classes of the model.\n",
        "\n",
        "**Val_loss**: This measures the error between the predicted classes on the validation set vs the actual value of the  classes.\n",
        "\n",
        "**Val_accuracy**: This is a measure of how well the model makes predictions on the validation set.\n",
        "\n",
        "The number of epochs, which is the number of times batches of data is passed through the model for training, was kept constant at 20. This was done as it was observed that passing batches of data more than 20 times resulted in minimum improvement of the measurements, hence having the number of epochs at 20 was sufficient for hyperparameter tunning experiments. The number of maxpooling and convulution layers was also kept constant at 2 however, their activation functions were tunned to measure thier effect on the performance of the model.\n",
        "\n",
        "The  optimizer was kept constant at Adam. This was done because Adam is a commonly used optimizer and is well suited for various tasks including multiclass image classification. The learning rate however was adjusted to tune the performance of the model.\n",
        "\n",
        "The model's performance was measured using the validation data. The splitting of the training data to measure the performance is done automatically in the Keras library and the split can be adjusted. For a robust and accurate measurement of the performance of the model, a 15% split of the training data into a validation data was specified.\n",
        "\n",
        "Not all the hyperparameter of the model could be changed and adjusted. The most effective hyper-parameters were selected in preliminary testing of the model which had the greatest effect on the performance of the model and were within the bounds of the computing capabilites.\n",
        "\n"
      ],
      "metadata": {
        "id": "IdnrHPUYvAgf"
      }
    },
    {
      "cell_type": "code",
      "source": [
        "pd.DataFrame(hp)\n"
      ],
      "metadata": {
        "colab": {
          "base_uri": "https://localhost:8080/",
          "height": 948
        },
        "id": "gsX864LXfzAJ",
        "outputId": "0212ce53-5dda-4339-badc-355532be50be"
      },
      "execution_count": null,
      "outputs": [
        {
          "output_type": "execute_result",
          "data": {
            "text/plain": [
              "   Layers        Con_act        No.Fil    Kernel_size Batch No. Dense_lay  \\\n",
              "0       8  1-relu,2-relu  (1/30, 2/60)  1(3,3),2(3,3)   100             1   \n",
              "1       8  1-relu,2-relu  (1/60, 2/60)  1(3,3),2(3,3)   100             1   \n",
              "2       8  1-relu,2-relu  (1/60, 2/60)  1(5,5),2(5,5)   100             1   \n",
              "3       8  1-relu,2-relu   (1/30,2/30)  1(3,3),2(3,3)   100             1   \n",
              "4       9  1-relu,2-relu   (1/30,2/30)  1(3,3),2(3,3)   100             2   \n",
              "5       9  1-relu,2-relu   (1/30,2/30)  1(3,3),2(3,3)   150             2   \n",
              "6       9  1-relu,2-relu   (1/30,2/30)  1(3,3),2(3,3)   200             2   \n",
              "7       9  1-tanh,2-relu   (1/30,2/30)  1(3,3),2(3,3)   200             2   \n",
              "8       9  1-tanh,2-relu   (1/30,2/30)  1(3,3),2(3,3)   200             2   \n",
              "9       9  1-tanh,2-relu    (1/30,2/30  1(3,3),2(3,3)   200             2   \n",
              "10      9  1-tanh,2-relu   (1/30,2/30)  1(3,3),2(3,3)   200             2   \n",
              "11     10  1-relu,2-relu   (1/32,2/64)  1(3,3),2(3,3)   200             3   \n",
              "12      9  1-relu,2-relu   (1/30,2/30)  1(3,3),2(3,3)   125             2   \n",
              "13     10  1-relu,2-relu   (1/32,2/64)  1(3,3),2(3,3)   100             3   \n",
              "14     10  1-relu,2-relu   (1/32,2/64)  1(3,3),2(3,3)    80             3   \n",
              "\n",
              "   No. Dense_neur              Dense act_func Learn_rate    Loss     Acc  \\\n",
              "0             1/8                   1-Softmax      0.001  0.1599  0.9463   \n",
              "1             1/8                   1-Softmax      0.001  0.1069  0.9643   \n",
              "2             1/8                   1-Softmax      0.001  0.6490  0.7718   \n",
              "3             1/8                   1-Softmax      0.001  0.4914  0.8223   \n",
              "4        1/60,2/8            1-relu,2-Softmax      0.001  0.2635  0.9001   \n",
              "5        1/60,2/8            1-tanh,2-Softmax      0.001  0.1153  0.9518   \n",
              "6        1/60,2/8            1-tanh,2-Softmax      0.001  0.1950  0.9250   \n",
              "7        1/60,2/8            1-tanh,2-Softmax     0.0001  0.4992  0.8241   \n",
              "8        1/80,2/8            1-tanh,2-Softmax     0.0001  0.4891   0.848   \n",
              "9        1/40,2/8            1-tanh,2-Softmax     0.0001  0.5830  0.7962   \n",
              "10       1/40,2/8            1-relu,2-Softmax     0.0001  0.6404  0.7761   \n",
              "11  1/60,2/20,3/8  1-sigmoid,2-tanh,3-Softmax      0.001  0.2082  0.9206   \n",
              "12       1/60,2/8            1-tanh,2-Softmax      0.001  0.1624  0.9390   \n",
              "13  1/60,2/20,3/8  1-Sigmoid,3-tanh,3-Softmax      0.001  0.1814  0.9364   \n",
              "14  1/60,2/20,3/8     1-tanh,3-tanh,3-Softmax      0.001  0.1840  0.9297   \n",
              "\n",
              "   Val_losss Val_accuracy  \n",
              "0      0.591       0.8826  \n",
              "1     0.6337       0.8960  \n",
              "2     0.5559       0.7919  \n",
              "3     0.5213       0.8535  \n",
              "4     0.5117       0.8490  \n",
              "5     0.5454       0.8624  \n",
              "6     0.3006       0.8781  \n",
              "7     0.5333       0.8076  \n",
              "8     0.5646       0.7953  \n",
              "9     0.6030       0.7785  \n",
              "10    0.5820       0.7964  \n",
              "11    0.3189        0.926  \n",
              "12    0.3273       0.8814  \n",
              "13    0.3132       0.8870  \n",
              "14    0.3061       0.8915  "
            ],
            "text/html": [
              "\n",
              "  <div id=\"df-94d09dd5-07bb-4a87-a22d-732cc5e6d183\">\n",
              "    <div class=\"colab-df-container\">\n",
              "      <div>\n",
              "<style scoped>\n",
              "    .dataframe tbody tr th:only-of-type {\n",
              "        vertical-align: middle;\n",
              "    }\n",
              "\n",
              "    .dataframe tbody tr th {\n",
              "        vertical-align: top;\n",
              "    }\n",
              "\n",
              "    .dataframe thead th {\n",
              "        text-align: right;\n",
              "    }\n",
              "</style>\n",
              "<table border=\"1\" class=\"dataframe\">\n",
              "  <thead>\n",
              "    <tr style=\"text-align: right;\">\n",
              "      <th></th>\n",
              "      <th>Layers</th>\n",
              "      <th>Con_act</th>\n",
              "      <th>No.Fil</th>\n",
              "      <th>Kernel_size</th>\n",
              "      <th>Batch</th>\n",
              "      <th>No. Dense_lay</th>\n",
              "      <th>No. Dense_neur</th>\n",
              "      <th>Dense act_func</th>\n",
              "      <th>Learn_rate</th>\n",
              "      <th>Loss</th>\n",
              "      <th>Acc</th>\n",
              "      <th>Val_losss</th>\n",
              "      <th>Val_accuracy</th>\n",
              "    </tr>\n",
              "  </thead>\n",
              "  <tbody>\n",
              "    <tr>\n",
              "      <th>0</th>\n",
              "      <td>8</td>\n",
              "      <td>1-relu,2-relu</td>\n",
              "      <td>(1/30, 2/60)</td>\n",
              "      <td>1(3,3),2(3,3)</td>\n",
              "      <td>100</td>\n",
              "      <td>1</td>\n",
              "      <td>1/8</td>\n",
              "      <td>1-Softmax</td>\n",
              "      <td>0.001</td>\n",
              "      <td>0.1599</td>\n",
              "      <td>0.9463</td>\n",
              "      <td>0.591</td>\n",
              "      <td>0.8826</td>\n",
              "    </tr>\n",
              "    <tr>\n",
              "      <th>1</th>\n",
              "      <td>8</td>\n",
              "      <td>1-relu,2-relu</td>\n",
              "      <td>(1/60, 2/60)</td>\n",
              "      <td>1(3,3),2(3,3)</td>\n",
              "      <td>100</td>\n",
              "      <td>1</td>\n",
              "      <td>1/8</td>\n",
              "      <td>1-Softmax</td>\n",
              "      <td>0.001</td>\n",
              "      <td>0.1069</td>\n",
              "      <td>0.9643</td>\n",
              "      <td>0.6337</td>\n",
              "      <td>0.8960</td>\n",
              "    </tr>\n",
              "    <tr>\n",
              "      <th>2</th>\n",
              "      <td>8</td>\n",
              "      <td>1-relu,2-relu</td>\n",
              "      <td>(1/60, 2/60)</td>\n",
              "      <td>1(5,5),2(5,5)</td>\n",
              "      <td>100</td>\n",
              "      <td>1</td>\n",
              "      <td>1/8</td>\n",
              "      <td>1-Softmax</td>\n",
              "      <td>0.001</td>\n",
              "      <td>0.6490</td>\n",
              "      <td>0.7718</td>\n",
              "      <td>0.5559</td>\n",
              "      <td>0.7919</td>\n",
              "    </tr>\n",
              "    <tr>\n",
              "      <th>3</th>\n",
              "      <td>8</td>\n",
              "      <td>1-relu,2-relu</td>\n",
              "      <td>(1/30,2/30)</td>\n",
              "      <td>1(3,3),2(3,3)</td>\n",
              "      <td>100</td>\n",
              "      <td>1</td>\n",
              "      <td>1/8</td>\n",
              "      <td>1-Softmax</td>\n",
              "      <td>0.001</td>\n",
              "      <td>0.4914</td>\n",
              "      <td>0.8223</td>\n",
              "      <td>0.5213</td>\n",
              "      <td>0.8535</td>\n",
              "    </tr>\n",
              "    <tr>\n",
              "      <th>4</th>\n",
              "      <td>9</td>\n",
              "      <td>1-relu,2-relu</td>\n",
              "      <td>(1/30,2/30)</td>\n",
              "      <td>1(3,3),2(3,3)</td>\n",
              "      <td>100</td>\n",
              "      <td>2</td>\n",
              "      <td>1/60,2/8</td>\n",
              "      <td>1-relu,2-Softmax</td>\n",
              "      <td>0.001</td>\n",
              "      <td>0.2635</td>\n",
              "      <td>0.9001</td>\n",
              "      <td>0.5117</td>\n",
              "      <td>0.8490</td>\n",
              "    </tr>\n",
              "    <tr>\n",
              "      <th>5</th>\n",
              "      <td>9</td>\n",
              "      <td>1-relu,2-relu</td>\n",
              "      <td>(1/30,2/30)</td>\n",
              "      <td>1(3,3),2(3,3)</td>\n",
              "      <td>150</td>\n",
              "      <td>2</td>\n",
              "      <td>1/60,2/8</td>\n",
              "      <td>1-tanh,2-Softmax</td>\n",
              "      <td>0.001</td>\n",
              "      <td>0.1153</td>\n",
              "      <td>0.9518</td>\n",
              "      <td>0.5454</td>\n",
              "      <td>0.8624</td>\n",
              "    </tr>\n",
              "    <tr>\n",
              "      <th>6</th>\n",
              "      <td>9</td>\n",
              "      <td>1-relu,2-relu</td>\n",
              "      <td>(1/30,2/30)</td>\n",
              "      <td>1(3,3),2(3,3)</td>\n",
              "      <td>200</td>\n",
              "      <td>2</td>\n",
              "      <td>1/60,2/8</td>\n",
              "      <td>1-tanh,2-Softmax</td>\n",
              "      <td>0.001</td>\n",
              "      <td>0.1950</td>\n",
              "      <td>0.9250</td>\n",
              "      <td>0.3006</td>\n",
              "      <td>0.8781</td>\n",
              "    </tr>\n",
              "    <tr>\n",
              "      <th>7</th>\n",
              "      <td>9</td>\n",
              "      <td>1-tanh,2-relu</td>\n",
              "      <td>(1/30,2/30)</td>\n",
              "      <td>1(3,3),2(3,3)</td>\n",
              "      <td>200</td>\n",
              "      <td>2</td>\n",
              "      <td>1/60,2/8</td>\n",
              "      <td>1-tanh,2-Softmax</td>\n",
              "      <td>0.0001</td>\n",
              "      <td>0.4992</td>\n",
              "      <td>0.8241</td>\n",
              "      <td>0.5333</td>\n",
              "      <td>0.8076</td>\n",
              "    </tr>\n",
              "    <tr>\n",
              "      <th>8</th>\n",
              "      <td>9</td>\n",
              "      <td>1-tanh,2-relu</td>\n",
              "      <td>(1/30,2/30)</td>\n",
              "      <td>1(3,3),2(3,3)</td>\n",
              "      <td>200</td>\n",
              "      <td>2</td>\n",
              "      <td>1/80,2/8</td>\n",
              "      <td>1-tanh,2-Softmax</td>\n",
              "      <td>0.0001</td>\n",
              "      <td>0.4891</td>\n",
              "      <td>0.848</td>\n",
              "      <td>0.5646</td>\n",
              "      <td>0.7953</td>\n",
              "    </tr>\n",
              "    <tr>\n",
              "      <th>9</th>\n",
              "      <td>9</td>\n",
              "      <td>1-tanh,2-relu</td>\n",
              "      <td>(1/30,2/30</td>\n",
              "      <td>1(3,3),2(3,3)</td>\n",
              "      <td>200</td>\n",
              "      <td>2</td>\n",
              "      <td>1/40,2/8</td>\n",
              "      <td>1-tanh,2-Softmax</td>\n",
              "      <td>0.0001</td>\n",
              "      <td>0.5830</td>\n",
              "      <td>0.7962</td>\n",
              "      <td>0.6030</td>\n",
              "      <td>0.7785</td>\n",
              "    </tr>\n",
              "    <tr>\n",
              "      <th>10</th>\n",
              "      <td>9</td>\n",
              "      <td>1-tanh,2-relu</td>\n",
              "      <td>(1/30,2/30)</td>\n",
              "      <td>1(3,3),2(3,3)</td>\n",
              "      <td>200</td>\n",
              "      <td>2</td>\n",
              "      <td>1/40,2/8</td>\n",
              "      <td>1-relu,2-Softmax</td>\n",
              "      <td>0.0001</td>\n",
              "      <td>0.6404</td>\n",
              "      <td>0.7761</td>\n",
              "      <td>0.5820</td>\n",
              "      <td>0.7964</td>\n",
              "    </tr>\n",
              "    <tr>\n",
              "      <th>11</th>\n",
              "      <td>10</td>\n",
              "      <td>1-relu,2-relu</td>\n",
              "      <td>(1/32,2/64)</td>\n",
              "      <td>1(3,3),2(3,3)</td>\n",
              "      <td>200</td>\n",
              "      <td>3</td>\n",
              "      <td>1/60,2/20,3/8</td>\n",
              "      <td>1-sigmoid,2-tanh,3-Softmax</td>\n",
              "      <td>0.001</td>\n",
              "      <td>0.2082</td>\n",
              "      <td>0.9206</td>\n",
              "      <td>0.3189</td>\n",
              "      <td>0.926</td>\n",
              "    </tr>\n",
              "    <tr>\n",
              "      <th>12</th>\n",
              "      <td>9</td>\n",
              "      <td>1-relu,2-relu</td>\n",
              "      <td>(1/30,2/30)</td>\n",
              "      <td>1(3,3),2(3,3)</td>\n",
              "      <td>125</td>\n",
              "      <td>2</td>\n",
              "      <td>1/60,2/8</td>\n",
              "      <td>1-tanh,2-Softmax</td>\n",
              "      <td>0.001</td>\n",
              "      <td>0.1624</td>\n",
              "      <td>0.9390</td>\n",
              "      <td>0.3273</td>\n",
              "      <td>0.8814</td>\n",
              "    </tr>\n",
              "    <tr>\n",
              "      <th>13</th>\n",
              "      <td>10</td>\n",
              "      <td>1-relu,2-relu</td>\n",
              "      <td>(1/32,2/64)</td>\n",
              "      <td>1(3,3),2(3,3)</td>\n",
              "      <td>100</td>\n",
              "      <td>3</td>\n",
              "      <td>1/60,2/20,3/8</td>\n",
              "      <td>1-Sigmoid,3-tanh,3-Softmax</td>\n",
              "      <td>0.001</td>\n",
              "      <td>0.1814</td>\n",
              "      <td>0.9364</td>\n",
              "      <td>0.3132</td>\n",
              "      <td>0.8870</td>\n",
              "    </tr>\n",
              "    <tr>\n",
              "      <th>14</th>\n",
              "      <td>10</td>\n",
              "      <td>1-relu,2-relu</td>\n",
              "      <td>(1/32,2/64)</td>\n",
              "      <td>1(3,3),2(3,3)</td>\n",
              "      <td>80</td>\n",
              "      <td>3</td>\n",
              "      <td>1/60,2/20,3/8</td>\n",
              "      <td>1-tanh,3-tanh,3-Softmax</td>\n",
              "      <td>0.001</td>\n",
              "      <td>0.1840</td>\n",
              "      <td>0.9297</td>\n",
              "      <td>0.3061</td>\n",
              "      <td>0.8915</td>\n",
              "    </tr>\n",
              "  </tbody>\n",
              "</table>\n",
              "</div>\n",
              "      <button class=\"colab-df-convert\" onclick=\"convertToInteractive('df-94d09dd5-07bb-4a87-a22d-732cc5e6d183')\"\n",
              "              title=\"Convert this dataframe to an interactive table.\"\n",
              "              style=\"display:none;\">\n",
              "        \n",
              "  <svg xmlns=\"http://www.w3.org/2000/svg\" height=\"24px\"viewBox=\"0 0 24 24\"\n",
              "       width=\"24px\">\n",
              "    <path d=\"M0 0h24v24H0V0z\" fill=\"none\"/>\n",
              "    <path d=\"M18.56 5.44l.94 2.06.94-2.06 2.06-.94-2.06-.94-.94-2.06-.94 2.06-2.06.94zm-11 1L8.5 8.5l.94-2.06 2.06-.94-2.06-.94L8.5 2.5l-.94 2.06-2.06.94zm10 10l.94 2.06.94-2.06 2.06-.94-2.06-.94-.94-2.06-.94 2.06-2.06.94z\"/><path d=\"M17.41 7.96l-1.37-1.37c-.4-.4-.92-.59-1.43-.59-.52 0-1.04.2-1.43.59L10.3 9.45l-7.72 7.72c-.78.78-.78 2.05 0 2.83L4 21.41c.39.39.9.59 1.41.59.51 0 1.02-.2 1.41-.59l7.78-7.78 2.81-2.81c.8-.78.8-2.07 0-2.86zM5.41 20L4 18.59l7.72-7.72 1.47 1.35L5.41 20z\"/>\n",
              "  </svg>\n",
              "      </button>\n",
              "      \n",
              "  <style>\n",
              "    .colab-df-container {\n",
              "      display:flex;\n",
              "      flex-wrap:wrap;\n",
              "      gap: 12px;\n",
              "    }\n",
              "\n",
              "    .colab-df-convert {\n",
              "      background-color: #E8F0FE;\n",
              "      border: none;\n",
              "      border-radius: 50%;\n",
              "      cursor: pointer;\n",
              "      display: none;\n",
              "      fill: #1967D2;\n",
              "      height: 32px;\n",
              "      padding: 0 0 0 0;\n",
              "      width: 32px;\n",
              "    }\n",
              "\n",
              "    .colab-df-convert:hover {\n",
              "      background-color: #E2EBFA;\n",
              "      box-shadow: 0px 1px 2px rgba(60, 64, 67, 0.3), 0px 1px 3px 1px rgba(60, 64, 67, 0.15);\n",
              "      fill: #174EA6;\n",
              "    }\n",
              "\n",
              "    [theme=dark] .colab-df-convert {\n",
              "      background-color: #3B4455;\n",
              "      fill: #D2E3FC;\n",
              "    }\n",
              "\n",
              "    [theme=dark] .colab-df-convert:hover {\n",
              "      background-color: #434B5C;\n",
              "      box-shadow: 0px 1px 3px 1px rgba(0, 0, 0, 0.15);\n",
              "      filter: drop-shadow(0px 1px 2px rgba(0, 0, 0, 0.3));\n",
              "      fill: #FFFFFF;\n",
              "    }\n",
              "  </style>\n",
              "\n",
              "      <script>\n",
              "        const buttonEl =\n",
              "          document.querySelector('#df-94d09dd5-07bb-4a87-a22d-732cc5e6d183 button.colab-df-convert');\n",
              "        buttonEl.style.display =\n",
              "          google.colab.kernel.accessAllowed ? 'block' : 'none';\n",
              "\n",
              "        async function convertToInteractive(key) {\n",
              "          const element = document.querySelector('#df-94d09dd5-07bb-4a87-a22d-732cc5e6d183');\n",
              "          const dataTable =\n",
              "            await google.colab.kernel.invokeFunction('convertToInteractive',\n",
              "                                                     [key], {});\n",
              "          if (!dataTable) return;\n",
              "\n",
              "          const docLinkHtml = 'Like what you see? Visit the ' +\n",
              "            '<a target=\"_blank\" href=https://colab.research.google.com/notebooks/data_table.ipynb>data table notebook</a>'\n",
              "            + ' to learn more about interactive tables.';\n",
              "          element.innerHTML = '';\n",
              "          dataTable['output_type'] = 'display_data';\n",
              "          await google.colab.output.renderOutput(dataTable, element);\n",
              "          const docLink = document.createElement('div');\n",
              "          docLink.innerHTML = docLinkHtml;\n",
              "          element.appendChild(docLink);\n",
              "        }\n",
              "      </script>\n",
              "    </div>\n",
              "  </div>\n",
              "  "
            ]
          },
          "metadata": {},
          "execution_count": 18
        }
      ]
    },
    {
      "cell_type": "markdown",
      "source": [
        "From the above table of evaluation measurements of various model architecture and various hyper-parameters, the best architecture was chosen and hyperparameters were taken. The best combination according the the above table was the last one. It showed a high accuracy and had the lowest loss and the lowest validation loss along with a high accuracy on the validation set.\n",
        "\n",
        "Building the CNN model from the chosen combination of hyperparameters entailed 2 convolution layers and 2 maxpooling layers, The first convulution layer has 32 filters and the second one 64. The max pooling layers both had a pooling window of (2,2). Both the convolutional layers had the activation function of 'relu'. The architecture also has 3 dense layers with 60 fully connected neurons in the first one and 20 in the second one. The activation function of the dense layer is 'relu' and 'tanh' for the second one. The last dense layer is the output layer with 8 neurons and an activation function of 'softmax'. The CNN model aslo has a flatten layer that transforms the data into a 1d array, and a dropout layer was placed before the last dense layer which had the activation function 'Softmax'.\n"
      ],
      "metadata": {
        "id": "aC7RuWISgdWO"
      }
    },
    {
      "cell_type": "code",
      "source": [
        "#Specifying the input shape\n",
        "input_shape=(34,34,3)\n",
        "#Building the kears sequential CNN model\n",
        "model_1 = keras.Sequential()\n",
        "\n",
        "#Adding the convolutional and max pooling layer and specifying the input shape and the activation function\n",
        "model_1.add(Conv2D(32,(3,3),1,activation=\"relu\",input_shape=input_shape))\n",
        "model_1.add(MaxPooling2D(pool_size=(2, 2)))\n",
        "\n",
        "model_1.add(Conv2D(64,(3,3),1,activation=\"relu\"))\n",
        "model_1.add(MaxPooling2D(pool_size=(2, 2)))\n",
        "\n",
        "#Adding the dense layers with 60 and 20 neurons and the activation function 'relu' and 'tanh'\n",
        "model_1.add(Dense(60, activation=\"tanh\"))\n",
        "\n",
        "model_1.add(Dense(20, activation=\"tanh\"))\n",
        "#Adding the flattening layer to convert the previous layer data into a 1d array\n",
        "model_1.add(Flatten())\n",
        "model_1.add(layers.Dropout(0.5))\n",
        "#Adding a dense output layer with 8 neurons and the activation function Softmax\n",
        "model_1.add(Dense(8, activation=\"softmax\"))\n",
        "\n",
        "model_1.summary()\n",
        "\n",
        "\n"
      ],
      "metadata": {
        "colab": {
          "base_uri": "https://localhost:8080/"
        },
        "id": "PEGMq1iXo_vn",
        "outputId": "e4cb18b6-f023-45de-aca1-925e4130b3fb"
      },
      "execution_count": null,
      "outputs": [
        {
          "output_type": "stream",
          "name": "stdout",
          "text": [
            "Model: \"sequential_3\"\n",
            "_________________________________________________________________\n",
            " Layer (type)                Output Shape              Param #   \n",
            "=================================================================\n",
            " conv2d_6 (Conv2D)           (None, 32, 32, 32)        896       \n",
            "                                                                 \n",
            " max_pooling2d_6 (MaxPooling  (None, 16, 16, 32)       0         \n",
            " 2D)                                                             \n",
            "                                                                 \n",
            " conv2d_7 (Conv2D)           (None, 14, 14, 64)        18496     \n",
            "                                                                 \n",
            " max_pooling2d_7 (MaxPooling  (None, 7, 7, 64)         0         \n",
            " 2D)                                                             \n",
            "                                                                 \n",
            " dense_9 (Dense)             (None, 7, 7, 60)          3900      \n",
            "                                                                 \n",
            " dense_10 (Dense)            (None, 7, 7, 20)          1220      \n",
            "                                                                 \n",
            " flatten_3 (Flatten)         (None, 980)               0         \n",
            "                                                                 \n",
            " dropout_3 (Dropout)         (None, 980)               0         \n",
            "                                                                 \n",
            " dense_11 (Dense)            (None, 8)                 7848      \n",
            "                                                                 \n",
            "=================================================================\n",
            "Total params: 32,360\n",
            "Trainable params: 32,360\n",
            "Non-trainable params: 0\n",
            "_________________________________________________________________\n"
          ]
        }
      ]
    },
    {
      "cell_type": "markdown",
      "source": [
        "The details of the model can be observed above which shows the number of handeled by each layer as well as the total number of parameters.\n",
        "\n",
        "The batch size of the best selected combination of hyperparameters from the table above was 80 and the learning rate 0.001. The validation split of the data was specified as 15% of the training dataset. The number of epochs was set at 23. In prelimanary trainings with the best hyperparameters, higher settings of epochs returned increasing values for loss and val_loss which increased the risk of over fitting."
      ],
      "metadata": {
        "id": "cLVsxF6UPR0l"
      }
    },
    {
      "cell_type": "code",
      "source": [
        "#Specifying the batch size as well as the epochs and learning rate\n",
        "batch_size = 80\n",
        "epochs = 23\n",
        "learning_rate = 0.001\n",
        "optimizer = Adam(learning_rate=learning_rate)\n",
        "\n",
        "#Prior to training the model, the validation split was specified as 15%\n",
        "model_1.compile(loss=\"categorical_crossentropy\", optimizer=optimizer, metrics=[\"accuracy\"])\n",
        "history=model_1.fit(train_images, train_labels, batch_size=batch_size, epochs=epochs, validation_split=0.15)"
      ],
      "metadata": {
        "colab": {
          "base_uri": "https://localhost:8080/"
        },
        "id": "66BIOK734Fsh",
        "outputId": "3c3d01c3-f291-46ee-c87c-d9ea3fed406e"
      },
      "execution_count": null,
      "outputs": [
        {
          "output_type": "stream",
          "name": "stdout",
          "text": [
            "Epoch 1/23\n",
            "64/64 [==============================] - 10s 148ms/step - loss: 1.5840 - accuracy: 0.4330 - val_loss: 0.9439 - val_accuracy: 0.6700\n",
            "Epoch 2/23\n",
            "64/64 [==============================] - 8s 118ms/step - loss: 0.8052 - accuracy: 0.7181 - val_loss: 0.7043 - val_accuracy: 0.7416\n",
            "Epoch 3/23\n",
            "64/64 [==============================] - 10s 152ms/step - loss: 0.5959 - accuracy: 0.7836 - val_loss: 0.5118 - val_accuracy: 0.8087\n",
            "Epoch 4/23\n",
            "64/64 [==============================] - 8s 127ms/step - loss: 0.5020 - accuracy: 0.8166 - val_loss: 0.4619 - val_accuracy: 0.8356\n",
            "Epoch 5/23\n",
            "64/64 [==============================] - 9s 145ms/step - loss: 0.4462 - accuracy: 0.8304 - val_loss: 0.4275 - val_accuracy: 0.8345\n",
            "Epoch 6/23\n",
            "64/64 [==============================] - 9s 144ms/step - loss: 0.3877 - accuracy: 0.8555 - val_loss: 0.3642 - val_accuracy: 0.8602\n",
            "Epoch 7/23\n",
            "64/64 [==============================] - 8s 118ms/step - loss: 0.3838 - accuracy: 0.8571 - val_loss: 0.3597 - val_accuracy: 0.8557\n",
            "Epoch 8/23\n",
            "64/64 [==============================] - 10s 152ms/step - loss: 0.3315 - accuracy: 0.8766 - val_loss: 0.3560 - val_accuracy: 0.8613\n",
            "Epoch 9/23\n",
            "64/64 [==============================] - 7s 111ms/step - loss: 0.3240 - accuracy: 0.8808 - val_loss: 0.3147 - val_accuracy: 0.8702\n",
            "Epoch 10/23\n",
            "64/64 [==============================] - 9s 144ms/step - loss: 0.2907 - accuracy: 0.8815 - val_loss: 0.3097 - val_accuracy: 0.8826\n",
            "Epoch 11/23\n",
            "64/64 [==============================] - 9s 148ms/step - loss: 0.2790 - accuracy: 0.8942 - val_loss: 0.2881 - val_accuracy: 0.8926\n",
            "Epoch 12/23\n",
            "64/64 [==============================] - 10s 159ms/step - loss: 0.2883 - accuracy: 0.8906 - val_loss: 0.3440 - val_accuracy: 0.8725\n",
            "Epoch 13/23\n",
            "64/64 [==============================] - 10s 150ms/step - loss: 0.2495 - accuracy: 0.9064 - val_loss: 0.2825 - val_accuracy: 0.9004\n",
            "Epoch 14/23\n",
            "64/64 [==============================] - 7s 117ms/step - loss: 0.2431 - accuracy: 0.9009 - val_loss: 0.2656 - val_accuracy: 0.8960\n",
            "Epoch 15/23\n",
            "64/64 [==============================] - 9s 145ms/step - loss: 0.2235 - accuracy: 0.9147 - val_loss: 0.2694 - val_accuracy: 0.8960\n",
            "Epoch 16/23\n",
            "64/64 [==============================] - 8s 117ms/step - loss: 0.2077 - accuracy: 0.9214 - val_loss: 0.3100 - val_accuracy: 0.8848\n",
            "Epoch 17/23\n",
            "64/64 [==============================] - 10s 151ms/step - loss: 0.2056 - accuracy: 0.9218 - val_loss: 0.2516 - val_accuracy: 0.8982\n",
            "Epoch 18/23\n",
            "64/64 [==============================] - 9s 134ms/step - loss: 0.2066 - accuracy: 0.9181 - val_loss: 0.2708 - val_accuracy: 0.8982\n",
            "Epoch 19/23\n",
            "64/64 [==============================] - 8s 126ms/step - loss: 0.1912 - accuracy: 0.9264 - val_loss: 0.2803 - val_accuracy: 0.8960\n",
            "Epoch 20/23\n",
            "64/64 [==============================] - 9s 146ms/step - loss: 0.1881 - accuracy: 0.9283 - val_loss: 0.2434 - val_accuracy: 0.9072\n",
            "Epoch 21/23\n",
            "64/64 [==============================] - 7s 112ms/step - loss: 0.1621 - accuracy: 0.9423 - val_loss: 0.2400 - val_accuracy: 0.9116\n",
            "Epoch 22/23\n",
            "64/64 [==============================] - 10s 151ms/step - loss: 0.1650 - accuracy: 0.9362 - val_loss: 0.2735 - val_accuracy: 0.8949\n",
            "Epoch 23/23\n",
            "64/64 [==============================] - 13s 204ms/step - loss: 0.1575 - accuracy: 0.9396 - val_loss: 0.2461 - val_accuracy: 0.9027\n"
          ]
        }
      ]
    },
    {
      "cell_type": "markdown",
      "source": [
        "The final model achieved a high accuracy of 93.9% and a loss of 0.1575. The validation loss was high at 0.2461 and the validation accuracy approximatly 90%.\n",
        "\n",
        "The plots of the accuracies and losses accross the training and validation set were plotted to visualize the results and analyze if the model was over fitting. The plots of the losses and accuracies indicate that the model is not over fitting as there is a diffrence in the losses and accuracies of the training set to that of the validation set.\n"
      ],
      "metadata": {
        "id": "e3Xk660VMTev"
      }
    },
    {
      "cell_type": "code",
      "source": [
        "#Plotting the accuracy vs the val_accuraccy\n",
        "plt.plot(history.history['accuracy'])\n",
        "#Extracting the model metrics stored in the history variable\n",
        "plt.plot(history.history['val_accuracy'])\n",
        "#Labeling the axes and the legends\n",
        "plt.title(\"Accuracies\")\n",
        "plt.xlabel('Epochs')\n",
        "plt.ylabel('Accuracies')\n",
        "plt.legend(['Accuracy', 'val_acc'])\n",
        "plt.show()"
      ],
      "metadata": {
        "colab": {
          "base_uri": "https://localhost:8080/",
          "height": 472
        },
        "id": "CVa1_7HDzAmX",
        "outputId": "9b576ddc-35bd-4d5e-d0ae-8107c805d094"
      },
      "execution_count": null,
      "outputs": [
        {
          "output_type": "display_data",
          "data": {
            "text/plain": [
              "<Figure size 640x480 with 1 Axes>"
            ],
            "image/png": "[encoded data removed]"
          },
          "metadata": {}
        }
      ]
    },
    {
      "cell_type": "code",
      "source": [
        "plt.plot(history.history['loss'])\n",
        "plt.plot(history.history['val_loss'])\n",
        "plt.title(\"Losses\")\n",
        "plt.xlabel('Epochs')\n",
        "plt.ylabel('loss')\n",
        "plt.legend(['loss', 'val_loss'])\n",
        "plt.show()"
      ],
      "metadata": {
        "colab": {
          "base_uri": "https://localhost:8080/",
          "height": 472
        },
        "id": "pfZShOsjzbbt",
        "outputId": "27cba8cf-d8ab-41db-a4a3-2b74f5ea6050"
      },
      "execution_count": null,
      "outputs": [
        {
          "output_type": "display_data",
          "data": {
            "text/plain": [
              "<Figure size 640x480 with 1 Axes>"
            ],
            "image/png": "[encoded data removed]"
          },
          "metadata": {}
        }
      ]
    },
    {
      "cell_type": "markdown",
      "source": [
        "## Model Evaluation\n",
        "\n",
        "The model was trained with a high degree of accuracy, however, there is a higher difference between the loss and the validation loss. This translates to the model performing well in training but this performance is not replicated on unseen images. However, when evalauting the model on the test images, the model achieves a high accuracy of approximately 94% and low loss of 0.1612."
      ],
      "metadata": {
        "id": "yyu9rfxqbfxG"
      }
    },
    {
      "cell_type": "code",
      "source": [
        "#Evaluating the model on the test images\n",
        "test_loss, test_acc = model_1.evaluate(test_images,  test_labels, verbose=2)\n",
        "\n",
        "print('\\nTest accuracy:', test_acc)\n",
        "print('\\n Test loss:', test_loss)"
      ],
      "metadata": {
        "colab": {
          "base_uri": "https://localhost:8080/"
        },
        "id": "M0qOAMZJcy0r",
        "outputId": "37bb62f4-1e99-4e81-954d-aeab85dc376a"
      },
      "execution_count": null,
      "outputs": [
        {
          "output_type": "stream",
          "name": "stdout",
          "text": [
            "30/30 - 0s - loss: 0.1612 - accuracy: 0.9436 - 389ms/epoch - 13ms/step\n",
            "\n",
            "Test accuracy: 0.943617045879364\n",
            "\n",
            " Test loss: 0.16124624013900757\n"
          ]
        }
      ]
    },
    {
      "cell_type": "markdown",
      "source": [
        "The model can be used to make predictions. The predications made by the model are in the form of probabilities. It calculates the probability of each image belonging to each class or label. The model was asked to predict the label of a  random image from the test set. The prediction output was a probability the image belongs to each class. The model placed the highest probability of the random image (200th image in the test set) as the 6th element at 26.8%."
      ],
      "metadata": {
        "id": "3_KeCORoPM1I"
      }
    },
    {
      "cell_type": "code",
      "source": [
        "#Making predictions using the trained model on a random image in the test set\n",
        "model_1_pred = tf.keras.Sequential([model_1,tf.keras.layers.Softmax()])\n",
        "pred = model_1_pred.predict(test_images)\n",
        "print(pred[200])"
      ],
      "metadata": {
        "colab": {
          "base_uri": "https://localhost:8080/"
        },
        "id": "fL0zlfNZPKbZ",
        "outputId": "577e94f4-d4ce-4d61-a30f-55b6f19aca34"
      },
      "execution_count": null,
      "outputs": [
        {
          "output_type": "stream",
          "name": "stdout",
          "text": [
            "30/30 [==============================] - 1s 19ms/step\n",
            "[0.10378569 0.10912505 0.10378461 0.10378516 0.10386617 0.10378406\n",
            " 0.2680847  0.10378451]\n"
          ]
        }
      ]
    },
    {
      "cell_type": "markdown",
      "source": [
        "The label belononging to the highest probabilty of the pridiction was the 6th element of the one hot encoded test labels. To see if the prediction was correct, the assigned integers to the label were printed. From that it can be seen that the number 6 belongs to the image of a motorbike."
      ],
      "metadata": {
        "id": "4BSk0od7Ri9I"
      }
    },
    {
      "cell_type": "code",
      "source": [
        "#Prinitng the label\n",
        "print('label of the random prediction:',(np.argmax(pred[200])))\n",
        "print('-------------------------------------------------------')\n",
        "\n",
        "#Mapping the labels encoder to the image labels\n",
        "for i, label in enumerate(train_labels_mapping):\n",
        "    print(i, label)"
      ],
      "metadata": {
        "colab": {
          "base_uri": "https://localhost:8080/"
        },
        "id": "ERxgU51dPqF2",
        "outputId": "7d21a2a4-643b-4975-cfce-c10351d0c043"
      },
      "execution_count": null,
      "outputs": [
        {
          "output_type": "stream",
          "name": "stdout",
          "text": [
            "label of the random prediction: 6\n",
            "-------------------------------------------------------\n",
            "0 airplane\n",
            "1 car\n",
            "2 cat\n",
            "3 dog\n",
            "4 flower\n",
            "5 fruit\n",
            "6 motorbike\n",
            "7 person\n"
          ]
        }
      ]
    },
    {
      "cell_type": "markdown",
      "source": [
        "To know if the prediction made by the model of the random image is correct, the image was plotted which showed that the model correctly identified the random image as that of a motorbike."
      ],
      "metadata": {
        "id": "yEJq0T1CTNHt"
      }
    },
    {
      "cell_type": "code",
      "source": [
        "plt_of_pred = test_images[200]\n",
        "plt.imshow(plt_of_pred)\n"
      ],
      "metadata": {
        "colab": {
          "base_uri": "https://localhost:8080/",
          "height": 448
        },
        "id": "wROpCtxZPyYv",
        "outputId": "30846624-4b5b-40a2-f61c-be49436b3a62"
      },
      "execution_count": null,
      "outputs": [
        {
          "output_type": "execute_result",
          "data": {
            "text/plain": [
              "<matplotlib.image.AxesImage at 0x7f8d13a578b0>"
            ]
          },
          "metadata": {},
          "execution_count": 50
        },
        {
          "output_type": "display_data",
          "data": {
            "text/plain": [
              "<Figure size 640x480 with 1 Axes>"
            ],
            "image/png": "[encoded data removed]"
          },
          "metadata": {}
        }
      ]
    },
    {
      "cell_type": "markdown",
      "source": [
        "Plotting the confusion matrix will allow for a better understanding of predictions along with the mapped labels of the test and train labels. From the confusion matrix, the model performed very well and predicted the majority of the classes correctly from the unseen images. The largest error was in the prediction of dog images which were predicted as cats."
      ],
      "metadata": {
        "id": "DS3ZpROXnMZK"
      }
    },
    {
      "cell_type": "code",
      "source": [
        "fig = plt.figure(figsize=(5, 5))\n",
        "#Getting the image predictions of the model on the test images\n",
        "cm_pred = np.argmax(model_1.predict(test_images), 1)\n",
        "cm_test = np.argmax(test_labels, 1)\n",
        "#Calculating the confusion matrix and plotting the values\n",
        "con = confusion_matrix(cm_test, cm_pred)\n",
        "sns.heatmap(con.T, square=True, annot=True, cbar=False, cmap=plt.cm.Reds, fmt='.0f')\n",
        "plt.xlabel('Predicted')\n",
        "plt.ylabel('True');\n",
        "plt.show();\n",
        "\n",
        "for i, label in enumerate(train_labels_mapping):\n",
        "    print(i, label)"
      ],
      "metadata": {
        "colab": {
          "base_uri": "https://localhost:8080/",
          "height": 626
        },
        "id": "n-SeQSaGtGDh",
        "outputId": "304ce456-be9f-4dad-bac2-a503ad6109f0"
      },
      "execution_count": null,
      "outputs": [
        {
          "output_type": "stream",
          "name": "stdout",
          "text": [
            "30/30 [==============================] - 1s 26ms/step\n"
          ]
        },
        {
          "output_type": "display_data",
          "data": {
            "text/plain": [
              "<Figure size 500x500 with 1 Axes>"
            ],
            "image/png": "[encoded data removed]"
          },
          "metadata": {}
        },
        {
          "output_type": "stream",
          "name": "stdout",
          "text": [
            "0 airplane\n",
            "1 car\n",
            "2 cat\n",
            "3 dog\n",
            "4 flower\n",
            "5 fruit\n",
            "6 motorbike\n",
            "7 person\n"
          ]
        }
      ]
    },
    {
      "cell_type": "markdown",
      "source": [
        "# Conclusion\n",
        "\n",
        "The convolutional model designed correctly identified the majority of the test images. However, the model struggled to differentiate between the images of a cat and a dog, this might be due to the images sharing a features certain patterns that the model was unable to differentiate between. The model's prediction capabilites could be improved if the images used to train the model were larger where the convolution filter would be able identify more distinct features which was not possible due to the limited computing capabilites for this task. A larger set of images of each label could also be used to train the model so that the model learns more diverse and important features and patterns. Overall, the model performed well in identifying and distinguishing between the sets of unseen images and correctly labeling them."
      ],
      "metadata": {
        "id": "5E7NAgVGuxi_"
      }
    },
    {
      "cell_type": "code",
      "source": [
        "#HYPER-PARAMETER TUNNING TABLE.\n",
        "\n",
        "hp={'Layers':['8', '8','8','8','9','9','9','9','9','9','9','10','9','10','10'],\n",
        "\n",
        "'Con_act':['1-relu,2-relu', '1-relu,2-relu','1-relu,2-relu','1-relu,2-relu','1-relu,2-relu','1-relu,2-relu','1-relu,2-relu','1-tanh,2-relu','1-tanh,2-relu','1-tanh,2-relu','1-tanh,2-relu','1-relu,2-relu','1-relu,2-relu','1-relu,2-relu','1-relu,2-relu'],\n",
        "\n",
        "'No.Fil':[('1/30','2/60'), ('1/60','2/60'),('1/60','2/60'),'(1/30,2/30)','(1/30,2/30)','(1/30,2/30)','(1/30,2/30)','(1/30,2/30)','(1/30,2/30)','(1/30,2/30','(1/30,2/30)','(1/32,2/64)','(1/30,2/30)','(1/32,2/64)','(1/32,2/64)'],\n",
        "\n",
        "'Kernel_size':['1(3,3),2(3,3)', '1(3,3),2(3,3)','1(5,5),2(5,5)','1(3,3),2(3,3)','1(3,3),2(3,3)','1(3,3),2(3,3)','1(3,3),2(3,3)','1(3,3),2(3,3)','1(3,3),2(3,3)','1(3,3),2(3,3)','1(3,3),2(3,3)','1(3,3),2(3,3)','1(3,3),2(3,3)','1(3,3),2(3,3)','1(3,3),2(3,3)'],\n",
        "\n",
        "'Batch':['100','100','100','100','100','150','200','200','200','200','200','200','125','100','80'],\n",
        "\n",
        "'No. Dense_lay':['1','1','1','1','2','2','2','2','2','2','2','3','2','3','3'],\n",
        "\n",
        "'No. Dense_neur':['1/8','1/8','1/8','1/8','1/60,2/8','1/60,2/8','1/60,2/8','1/60,2/8','1/80,2/8','1/40,2/8','1/40,2/8','1/60,2/20,3/8','1/60,2/8','1/60,2/20,3/8','1/60,2/20,3/8'],\n",
        "\n",
        "'Dense act_func':['1-Softmax','1-Softmax','1-Softmax','1-Softmax','1-relu,2-Softmax','1-tanh,2-Softmax','1-tanh,2-Softmax','1-tanh,2-Softmax','1-tanh,2-Softmax','1-tanh,2-Softmax','1-relu,2-Softmax','1-sigmoid,2-tanh,3-Softmax','1-tanh,2-Softmax','1-Sigmoid,3-tanh,3-Softmax','1-tanh,3-tanh,3-Softmax'],\n",
        "\n",
        "'Learn_rate':['0.001','0.001','0.001','0.001','0.001','0.001','0.001','0.0001','0.0001','0.0001','0.0001','0.001','0.001','0.001','0.001'],\n",
        "\n",
        "'Loss':['0.1599','0.1069','0.6490','0.4914','0.2635','0.1153','0.1950','0.4992','0.4891','0.5830','0.6404','0.2082','0.1624','0.1814','0.1840'],\n",
        "\n",
        "'Acc':['0.9463','0.9643','0.7718','0.8223','0.9001','0.9518','0.9250','0.8241','0.848','0.7962','0.7761','0.9206','0.9390','0.9364','0.9297'],\n",
        "\n",
        "'Val_losss':['0.591',\"0.6337\",'0.5559','0.5213','0.5117','0.5454','0.3006','0.5333','0.5646','0.6030','0.5820','0.3189','0.3273','0.3132','0.3061'],\n",
        "\n",
        "'Val_accuracy':['0.8826','0.8960','0.7919','0.8535','0.8490','0.8624','0.8781',' 0.8076','0.7953','0.7785','0.7964','0.926','0.8814','0.8870','0.8915']\n",
        "}\n"
      ],
      "metadata": {
        "id": "wz5qTL--oojt"
      },
      "execution_count": null,
      "outputs": []
    },
    {
      "cell_type": "code",
      "source": [],
      "metadata": {
        "id": "veuTxgED5pem"
      },
      "execution_count": null,
      "outputs": []
    }
  ]
}