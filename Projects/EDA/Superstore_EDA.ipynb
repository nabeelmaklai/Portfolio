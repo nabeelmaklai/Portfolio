{
  "nbformat": 4,
  "nbformat_minor": 0,
  "metadata": {
    "colab": {
      "provenance": []
    },
    "kernelspec": {
      "name": "python3",
      "display_name": "Python 3"
    },
    "language_info": {
      "name": "python"
    }
  },
  "cells": [
    {
      "cell_type": "markdown",
      "source": [
        "A US office equipment store chain seeks to enhance its shipping operations' resilience across multiple locations.  To assist with the analysis the following business questions need to be answered:\n",
        "\n",
        "1. Which region had the highest profit and which category in that region was the highest grossing for each shipping type\n",
        "2. What were the sales and profits for all and each shipping mode\n",
        "3. What were the top states and cities in-terms of sales and profits\n",
        "4. What was the unit sale price for each product shipped, which category and sub-category products had the highest sales and profit\n",
        "5. what category, sub-category, region and city incured the greatest loss\n",
        "6. Which sub-categories with losses had discount on the products\n",
        "7. Which product was shipped the most by the most popular shipping mode\n",
        "8. What the sales and profit figures for each segment\n",
        "9. Which segment grossed the highest profit and the sales and loss and what was their preferred shipping method"
      ],
      "metadata": {
        "id": "hwByyGdn1WtS"
      }
    },
    {
      "cell_type": "markdown",
      "source": [
        "To analyze the data set the appropiate libraries need to be imported. For the analysis section, Pandas python libarary is used. Pandas is a libarary writte for Python programming langauge and is used for data manipulation and analysis. matplotlib is a pyhton library that is used for visualizations of the data."
      ],
      "metadata": {
        "id": "2OA1UDTC2OiY"
      }
    },
    {
      "cell_type": "code",
      "source": [
        "import pandas as pd\n",
        "import matplotlib.pyplot as plt"
      ],
      "metadata": {
        "id": "FV-ZWYUn2Dld"
      },
      "execution_count": null,
      "outputs": []
    },
    {
      "cell_type": "code",
      "source": [
        "df=pd.read_csv('SampleSuperstore.csv') #Pandas is used to read the dataset and store it in a variable df\n",
        "df.head() # Used to display the first 5 rows of the dataset, more rows can be displayed by entering the number between the parentheses"
      ],
      "metadata": {
        "colab": {
          "base_uri": "https://localhost:8080/",
          "height": 354
        },
        "id": "psQE72mD2Nqm",
        "outputId": "386f299e-51d9-4b45-ed04-3dffc61141a9"
      },
      "execution_count": null,
      "outputs": [
        {
          "output_type": "execute_result",
          "data": {
            "text/plain": [
              "        Ship Mode    Segment        Country             City       State  \\\n",
              "0    Second Class   Consumer  United States        Henderson    Kentucky   \n",
              "1    Second Class   Consumer  United States        Henderson    Kentucky   \n",
              "2    Second Class  Corporate  United States      Los Angeles  California   \n",
              "3  Standard Class   Consumer  United States  Fort Lauderdale     Florida   \n",
              "4  Standard Class   Consumer  United States  Fort Lauderdale     Florida   \n",
              "\n",
              "   Postal Code Region         Category Sub-Category     Sales  Quantity  \\\n",
              "0        42420  South        Furniture    Bookcases  261.9600         2   \n",
              "1        42420  South        Furniture       Chairs  731.9400         3   \n",
              "2        90036   West  Office Supplies       Labels   14.6200         2   \n",
              "3        33311  South        Furniture       Tables  957.5775         5   \n",
              "4        33311  South  Office Supplies      Storage   22.3680         2   \n",
              "\n",
              "   Discount    Profit  \n",
              "0      0.00   41.9136  \n",
              "1      0.00  219.5820  \n",
              "2      0.00    6.8714  \n",
              "3      0.45 -383.0310  \n",
              "4      0.20    2.5164  "
            ],
            "text/html": [
              "\n",
              "  <div id=\"df-e8eca7c0-5a92-488f-a7ec-91b7661fdd78\">\n",
              "    <div class=\"colab-df-container\">\n",
              "      <div>\n",
              "<style scoped>\n",
              "    .dataframe tbody tr th:only-of-type {\n",
              "        vertical-align: middle;\n",
              "    }\n",
              "\n",
              "    .dataframe tbody tr th {\n",
              "        vertical-align: top;\n",
              "    }\n",
              "\n",
              "    .dataframe thead th {\n",
              "        text-align: right;\n",
              "    }\n",
              "</style>\n",
              "<table border=\"1\" class=\"dataframe\">\n",
              "  <thead>\n",
              "    <tr style=\"text-align: right;\">\n",
              "      <th></th>\n",
              "      <th>Ship Mode</th>\n",
              "      <th>Segment</th>\n",
              "      <th>Country</th>\n",
              "      <th>City</th>\n",
              "      <th>State</th>\n",
              "      <th>Postal Code</th>\n",
              "      <th>Region</th>\n",
              "      <th>Category</th>\n",
              "      <th>Sub-Category</th>\n",
              "      <th>Sales</th>\n",
              "      <th>Quantity</th>\n",
              "      <th>Discount</th>\n",
              "      <th>Profit</th>\n",
              "    </tr>\n",
              "  </thead>\n",
              "  <tbody>\n",
              "    <tr>\n",
              "      <th>0</th>\n",
              "      <td>Second Class</td>\n",
              "      <td>Consumer</td>\n",
              "      <td>United States</td>\n",
              "      <td>Henderson</td>\n",
              "      <td>Kentucky</td>\n",
              "      <td>42420</td>\n",
              "      <td>South</td>\n",
              "      <td>Furniture</td>\n",
              "      <td>Bookcases</td>\n",
              "      <td>261.9600</td>\n",
              "      <td>2</td>\n",
              "      <td>0.00</td>\n",
              "      <td>41.9136</td>\n",
              "    </tr>\n",
              "    <tr>\n",
              "      <th>1</th>\n",
              "      <td>Second Class</td>\n",
              "      <td>Consumer</td>\n",
              "      <td>United States</td>\n",
              "      <td>Henderson</td>\n",
              "      <td>Kentucky</td>\n",
              "      <td>42420</td>\n",
              "      <td>South</td>\n",
              "      <td>Furniture</td>\n",
              "      <td>Chairs</td>\n",
              "      <td>731.9400</td>\n",
              "      <td>3</td>\n",
              "      <td>0.00</td>\n",
              "      <td>219.5820</td>\n",
              "    </tr>\n",
              "    <tr>\n",
              "      <th>2</th>\n",
              "      <td>Second Class</td>\n",
              "      <td>Corporate</td>\n",
              "      <td>United States</td>\n",
              "      <td>Los Angeles</td>\n",
              "      <td>California</td>\n",
              "      <td>90036</td>\n",
              "      <td>West</td>\n",
              "      <td>Office Supplies</td>\n",
              "      <td>Labels</td>\n",
              "      <td>14.6200</td>\n",
              "      <td>2</td>\n",
              "      <td>0.00</td>\n",
              "      <td>6.8714</td>\n",
              "    </tr>\n",
              "    <tr>\n",
              "      <th>3</th>\n",
              "      <td>Standard Class</td>\n",
              "      <td>Consumer</td>\n",
              "      <td>United States</td>\n",
              "      <td>Fort Lauderdale</td>\n",
              "      <td>Florida</td>\n",
              "      <td>33311</td>\n",
              "      <td>South</td>\n",
              "      <td>Furniture</td>\n",
              "      <td>Tables</td>\n",
              "      <td>957.5775</td>\n",
              "      <td>5</td>\n",
              "      <td>0.45</td>\n",
              "      <td>-383.0310</td>\n",
              "    </tr>\n",
              "    <tr>\n",
              "      <th>4</th>\n",
              "      <td>Standard Class</td>\n",
              "      <td>Consumer</td>\n",
              "      <td>United States</td>\n",
              "      <td>Fort Lauderdale</td>\n",
              "      <td>Florida</td>\n",
              "      <td>33311</td>\n",
              "      <td>South</td>\n",
              "      <td>Office Supplies</td>\n",
              "      <td>Storage</td>\n",
              "      <td>22.3680</td>\n",
              "      <td>2</td>\n",
              "      <td>0.20</td>\n",
              "      <td>2.5164</td>\n",
              "    </tr>\n",
              "  </tbody>\n",
              "</table>\n",
              "</div>\n",
              "      <button class=\"colab-df-convert\" onclick=\"convertToInteractive('df-e8eca7c0-5a92-488f-a7ec-91b7661fdd78')\"\n",
              "              title=\"Convert this dataframe to an interactive table.\"\n",
              "              style=\"display:none;\">\n",
              "        \n",
              "  <svg xmlns=\"http://www.w3.org/2000/svg\" height=\"24px\"viewBox=\"0 0 24 24\"\n",
              "       width=\"24px\">\n",
              "    <path d=\"M0 0h24v24H0V0z\" fill=\"none\"/>\n",
              "    <path d=\"M18.56 5.44l.94 2.06.94-2.06 2.06-.94-2.06-.94-.94-2.06-.94 2.06-2.06.94zm-11 1L8.5 8.5l.94-2.06 2.06-.94-2.06-.94L8.5 2.5l-.94 2.06-2.06.94zm10 10l.94 2.06.94-2.06 2.06-.94-2.06-.94-.94-2.06-.94 2.06-2.06.94z\"/><path d=\"M17.41 7.96l-1.37-1.37c-.4-.4-.92-.59-1.43-.59-.52 0-1.04.2-1.43.59L10.3 9.45l-7.72 7.72c-.78.78-.78 2.05 0 2.83L4 21.41c.39.39.9.59 1.41.59.51 0 1.02-.2 1.41-.59l7.78-7.78 2.81-2.81c.8-.78.8-2.07 0-2.86zM5.41 20L4 18.59l7.72-7.72 1.47 1.35L5.41 20z\"/>\n",
              "  </svg>\n",
              "      </button>\n",
              "      \n",
              "  <style>\n",
              "    .colab-df-container {\n",
              "      display:flex;\n",
              "      flex-wrap:wrap;\n",
              "      gap: 12px;\n",
              "    }\n",
              "\n",
              "    .colab-df-convert {\n",
              "      background-color: #E8F0FE;\n",
              "      border: none;\n",
              "      border-radius: 50%;\n",
              "      cursor: pointer;\n",
              "      display: none;\n",
              "      fill: #1967D2;\n",
              "      height: 32px;\n",
              "      padding: 0 0 0 0;\n",
              "      width: 32px;\n",
              "    }\n",
              "\n",
              "    .colab-df-convert:hover {\n",
              "      background-color: #E2EBFA;\n",
              "      box-shadow: 0px 1px 2px rgba(60, 64, 67, 0.3), 0px 1px 3px 1px rgba(60, 64, 67, 0.15);\n",
              "      fill: #174EA6;\n",
              "    }\n",
              "\n",
              "    [theme=dark] .colab-df-convert {\n",
              "      background-color: #3B4455;\n",
              "      fill: #D2E3FC;\n",
              "    }\n",
              "\n",
              "    [theme=dark] .colab-df-convert:hover {\n",
              "      background-color: #434B5C;\n",
              "      box-shadow: 0px 1px 3px 1px rgba(0, 0, 0, 0.15);\n",
              "      filter: drop-shadow(0px 1px 2px rgba(0, 0, 0, 0.3));\n",
              "      fill: #FFFFFF;\n",
              "    }\n",
              "  </style>\n",
              "\n",
              "      <script>\n",
              "        const buttonEl =\n",
              "          document.querySelector('#df-e8eca7c0-5a92-488f-a7ec-91b7661fdd78 button.colab-df-convert');\n",
              "        buttonEl.style.display =\n",
              "          google.colab.kernel.accessAllowed ? 'block' : 'none';\n",
              "\n",
              "        async function convertToInteractive(key) {\n",
              "          const element = document.querySelector('#df-e8eca7c0-5a92-488f-a7ec-91b7661fdd78');\n",
              "          const dataTable =\n",
              "            await google.colab.kernel.invokeFunction('convertToInteractive',\n",
              "                                                     [key], {});\n",
              "          if (!dataTable) return;\n",
              "\n",
              "          const docLinkHtml = 'Like what you see? Visit the ' +\n",
              "            '<a target=\"_blank\" href=https://colab.research.google.com/notebooks/data_table.ipynb>data table notebook</a>'\n",
              "            + ' to learn more about interactive tables.';\n",
              "          element.innerHTML = '';\n",
              "          dataTable['output_type'] = 'display_data';\n",
              "          await google.colab.output.renderOutput(dataTable, element);\n",
              "          const docLink = document.createElement('div');\n",
              "          docLink.innerHTML = docLinkHtml;\n",
              "          element.appendChild(docLink);\n",
              "        }\n",
              "      </script>\n",
              "    </div>\n",
              "  </div>\n",
              "  "
            ]
          },
          "metadata": {},
          "execution_count": 2
        }
      ]
    },
    {
      "cell_type": "code",
      "source": [
        "df.shape #looking at the size of the dataset"
      ],
      "metadata": {
        "colab": {
          "base_uri": "https://localhost:8080/"
        },
        "id": "gdj0cyTy7Ing",
        "outputId": "42c80f38-da75-4836-ef44-d360e25f3dcc"
      },
      "execution_count": null,
      "outputs": [
        {
          "output_type": "execute_result",
          "data": {
            "text/plain": [
              "(9994, 13)"
            ]
          },
          "metadata": {},
          "execution_count": 3
        }
      ]
    },
    {
      "cell_type": "markdown",
      "source": [
        "To understand the dataset, some data exploration is required. This is particularly important as it allows for the data scientists to account for discrete and missing values which may effect the result of the analysis. Through the data exploration a data scientist can also understand the dataset better which makes navigating the dataset easier."
      ],
      "metadata": {
        "id": "8aiKS7x23d8P"
      }
    },
    {
      "cell_type": "code",
      "source": [
        "df.isnull().sum() #Looking for null values in rows and summing their counts."
      ],
      "metadata": {
        "colab": {
          "base_uri": "https://localhost:8080/"
        },
        "id": "QkeZm4vI3c9O",
        "outputId": "0ea831b6-b0b5-4e9f-bd3e-cb5ad5b404e1"
      },
      "execution_count": null,
      "outputs": [
        {
          "output_type": "execute_result",
          "data": {
            "text/plain": [
              "Ship Mode       0\n",
              "Segment         0\n",
              "Country         0\n",
              "City            0\n",
              "State           0\n",
              "Postal Code     0\n",
              "Region          0\n",
              "Category        0\n",
              "Sub-Category    0\n",
              "Sales           0\n",
              "Quantity        0\n",
              "Discount        0\n",
              "Profit          0\n",
              "dtype: int64"
            ]
          },
          "metadata": {},
          "execution_count": 4
        }
      ]
    },
    {
      "cell_type": "markdown",
      "source": [
        "No null values in the dataset"
      ],
      "metadata": {
        "id": "eduFXsIG5F9W"
      }
    },
    {
      "cell_type": "code",
      "source": [
        "df.nunique() # Counting the number of distinct values in each column"
      ],
      "metadata": {
        "colab": {
          "base_uri": "https://localhost:8080/"
        },
        "id": "V482y4-B5H2m",
        "outputId": "4234dbc6-d0b8-4409-fc43-8a0d3dd3f255"
      },
      "execution_count": null,
      "outputs": [
        {
          "output_type": "execute_result",
          "data": {
            "text/plain": [
              "Ship Mode          4\n",
              "Segment            3\n",
              "Country            1\n",
              "City             531\n",
              "State             49\n",
              "Postal Code      631\n",
              "Region             4\n",
              "Category           3\n",
              "Sub-Category      17\n",
              "Sales           5825\n",
              "Quantity          14\n",
              "Discount          12\n",
              "Profit          7287\n",
              "dtype: int64"
            ]
          },
          "metadata": {},
          "execution_count": 5
        }
      ]
    },
    {
      "cell_type": "markdown",
      "source": [
        "The above synatx displays the distict values in each column. As can be seen above, the dataset includes data for 531 cities spread accross 49 states and 4 regions. there are 3 segments and 4 ship modes. There are 3 product catergories and 17 sub-catergories. Interestingly, there are only 14 unique values for the quantity of products sold. That is, the customers order only 14 distict number of products.\n",
        "\n",
        "The data set looks well organized and there are no missing or discrete values hence, no cleaning is required."
      ],
      "metadata": {
        "id": "13ytqzT65kzN"
      }
    },
    {
      "cell_type": "code",
      "source": [
        "df.dtypes\n"
      ],
      "metadata": {
        "colab": {
          "base_uri": "https://localhost:8080/"
        },
        "id": "WTw5PVzxuX3S",
        "outputId": "ba7c30ac-7898-4753-f43a-be406a9973fe"
      },
      "execution_count": null,
      "outputs": [
        {
          "output_type": "execute_result",
          "data": {
            "text/plain": [
              "Ship Mode        object\n",
              "Segment          object\n",
              "Country          object\n",
              "City             object\n",
              "State            object\n",
              "Postal Code       int64\n",
              "Region           object\n",
              "Category         object\n",
              "Sub-Category     object\n",
              "Sales           float64\n",
              "Quantity          int64\n",
              "Discount        float64\n",
              "Profit          float64\n",
              "dtype: object"
            ]
          },
          "metadata": {},
          "execution_count": 6
        }
      ]
    },
    {
      "cell_type": "markdown",
      "source": [
        "The above syntax .dtype displays the type of elements in each column.  The postal code and the quantity are integers whereas discount sales and profit are floats.  This feature is useful if the difference contains a large number of columns"
      ],
      "metadata": {
        "id": "R5Se_qUQu6AA"
      }
    },
    {
      "cell_type": "markdown",
      "source": [
        "1. **Which region had the highest profit and which category in that region was the highest grossing**"
      ],
      "metadata": {
        "id": "2UVmePRqBVg6"
      }
    },
    {
      "cell_type": "code",
      "source": [
        "dfhpr=df.groupby([\"Region\"])[\"Profit\"].sum().nlargest()\n",
        "# cretaing a sub-dataset by grouping by region taking the  the sum of the profits and the largest value\n",
        "print(dfhpr) # Syntax to Print the variable dfhpr\n"
      ],
      "metadata": {
        "colab": {
          "base_uri": "https://localhost:8080/"
        },
        "id": "v75xvEzM7m9n",
        "outputId": "1f731e8f-2070-4932-832a-2b8b9f8ab406"
      },
      "execution_count": null,
      "outputs": [
        {
          "output_type": "stream",
          "name": "stdout",
          "text": [
            "Region\n",
            "West       108418.4489\n",
            "East        91522.7800\n",
            "South       46749.4303\n",
            "Central     39706.3625\n",
            "Name: Profit, dtype: float64\n"
          ]
        }
      ]
    },
    {
      "cell_type": "markdown",
      "source": [
        "The region with the highest profit was the West region with a value of 108,418"
      ],
      "metadata": {
        "id": "euxWtsE-xDJn"
      }
    },
    {
      "cell_type": "code",
      "source": [
        "dfhpr.plot(kind='bar',figsize=(10,5)) # Plotting a bar graph of regions and their profits\n",
        "plt.xlabel('Region')\n",
        "plt.ylabel('Total Profit')\n",
        "plt.title('TProfit by region')\n",
        "plt.show()"
      ],
      "metadata": {
        "colab": {
          "base_uri": "https://localhost:8080/",
          "height": 376
        },
        "id": "P-Ar-5TwKWNZ",
        "outputId": "db9030b4-3a93-4db2-9ceb-47ba4264e9f2"
      },
      "execution_count": null,
      "outputs": [
        {
          "output_type": "display_data",
          "data": {
            "text/plain": [
              "<Figure size 720x360 with 1 Axes>"
            ],
            "image/png": "[encoded data removed]"
          },
          "metadata": {
            "needs_background": "light"
          }
        }
      ]
    },
    {
      "cell_type": "markdown",
      "source": [
        "As can be seen in the above graph, the highest profit region was West followed by East then South and Central was the least profitable region"
      ],
      "metadata": {
        "id": "cqBNZLPkybeD"
      }
    },
    {
      "cell_type": "code",
      "source": [
        "dfhprw=df.loc[(df['Region']=='West')] # Accessing only the West region of the sub-dataset\n",
        "dfhprw.groupby([\"Category\"])[\"Profit\"].sum().nlargest() # Summing up the profit by Category and ordering it by the largest"
      ],
      "metadata": {
        "colab": {
          "base_uri": "https://localhost:8080/"
        },
        "id": "vRSFPyuHEI9b",
        "outputId": "6a3d1108-7d12-4b0d-c970-27137229593b"
      },
      "execution_count": null,
      "outputs": [
        {
          "output_type": "execute_result",
          "data": {
            "text/plain": [
              "Category\n",
              "Office Supplies    52609.8490\n",
              "Technology         44303.6496\n",
              "Furniture          11504.9503\n",
              "Name: Profit, dtype: float64"
            ]
          },
          "metadata": {},
          "execution_count": 9
        }
      ]
    },
    {
      "cell_type": "markdown",
      "source": [
        "The highest profit making category were the Office Supplies with a value of 52,609"
      ],
      "metadata": {
        "id": "gALywKnxxKSa"
      }
    },
    {
      "cell_type": "code",
      "source": [
        "dfhprw.groupby([\"Category\"])[\"Profit\"].sum().nlargest().plot(kind='bar',figsize=(10,5)) # Plotting a bar graph of Category and total Profit\n",
        "plt.xlabel('Category') #x-axis label\n",
        "plt.ylabel('Total Profit')# y-axis label\n",
        "plt.title('West Profit by Category') #plot title\n",
        "plt.show()"
      ],
      "metadata": {
        "colab": {
          "base_uri": "https://localhost:8080/",
          "height": 415
        },
        "id": "-oYQURn6Cg2I",
        "outputId": "f28a394b-fa9e-4a2e-fe39-8645bb6743d5"
      },
      "execution_count": null,
      "outputs": [
        {
          "output_type": "display_data",
          "data": {
            "text/plain": [
              "<Figure size 720x360 with 1 Axes>"
            ],
            "image/png": "[encoded data removed]"
          },
          "metadata": {
            "needs_background": "light"
          }
        }
      ]
    },
    {
      "cell_type": "markdown",
      "source": [
        "In the above bar graph office supply had the highest profit followed by technology and lastly furniture in the west region"
      ],
      "metadata": {
        "id": "OpNAlqp2x5ou"
      }
    },
    {
      "cell_type": "markdown",
      "source": [
        "**2. What were the sales and profits for all and each shipping mode**\n",
        "\n"
      ],
      "metadata": {
        "id": "c7GY0Xtgaiee"
      }
    },
    {
      "cell_type": "code",
      "source": [
        "sm = df['Ship Mode'].unique().tolist() # created a list with the various ship modes\n",
        "\n",
        "def shipmode_profit(df, n): # Created a function that takes the input of the dataset and the ship mode and returns the one with the largest profit\n",
        "    dfsmp = df.loc[(df['Ship Mode'] == n)]\n",
        "    result = dfsmp.groupby([\"Ship Mode\"])[\"Profit\"].sum()\n",
        "    return result\n",
        "\n",
        "for i in sm: # this syntax itterates through the list created earlier and passes them into the function to get the profits\n",
        "  profit_by_ship_mode=shipmode_profit(df,i)\n",
        "  print (profit_by_ship_mode)"
      ],
      "metadata": {
        "colab": {
          "base_uri": "https://localhost:8080/"
        },
        "id": "YL9wmCdufdyb",
        "outputId": "76c29a5e-4401-4147-871c-f2863664d7c4"
      },
      "execution_count": null,
      "outputs": [
        {
          "output_type": "stream",
          "name": "stdout",
          "text": [
            "Ship Mode\n",
            "Second Class    57446.6354\n",
            "Name: Profit, dtype: float64\n",
            "Ship Mode\n",
            "Standard Class    164088.7875\n",
            "Name: Profit, dtype: float64\n",
            "Ship Mode\n",
            "First Class    48969.8399\n",
            "Name: Profit, dtype: float64\n",
            "Ship Mode\n",
            "Same Day    15891.7589\n",
            "Name: Profit, dtype: float64\n"
          ]
        }
      ]
    },
    {
      "cell_type": "markdown",
      "source": [
        "We can see the standard class ship mode had the highest profit followed by second class in first class with her which had similar profits and same day ship mode had the least profit"
      ],
      "metadata": {
        "id": "w0YzLhxx1pt9"
      }
    },
    {
      "cell_type": "code",
      "source": [
        "df.groupby([\"Ship Mode\"])[\"Profit\"].sum().nlargest().plot(kind='bar',figsize=(10,5)) # Here we grouped the Ship Mode, summed the Profit and ordered the result in a decending mannner using the .n\n",
        "plt.title('Total profit by ship mode')\n",
        "plt.xlabel('Ship mode')\n",
        "plt.ylabel('Total Profit')\n",
        "plt.show()"
      ],
      "metadata": {
        "colab": {
          "base_uri": "https://localhost:8080/",
          "height": 415
        },
        "id": "66aohId3cZUk",
        "outputId": "fa8a2a75-ffee-4fa0-eb08-9811e2304b6e"
      },
      "execution_count": null,
      "outputs": [
        {
          "output_type": "display_data",
          "data": {
            "text/plain": [
              "<Figure size 720x360 with 1 Axes>"
            ],
            "image/png": "[encoded data removed]"
          },
          "metadata": {
            "needs_background": "light"
          }
        }
      ]
    },
    {
      "cell_type": "markdown",
      "source": [
        "The graph represents the result of the function showing showing standard class as having the highest total profit and the first class and second class having similar profit profiles and same day being the least profitable"
      ],
      "metadata": {
        "id": "P8kO0KuV348r"
      }
    },
    {
      "cell_type": "code",
      "source": [
        "sm = df['Ship Mode'].unique() # created a list with the various ship modes\n",
        "\n",
        "def shipmode_sales(df, n): # Created a function that takes the input of the dataset and the ship mode and returns the one with the largest sales\n",
        "    dfsms = df.loc[(df['Ship Mode'] == n)]\n",
        "    result = dfsms.groupby([\"Ship Mode\"])[\"Sales\"].sum()\n",
        "    return result\n",
        "\n",
        "for i in sm: # This syntax itterates through the list created earlier and passes them into the function to get the sales\n",
        "  sales_by_ship_mode=shipmode_sales(df,i)\n",
        "  print (sales_by_ship_mode)"
      ],
      "metadata": {
        "colab": {
          "base_uri": "https://localhost:8080/"
        },
        "id": "5rzafU5ULJGJ",
        "outputId": "d46ad028-4908-46cb-986f-9a040af5822d"
      },
      "execution_count": null,
      "outputs": [
        {
          "output_type": "stream",
          "name": "stdout",
          "text": [
            "Ship Mode\n",
            "Second Class    459193.5694\n",
            "Name: Sales, dtype: float64\n",
            "Ship Mode\n",
            "Standard Class    1358215.743\n",
            "Name: Sales, dtype: float64\n",
            "Ship Mode\n",
            "First Class    351428.4229\n",
            "Name: Sales, dtype: float64\n",
            "Ship Mode\n",
            "Same Day    128363.125\n",
            "Name: Sales, dtype: float64\n"
          ]
        }
      ]
    },
    {
      "cell_type": "markdown",
      "source": [
        "Standard class has the highest sales followed by Second Class and First Class with Same Day having the lowest sales"
      ],
      "metadata": {
        "id": "coarNGUkJPOA"
      }
    },
    {
      "cell_type": "code",
      "source": [
        "df.groupby([\"Ship Mode\"])[\"Sales\"].sum().nlargest().plot(kind='bar',figsize=(10,5))\n",
        "plt.xlabel('Ship mode')\n",
        "plt.ylabel('Total Sales')\n",
        "plt.title('Total sales by ship mode')\n",
        "plt.show()"
      ],
      "metadata": {
        "colab": {
          "base_uri": "https://localhost:8080/",
          "height": 415
        },
        "id": "NyZlu7QbK-uu",
        "outputId": "0a7e068b-3ecf-428f-cf50-896832e112ee"
      },
      "execution_count": null,
      "outputs": [
        {
          "output_type": "display_data",
          "data": {
            "text/plain": [
              "<Figure size 720x360 with 1 Axes>"
            ],
            "image/png": "[encoded data removed]"
          },
          "metadata": {
            "needs_background": "light"
          }
        }
      ]
    },
    {
      "cell_type": "markdown",
      "source": [
        "The above graph shows the total sales by Ship Mode. Standard class had the highest sales which were more than double the second class which had the second highest sales followed by the first class and same-day having the lowest sales."
      ],
      "metadata": {
        "id": "tB6MCMDNJjX9"
      }
    },
    {
      "cell_type": "markdown",
      "source": [
        "**3. What were the top states and cities in-terms of sales and profits**"
      ],
      "metadata": {
        "id": "5CUMDrwJUIzu"
      }
    },
    {
      "cell_type": "code",
      "source": [
        "def city_state_profit_sales(df,y,n): # defining a function here with arguments\n",
        "    result = df.groupby([y])[n].sum().nlargest() #code to be executed\n",
        "    return result # retuning the result\n"
      ],
      "metadata": {
        "id": "nE2PLciiLr7z"
      },
      "execution_count": null,
      "outputs": []
    },
    {
      "cell_type": "code",
      "source": [
        "city_state_profit_sales(df, 'State','Profit') # calling the function and entering the arguments\n"
      ],
      "metadata": {
        "colab": {
          "base_uri": "https://localhost:8080/"
        },
        "id": "bYz8tlV-PjhZ",
        "outputId": "b48f77b2-680e-4875-9f4a-ae55f888014d"
      },
      "execution_count": null,
      "outputs": [
        {
          "output_type": "execute_result",
          "data": {
            "text/plain": [
              "State\n",
              "California    76381.3871\n",
              "New York      74038.5486\n",
              "Washington    33402.6517\n",
              "Michigan      24463.1876\n",
              "Virginia      18597.9504\n",
              "Name: Profit, dtype: float64"
            ]
          },
          "metadata": {},
          "execution_count": 16
        }
      ]
    },
    {
      "cell_type": "markdown",
      "source": [
        "The states with the  with the highest profit were California which had a profit of 76,381 which was closely followed by New York and Washington."
      ],
      "metadata": {
        "id": "7aUaawMhMzlM"
      }
    },
    {
      "cell_type": "code",
      "source": [
        "city_state_profit_sales(df, 'State','Profit').plot(kind='bar',figsize=(10,5))\n",
        "plt.xlabel('States')\n",
        "plt.ylabel('Total Profit')\n",
        "plt.title('Region with the highest profits')\n",
        "plt.show()"
      ],
      "metadata": {
        "colab": {
          "base_uri": "https://localhost:8080/",
          "height": 399
        },
        "id": "pW5bxIckMYx_",
        "outputId": "b85cc331-8bb5-4100-da59-c4c662c4f233"
      },
      "execution_count": null,
      "outputs": [
        {
          "output_type": "display_data",
          "data": {
            "text/plain": [
              "<Figure size 720x360 with 1 Axes>"
            ],
            "image/png": "[encoded data removed]"
          },
          "metadata": {
            "needs_background": "light"
          }
        }
      ]
    },
    {
      "cell_type": "markdown",
      "source": [
        "Plotting the results, we can see that the states with the highest profit were California closely followed by New York and then Washington in 3rd place with Michigan and Virginia in 4th and 5th place respectively."
      ],
      "metadata": {
        "id": "7FkXVDBFOUQS"
      }
    },
    {
      "cell_type": "code",
      "source": [
        "city_state_profit_sales(df, 'City','Profit').nlargest"
      ],
      "metadata": {
        "colab": {
          "base_uri": "https://localhost:8080/"
        },
        "id": "1yVgmRruQBwe",
        "outputId": "00345ce8-8861-4f81-b428-b72ac1a1bc95"
      },
      "execution_count": null,
      "outputs": [
        {
          "output_type": "execute_result",
          "data": {
            "text/plain": [
              "<bound method Series.nlargest of City\n",
              "New York City    62036.9837\n",
              "Los Angeles      30440.7579\n",
              "Seattle          29156.0967\n",
              "San Francisco    17507.3854\n",
              "Detroit          13181.7908\n",
              "Name: Profit, dtype: float64>"
            ]
          },
          "metadata": {},
          "execution_count": 18
        }
      ]
    },
    {
      "cell_type": "markdown",
      "source": [
        "The cities with the highest profits were New York City with a profit of 62,036 followed by Los Angeles, Seattle and San Francisco."
      ],
      "metadata": {
        "id": "Ms1GlsiiPFxK"
      }
    },
    {
      "cell_type": "code",
      "source": [
        "city_state_profit_sales(df, 'City','Profit').plot(kind='bar',figsize=(10,5))\n",
        "plt.xlabel('Cities')\n",
        "plt.ylabel('Total Profit')\n",
        "plt.title('Cities with the highest profits')\n",
        "plt.show()"
      ],
      "metadata": {
        "colab": {
          "base_uri": "https://localhost:8080/",
          "height": 408
        },
        "id": "wkTv4s02P4EB",
        "outputId": "6fee56cd-f7a0-4c51-e734-98918b093c35"
      },
      "execution_count": null,
      "outputs": [
        {
          "output_type": "display_data",
          "data": {
            "text/plain": [
              "<Figure size 720x360 with 1 Axes>"
            ],
            "image/png": "[encoded data removed]"
          },
          "metadata": {
            "needs_background": "light"
          }
        }
      ]
    },
    {
      "cell_type": "markdown",
      "source": [
        "Plotting the bar graph shows that New York City had the highest profit by city which was followed by Los Angeles and Seattle with San Francisco and Detroit being in 4th and 5th place respectively."
      ],
      "metadata": {
        "id": "o_TOjW1lWR8P"
      }
    },
    {
      "cell_type": "code",
      "source": [
        "city_state_profit_sales(df, 'State','Sales')"
      ],
      "metadata": {
        "colab": {
          "base_uri": "https://localhost:8080/"
        },
        "id": "PILi9kpyQI-e",
        "outputId": "bc27f10f-ebdd-49a2-88d5-54328804d79f"
      },
      "execution_count": null,
      "outputs": [
        {
          "output_type": "execute_result",
          "data": {
            "text/plain": [
              "State\n",
              "California      457687.6315\n",
              "New York        310876.2710\n",
              "Texas           170188.0458\n",
              "Washington      138641.2700\n",
              "Pennsylvania    116511.9140\n",
              "Name: Sales, dtype: float64"
            ]
          },
          "metadata": {},
          "execution_count": 20
        }
      ]
    },
    {
      "cell_type": "markdown",
      "source": [
        "The states with the highest sale was California. This correlates with the profit per state analysis which showed that California had the highest profit. It it one again followed by New York and Texas which is in 3rd place"
      ],
      "metadata": {
        "id": "A1hsgVBoZH1f"
      }
    },
    {
      "cell_type": "code",
      "source": [
        "city_state_profit_sales(df, 'State','Sales').plot(kind='bar',figsize=(10,5))\n",
        "plt.xlabel('States')\n",
        "plt.ylabel('Total Sales')\n",
        "plt.title('States with the highest sales')\n",
        "plt.show()"
      ],
      "metadata": {
        "colab": {
          "base_uri": "https://localhost:8080/",
          "height": 406
        },
        "id": "9Vo6yeiljtzR",
        "outputId": "6a900732-5283-4c80-f585-b23461916ea7"
      },
      "execution_count": null,
      "outputs": [
        {
          "output_type": "display_data",
          "data": {
            "text/plain": [
              "<Figure size 720x360 with 1 Axes>"
            ],
            "image/png": "[encoded data removed]"
          },
          "metadata": {
            "needs_background": "light"
          }
        }
      ]
    },
    {
      "cell_type": "markdown",
      "source": [
        "For the sales, California once again is the state with the highest sales followed by New York and Texas."
      ],
      "metadata": {
        "id": "Ooq27X-1kKqH"
      }
    },
    {
      "cell_type": "code",
      "source": [
        "city_state_profit_sales(df, 'City','Sales')"
      ],
      "metadata": {
        "colab": {
          "base_uri": "https://localhost:8080/"
        },
        "id": "z7Pvmwx4QL_U",
        "outputId": "6cb16c78-21cd-4ad2-8dd0-65a1d152f4c7"
      },
      "execution_count": null,
      "outputs": [
        {
          "output_type": "execute_result",
          "data": {
            "text/plain": [
              "City\n",
              "New York City    256368.161\n",
              "Los Angeles      175851.341\n",
              "Seattle          119540.742\n",
              "San Francisco    112669.092\n",
              "Philadelphia     109077.013\n",
              "Name: Sales, dtype: float64"
            ]
          },
          "metadata": {},
          "execution_count": 22
        }
      ]
    },
    {
      "cell_type": "markdown",
      "source": [
        "The city with the highest sales was once again New York similar to the city with the highest profit. This was follwed by Los Angeles and Seattle in 2nd and 3rd."
      ],
      "metadata": {
        "id": "3M-fMcjelD6m"
      }
    },
    {
      "cell_type": "code",
      "source": [
        "city_state_profit_sales(df, 'City','Sales').plot(kind='bar',figsize=(10,5))\n",
        "plt.xlabel('Cities')\n",
        "plt.ylabel('Total Sales')\n",
        "plt.title('Cities with the highest sales')\n",
        "plt.show()"
      ],
      "metadata": {
        "colab": {
          "base_uri": "https://localhost:8080/",
          "height": 408
        },
        "id": "9_RX21TRlX7y",
        "outputId": "b24a3881-ef45-4374-e3e2-d6f12d412dd7"
      },
      "execution_count": null,
      "outputs": [
        {
          "output_type": "display_data",
          "data": {
            "text/plain": [
              "<Figure size 720x360 with 1 Axes>"
            ],
            "image/png": "[encoded data removed]"
          },
          "metadata": {
            "needs_background": "light"
          }
        }
      ]
    },
    {
      "cell_type": "markdown",
      "source": [
        "Plotting the function we can see that New York has the highest sales followed by Los Angeles and Seattle. This was similar to the profits by city above however here, the 5th highest sales were in Philadelphia in contrast to the profits where Detroit occupied the 5th position"
      ],
      "metadata": {
        "id": "aSEZ-n-WlhKj"
      }
    },
    {
      "cell_type": "markdown",
      "source": [
        "**4. What was the unit sale price for each product shipped, which category and sub-category products had the highest sales and profit**"
      ],
      "metadata": {
        "id": "H4uAxkznBrK9"
      }
    },
    {
      "cell_type": "code",
      "source": [
        "df['Unit Price'] = df['Sales'] / df['Quantity'] # creating a new column which is the result of quotient of the other 2 columns\n",
        "df.head()"
      ],
      "metadata": {
        "id": "uz25UM6pBqeN",
        "colab": {
          "base_uri": "https://localhost:8080/",
          "height": 354
        },
        "outputId": "1a974a2d-34b4-4cfc-82b1-1130cb4c5c8d"
      },
      "execution_count": null,
      "outputs": [
        {
          "output_type": "execute_result",
          "data": {
            "text/plain": [
              "        Ship Mode    Segment        Country             City       State  \\\n",
              "0    Second Class   Consumer  United States        Henderson    Kentucky   \n",
              "1    Second Class   Consumer  United States        Henderson    Kentucky   \n",
              "2    Second Class  Corporate  United States      Los Angeles  California   \n",
              "3  Standard Class   Consumer  United States  Fort Lauderdale     Florida   \n",
              "4  Standard Class   Consumer  United States  Fort Lauderdale     Florida   \n",
              "\n",
              "   Postal Code Region         Category Sub-Category     Sales  Quantity  \\\n",
              "0        42420  South        Furniture    Bookcases  261.9600         2   \n",
              "1        42420  South        Furniture       Chairs  731.9400         3   \n",
              "2        90036   West  Office Supplies       Labels   14.6200         2   \n",
              "3        33311  South        Furniture       Tables  957.5775         5   \n",
              "4        33311  South  Office Supplies      Storage   22.3680         2   \n",
              "\n",
              "   Discount    Profit  Unit Price  \n",
              "0      0.00   41.9136    130.9800  \n",
              "1      0.00  219.5820    243.9800  \n",
              "2      0.00    6.8714      7.3100  \n",
              "3      0.45 -383.0310    191.5155  \n",
              "4      0.20    2.5164     11.1840  "
            ],
            "text/html": [
              "\n",
              "  <div id=\"df-da72d755-f52d-4647-8c41-8395c5c80da3\">\n",
              "    <div class=\"colab-df-container\">\n",
              "      <div>\n",
              "<style scoped>\n",
              "    .dataframe tbody tr th:only-of-type {\n",
              "        vertical-align: middle;\n",
              "    }\n",
              "\n",
              "    .dataframe tbody tr th {\n",
              "        vertical-align: top;\n",
              "    }\n",
              "\n",
              "    .dataframe thead th {\n",
              "        text-align: right;\n",
              "    }\n",
              "</style>\n",
              "<table border=\"1\" class=\"dataframe\">\n",
              "  <thead>\n",
              "    <tr style=\"text-align: right;\">\n",
              "      <th></th>\n",
              "      <th>Ship Mode</th>\n",
              "      <th>Segment</th>\n",
              "      <th>Country</th>\n",
              "      <th>City</th>\n",
              "      <th>State</th>\n",
              "      <th>Postal Code</th>\n",
              "      <th>Region</th>\n",
              "      <th>Category</th>\n",
              "      <th>Sub-Category</th>\n",
              "      <th>Sales</th>\n",
              "      <th>Quantity</th>\n",
              "      <th>Discount</th>\n",
              "      <th>Profit</th>\n",
              "      <th>Unit Price</th>\n",
              "    </tr>\n",
              "  </thead>\n",
              "  <tbody>\n",
              "    <tr>\n",
              "      <th>0</th>\n",
              "      <td>Second Class</td>\n",
              "      <td>Consumer</td>\n",
              "      <td>United States</td>\n",
              "      <td>Henderson</td>\n",
              "      <td>Kentucky</td>\n",
              "      <td>42420</td>\n",
              "      <td>South</td>\n",
              "      <td>Furniture</td>\n",
              "      <td>Bookcases</td>\n",
              "      <td>261.9600</td>\n",
              "      <td>2</td>\n",
              "      <td>0.00</td>\n",
              "      <td>41.9136</td>\n",
              "      <td>130.9800</td>\n",
              "    </tr>\n",
              "    <tr>\n",
              "      <th>1</th>\n",
              "      <td>Second Class</td>\n",
              "      <td>Consumer</td>\n",
              "      <td>United States</td>\n",
              "      <td>Henderson</td>\n",
              "      <td>Kentucky</td>\n",
              "      <td>42420</td>\n",
              "      <td>South</td>\n",
              "      <td>Furniture</td>\n",
              "      <td>Chairs</td>\n",
              "      <td>731.9400</td>\n",
              "      <td>3</td>\n",
              "      <td>0.00</td>\n",
              "      <td>219.5820</td>\n",
              "      <td>243.9800</td>\n",
              "    </tr>\n",
              "    <tr>\n",
              "      <th>2</th>\n",
              "      <td>Second Class</td>\n",
              "      <td>Corporate</td>\n",
              "      <td>United States</td>\n",
              "      <td>Los Angeles</td>\n",
              "      <td>California</td>\n",
              "      <td>90036</td>\n",
              "      <td>West</td>\n",
              "      <td>Office Supplies</td>\n",
              "      <td>Labels</td>\n",
              "      <td>14.6200</td>\n",
              "      <td>2</td>\n",
              "      <td>0.00</td>\n",
              "      <td>6.8714</td>\n",
              "      <td>7.3100</td>\n",
              "    </tr>\n",
              "    <tr>\n",
              "      <th>3</th>\n",
              "      <td>Standard Class</td>\n",
              "      <td>Consumer</td>\n",
              "      <td>United States</td>\n",
              "      <td>Fort Lauderdale</td>\n",
              "      <td>Florida</td>\n",
              "      <td>33311</td>\n",
              "      <td>South</td>\n",
              "      <td>Furniture</td>\n",
              "      <td>Tables</td>\n",
              "      <td>957.5775</td>\n",
              "      <td>5</td>\n",
              "      <td>0.45</td>\n",
              "      <td>-383.0310</td>\n",
              "      <td>191.5155</td>\n",
              "    </tr>\n",
              "    <tr>\n",
              "      <th>4</th>\n",
              "      <td>Standard Class</td>\n",
              "      <td>Consumer</td>\n",
              "      <td>United States</td>\n",
              "      <td>Fort Lauderdale</td>\n",
              "      <td>Florida</td>\n",
              "      <td>33311</td>\n",
              "      <td>South</td>\n",
              "      <td>Office Supplies</td>\n",
              "      <td>Storage</td>\n",
              "      <td>22.3680</td>\n",
              "      <td>2</td>\n",
              "      <td>0.20</td>\n",
              "      <td>2.5164</td>\n",
              "      <td>11.1840</td>\n",
              "    </tr>\n",
              "  </tbody>\n",
              "</table>\n",
              "</div>\n",
              "      <button class=\"colab-df-convert\" onclick=\"convertToInteractive('df-da72d755-f52d-4647-8c41-8395c5c80da3')\"\n",
              "              title=\"Convert this dataframe to an interactive table.\"\n",
              "              style=\"display:none;\">\n",
              "        \n",
              "  <svg xmlns=\"http://www.w3.org/2000/svg\" height=\"24px\"viewBox=\"0 0 24 24\"\n",
              "       width=\"24px\">\n",
              "    <path d=\"M0 0h24v24H0V0z\" fill=\"none\"/>\n",
              "    <path d=\"M18.56 5.44l.94 2.06.94-2.06 2.06-.94-2.06-.94-.94-2.06-.94 2.06-2.06.94zm-11 1L8.5 8.5l.94-2.06 2.06-.94-2.06-.94L8.5 2.5l-.94 2.06-2.06.94zm10 10l.94 2.06.94-2.06 2.06-.94-2.06-.94-.94-2.06-.94 2.06-2.06.94z\"/><path d=\"M17.41 7.96l-1.37-1.37c-.4-.4-.92-.59-1.43-.59-.52 0-1.04.2-1.43.59L10.3 9.45l-7.72 7.72c-.78.78-.78 2.05 0 2.83L4 21.41c.39.39.9.59 1.41.59.51 0 1.02-.2 1.41-.59l7.78-7.78 2.81-2.81c.8-.78.8-2.07 0-2.86zM5.41 20L4 18.59l7.72-7.72 1.47 1.35L5.41 20z\"/>\n",
              "  </svg>\n",
              "      </button>\n",
              "      \n",
              "  <style>\n",
              "    .colab-df-container {\n",
              "      display:flex;\n",
              "      flex-wrap:wrap;\n",
              "      gap: 12px;\n",
              "    }\n",
              "\n",
              "    .colab-df-convert {\n",
              "      background-color: #E8F0FE;\n",
              "      border: none;\n",
              "      border-radius: 50%;\n",
              "      cursor: pointer;\n",
              "      display: none;\n",
              "      fill: #1967D2;\n",
              "      height: 32px;\n",
              "      padding: 0 0 0 0;\n",
              "      width: 32px;\n",
              "    }\n",
              "\n",
              "    .colab-df-convert:hover {\n",
              "      background-color: #E2EBFA;\n",
              "      box-shadow: 0px 1px 2px rgba(60, 64, 67, 0.3), 0px 1px 3px 1px rgba(60, 64, 67, 0.15);\n",
              "      fill: #174EA6;\n",
              "    }\n",
              "\n",
              "    [theme=dark] .colab-df-convert {\n",
              "      background-color: #3B4455;\n",
              "      fill: #D2E3FC;\n",
              "    }\n",
              "\n",
              "    [theme=dark] .colab-df-convert:hover {\n",
              "      background-color: #434B5C;\n",
              "      box-shadow: 0px 1px 3px 1px rgba(0, 0, 0, 0.15);\n",
              "      filter: drop-shadow(0px 1px 2px rgba(0, 0, 0, 0.3));\n",
              "      fill: #FFFFFF;\n",
              "    }\n",
              "  </style>\n",
              "\n",
              "      <script>\n",
              "        const buttonEl =\n",
              "          document.querySelector('#df-da72d755-f52d-4647-8c41-8395c5c80da3 button.colab-df-convert');\n",
              "        buttonEl.style.display =\n",
              "          google.colab.kernel.accessAllowed ? 'block' : 'none';\n",
              "\n",
              "        async function convertToInteractive(key) {\n",
              "          const element = document.querySelector('#df-da72d755-f52d-4647-8c41-8395c5c80da3');\n",
              "          const dataTable =\n",
              "            await google.colab.kernel.invokeFunction('convertToInteractive',\n",
              "                                                     [key], {});\n",
              "          if (!dataTable) return;\n",
              "\n",
              "          const docLinkHtml = 'Like what you see? Visit the ' +\n",
              "            '<a target=\"_blank\" href=https://colab.research.google.com/notebooks/data_table.ipynb>data table notebook</a>'\n",
              "            + ' to learn more about interactive tables.';\n",
              "          element.innerHTML = '';\n",
              "          dataTable['output_type'] = 'display_data';\n",
              "          await google.colab.output.renderOutput(dataTable, element);\n",
              "          const docLink = document.createElement('div');\n",
              "          docLink.innerHTML = docLinkHtml;\n",
              "          element.appendChild(docLink);\n",
              "        }\n",
              "      </script>\n",
              "    </div>\n",
              "  </div>\n",
              "  "
            ]
          },
          "metadata": {},
          "execution_count": 24
        }
      ]
    },
    {
      "cell_type": "markdown",
      "source": [
        "**5. what category, sub-category and region incured the greatest loss.**\n",
        "\n",
        "\n",
        "\n"
      ],
      "metadata": {
        "id": "QWXEY5_jRugq"
      }
    },
    {
      "cell_type": "code",
      "source": [
        "class Losses: #created a class and called it Loss\n",
        "\n",
        "    def __init__(self, df): # the attribute of the class is a the dataset df\n",
        "        self.df = df\n",
        "\n",
        "    def region_loss(self): # defined a method that calculates the loss using a groupby synatx\n",
        "        loss = self.df[self.df['Profit'] < 0].groupby(['Region'])['Profit'].sum().sort_values(ascending=True)\n",
        "        return loss # the sort_values sorts the values in an ascending manner\n",
        "\n",
        "    def category_loss(self):\n",
        "        loss = self.df[self.df['Profit'] < 0].groupby(['Category'])['Profit'].sum().sort_values(ascending=True)\n",
        "        return loss\n",
        "\n",
        "    def subcategory_loss(self):\n",
        "        loss = self.df[self.df['Profit'] < 0].groupby(['Sub-Category'])['Profit'].sum().nsmallest()\n",
        "        return loss\n",
        "\n",
        "    def state_loss(self):\n",
        "        loss = self.df[self.df['Profit'] < 0].groupby(['State'])['Profit'].sum().nsmallest()\n",
        "        return loss\n",
        "\n",
        "\n",
        "\n",
        "\n",
        "\n"
      ],
      "metadata": {
        "id": "umUkdaK3jLmq"
      },
      "execution_count": null,
      "outputs": []
    },
    {
      "cell_type": "code",
      "source": [
        "dfloss_rg=Losses(df) # Creating an instance of loss and calling it dfloss_rg\n",
        "print(dfloss_rg.region_loss()) # Calling to print its method .loss_per_region"
      ],
      "metadata": {
        "colab": {
          "base_uri": "https://localhost:8080/"
        },
        "id": "DEaWbc92jqw2",
        "outputId": "ecff2395-8449-4905-c201-1f36acb7c6ce"
      },
      "execution_count": null,
      "outputs": [
        {
          "output_type": "stream",
          "name": "stdout",
          "text": [
            "Region\n",
            "Central   -56314.8850\n",
            "East      -49590.6075\n",
            "South     -27504.8323\n",
            "West      -22720.9609\n",
            "Name: Profit, dtype: float64\n"
          ]
        }
      ]
    },
    {
      "cell_type": "markdown",
      "source": [
        "The region with the greatest loss was the Central Region followed bythe East and the South. The West region had the lowest loss and correlates with the earlier analysis where the West had the highest profit and the Central region had the lowest profit."
      ],
      "metadata": {
        "id": "QbnLCpjH1owZ"
      }
    },
    {
      "cell_type": "code",
      "source": [
        "dfloss_rg.region_loss().plot(kind='barh',figsize=(10,5))\n",
        "plt.xlabel('Losses')\n",
        "plt.ylabel('Region')\n",
        "plt.title('Regions by the highest losses')\n",
        "plt.gca().invert_xaxis()"
      ],
      "metadata": {
        "colab": {
          "base_uri": "https://localhost:8080/",
          "height": 350
        },
        "id": "7lTwAoVMnqiV",
        "outputId": "5065927a-7b05-467a-a267-6acb3ab5123d"
      },
      "execution_count": null,
      "outputs": [
        {
          "output_type": "display_data",
          "data": {
            "text/plain": [
              "<Figure size 720x360 with 1 Axes>"
            ],
            "image/png": "[encoded data removed]"
          },
          "metadata": {
            "needs_background": "light"
          }
        }
      ]
    },
    {
      "cell_type": "markdown",
      "source": [
        "The above plot shows the total losses per region with Central region being the region with the highest loss and the West having the lowest loss."
      ],
      "metadata": {
        "id": "vwJPwAFu2lF-"
      }
    },
    {
      "cell_type": "code",
      "source": [
        "dfloss_ct=Losses(df) # Creating an instance of loss and calling it dfloss_cat\n",
        "print(dfloss_ct.category_loss()) # Calling to print its method .loss_per_category"
      ],
      "metadata": {
        "colab": {
          "base_uri": "https://localhost:8080/"
        },
        "id": "jAmqQyA02zTL",
        "outputId": "5d7c7ebe-8632-4cae-9e83-50ae37d8404f"
      },
      "execution_count": null,
      "outputs": [
        {
          "output_type": "stream",
          "name": "stdout",
          "text": [
            "Category\n",
            "Furniture         -60936.1090\n",
            "Office Supplies   -56615.2585\n",
            "Technology        -38579.9182\n",
            "Name: Profit, dtype: float64\n"
          ]
        }
      ]
    },
    {
      "cell_type": "markdown",
      "source": [
        "The furniture category had the highest loss with 60,939 and technology had the lowest loss of 38,579."
      ],
      "metadata": {
        "id": "bkNecALe2_jZ"
      }
    },
    {
      "cell_type": "code",
      "source": [
        "dfloss_ct.category_loss().plot(kind='barh',figsize=(10,5))\n",
        "plt.xlabel('Losses')\n",
        "plt.ylabel('Category')\n",
        "plt.title('Categories with the highest losses')\n",
        "plt.gca().invert_xaxis()"
      ],
      "metadata": {
        "colab": {
          "base_uri": "https://localhost:8080/",
          "height": 350
        },
        "id": "ut1qcq7f3MWF",
        "outputId": "e43ba36d-9bda-4a4d-981b-cc1ee3e301a9"
      },
      "execution_count": null,
      "outputs": [
        {
          "output_type": "display_data",
          "data": {
            "text/plain": [
              "<Figure size 720x360 with 1 Axes>"
            ],
            "image/png": "[encoded data removed]"
          },
          "metadata": {
            "needs_background": "light"
          }
        }
      ]
    },
    {
      "cell_type": "markdown",
      "source": [
        "The Furniture category had the highest loss followed by the Office Supplies and Technology having the lowest losses."
      ],
      "metadata": {
        "id": "wSfeftR433vZ"
      }
    },
    {
      "cell_type": "code",
      "source": [
        "dfloss_sct=Losses(df)\n",
        "print(dfloss_ct.subcategory_loss())"
      ],
      "metadata": {
        "colab": {
          "base_uri": "https://localhost:8080/"
        },
        "id": "oFdO_nn831rg",
        "outputId": "e408c0b4-8423-49c3-d76b-a38668cd076a"
      },
      "execution_count": null,
      "outputs": [
        {
          "output_type": "stream",
          "name": "stdout",
          "text": [
            "Sub-Category\n",
            "Binders     -38510.4964\n",
            "Tables      -32412.1483\n",
            "Machines    -30118.6682\n",
            "Bookcases   -12152.2060\n",
            "Chairs       -9880.8413\n",
            "Name: Profit, dtype: float64\n"
          ]
        }
      ]
    },
    {
      "cell_type": "markdown",
      "source": [
        "binders were the sub-category with the highest loss followed by tables machines and bookcases. This is similar to the prior results where furniture had the highest loss as 3 of the items in sub-category with the highest losses are in the furniture category."
      ],
      "metadata": {
        "id": "i2PCbnp34Mkz"
      }
    },
    {
      "cell_type": "code",
      "source": [
        "dfloss_sct.subcategory_loss().plot(kind='barh',figsize=(10,5))\n",
        "plt.xlabel('Losses')\n",
        "plt.ylabel('Sub-Category')\n",
        "plt.title('Sub-Categories with the highest losses')\n",
        "plt.gca().invert_xaxis()"
      ],
      "metadata": {
        "colab": {
          "base_uri": "https://localhost:8080/",
          "height": 350
        },
        "id": "dWnohI5A4mks",
        "outputId": "9ff6d621-a8f9-4bcc-8ad5-1684e4e019d6"
      },
      "execution_count": null,
      "outputs": [
        {
          "output_type": "display_data",
          "data": {
            "text/plain": [
              "<Figure size 720x360 with 1 Axes>"
            ],
            "image/png": "[encoded data removed]"
          },
          "metadata": {
            "needs_background": "light"
          }
        }
      ]
    },
    {
      "cell_type": "markdown",
      "source": [
        "Binders are leading in-terms of losses per sub-category followed by tables and machines."
      ],
      "metadata": {
        "id": "z6t94Pgh5Fv5"
      }
    },
    {
      "cell_type": "code",
      "source": [
        "dfloss_st=Losses(df)\n",
        "print(dfloss_st.state_loss())"
      ],
      "metadata": {
        "colab": {
          "base_uri": "https://localhost:8080/"
        },
        "id": "bzfi9ODX5FCu",
        "outputId": "55f944e0-4491-4e05-9e9d-7f218ac862b7"
      },
      "execution_count": null,
      "outputs": [
        {
          "output_type": "stream",
          "name": "stdout",
          "text": [
            "State\n",
            "Texas            -36813.1875\n",
            "Ohio             -21750.0002\n",
            "Pennsylvania     -21602.8515\n",
            "Illinois         -19501.6975\n",
            "North Carolina   -11557.9854\n",
            "Name: Profit, dtype: float64\n"
          ]
        }
      ]
    },
    {
      "cell_type": "markdown",
      "source": [
        "Texas had the highest loss with 36,813 followed by Ohio and Pennsylvania. Illinois and North Carolina states were in 4th and 5th place in-terms of total losses"
      ],
      "metadata": {
        "id": "qnyQU7wi5ga6"
      }
    },
    {
      "cell_type": "code",
      "source": [
        "dfloss_st.state_loss().plot(kind='barh',figsize=(10,5))\n",
        "plt.xlabel('State')\n",
        "plt.ylabel('Losses')\n",
        "plt.title('States with the highest losses')\n",
        "plt.gca().invert_xaxis()"
      ],
      "metadata": {
        "colab": {
          "base_uri": "https://localhost:8080/",
          "height": 350
        },
        "id": "8BQKgC9E5gH3",
        "outputId": "3c3ae047-6bb1-4a61-97b7-a667e627bccd"
      },
      "execution_count": null,
      "outputs": [
        {
          "output_type": "display_data",
          "data": {
            "text/plain": [
              "<Figure size 720x360 with 1 Axes>"
            ],
            "image/png": "[encoded data removed]"
          },
          "metadata": {
            "needs_background": "light"
          }
        }
      ]
    },
    {
      "cell_type": "markdown",
      "source": [
        "Texas had the highest loss and Interestingly, Texas was also the state that had the 3rd highest sales as was shown earlier."
      ],
      "metadata": {
        "id": "52sTWHAP6QKa"
      }
    },
    {
      "cell_type": "markdown",
      "source": [
        "**6. Which sub-categories with losses had discount on the products**"
      ],
      "metadata": {
        "id": "U62HIIQrOTJw"
      }
    },
    {
      "cell_type": "code",
      "source": [
        "st=[] # Creating an empty list\n",
        "for index, row in df.loc[df['Profit']<0].iterrows(): # itterrating through the rows where profit was less than 0\n",
        "  if row['Discount']>0: # Selecting the in the discount column where the discount was greater than 0\n",
        "    st.append(row['Sub-Category']) # Appending the items in the sub-category column to the list\n",
        "    sv=pd.DataFrame(st) # Converting the list as a pandas dataframe\n",
        "sv.value_counts() # Counting the values in the dataframe"
      ],
      "metadata": {
        "colab": {
          "base_uri": "https://localhost:8080/"
        },
        "id": "GvGbCxyOWzzd",
        "outputId": "5bafa241-dcfd-4ebe-9013-7e3d618faf8b"
      },
      "execution_count": null,
      "outputs": [
        {
          "output_type": "execute_result",
          "data": {
            "text/plain": [
              "Binders        613\n",
              "Chairs         235\n",
              "Tables         203\n",
              "Furnishings    167\n",
              "Storage        161\n",
              "Phones         136\n",
              "Bookcases      109\n",
              "Accessories     91\n",
              "Appliances      67\n",
              "Machines        44\n",
              "Supplies        33\n",
              "Fasteners       12\n",
              "dtype: int64"
            ]
          },
          "metadata": {},
          "execution_count": 34
        }
      ]
    },
    {
      "cell_type": "markdown",
      "source": [
        "Binders were the items that incurred the greatest loss with 613 sales showing a negative profit followed by Chairs with 235 sales and tables after that with 203 sales. These findings also resemble the losses analyzed above by category which showed that furniture had the greatest loss and in this analysis 6 of the items in the top 7 are furnishings."
      ],
      "metadata": {
        "id": "QsnD7XtefRW5"
      }
    },
    {
      "cell_type": "code",
      "source": [
        "sv.value_counts().plot(kind='pie',figsize=(14,11))\n",
        "plt.xlabel('')\n",
        "plt.ylabel('')\n",
        "plt.title('Sub-Categories with the highest losses')\n",
        "plt.show"
      ],
      "metadata": {
        "colab": {
          "base_uri": "https://localhost:8080/",
          "height": 663
        },
        "id": "KogC5gNtaPAU",
        "outputId": "2dbe8d70-0a71-43de-fe0d-9e5a20559ea2"
      },
      "execution_count": null,
      "outputs": [
        {
          "output_type": "execute_result",
          "data": {
            "text/plain": [
              "<function matplotlib.pyplot.show(close=None, block=None)>"
            ]
          },
          "metadata": {},
          "execution_count": 35
        },
        {
          "output_type": "display_data",
          "data": {
            "text/plain": [
              "<Figure size 1008x792 with 1 Axes>"
            ],
            "image/png": "[encoded data removed]"
          },
          "metadata": {}
        }
      ]
    },
    {
      "cell_type": "markdown",
      "source": [
        "Plotting the pie chart shows that binders were the items that incurred the greatest loss however, if we combine chairs, furnishings storage and tables which are in the furnishing category we can see that these the greatest losses overall."
      ],
      "metadata": {
        "id": "AojGz5SgfVc0"
      }
    },
    {
      "cell_type": "code",
      "source": [
        "sv.value_counts().plot(figsize=(14,11),kind='pie', y='votes_of_each_class', autopct='%1.0f%%')\n",
        "plt.xlabel('')\n",
        "plt.ylabel('')\n",
        "plt.title('Sub-Categories with the highest losses as a percentage')"
      ],
      "metadata": {
        "colab": {
          "base_uri": "https://localhost:8080/",
          "height": 663
        },
        "id": "XI9GiZ7bcFEx",
        "outputId": "ecfb7cd4-8692-43f9-ecbd-4258d641f971"
      },
      "execution_count": null,
      "outputs": [
        {
          "output_type": "execute_result",
          "data": {
            "text/plain": [
              "Text(0.5, 1.0, 'Sub-Categories with the highest losses as a percentage')"
            ]
          },
          "metadata": {},
          "execution_count": 36
        },
        {
          "output_type": "display_data",
          "data": {
            "text/plain": [
              "<Figure size 1008x792 with 1 Axes>"
            ],
            "image/png": "[encoded data removed]"
          },
          "metadata": {}
        }
      ]
    },
    {
      "cell_type": "markdown",
      "source": [
        "Plotting a pie chart with the pecentages of the items we can clearly see that the in the 15 loss making items in the sub-category, 42% of them were from the furnishing category"
      ],
      "metadata": {
        "id": "sEcKeBATf2x2"
      }
    },
    {
      "cell_type": "markdown",
      "source": [
        "**7. Which product was shipped the most by the most popular shipping mode**"
      ],
      "metadata": {
        "id": "HTyuQtgbWlLO"
      }
    },
    {
      "cell_type": "code",
      "source": [
        "df.groupby('Ship Mode')['Sub-Category'].value_counts().nlargest(5)#sort_values().nlargest(5)"
      ],
      "metadata": {
        "colab": {
          "base_uri": "https://localhost:8080/"
        },
        "id": "GUbhUuDRFg8j",
        "outputId": "afb7157c-e145-441b-d879-b4b06f82e2bb"
      },
      "execution_count": null,
      "outputs": [
        {
          "output_type": "execute_result",
          "data": {
            "text/plain": [
              "Ship Mode       Sub-Category\n",
              "Standard Class  Binders         947\n",
              "                Paper           783\n",
              "                Furnishings     575\n",
              "                Phones          534\n",
              "                Storage         504\n",
              "Name: Sub-Category, dtype: int64"
            ]
          },
          "metadata": {},
          "execution_count": 37
        }
      ]
    },
    {
      "cell_type": "markdown",
      "source": [
        "Standard Class was the preferred ship mode and the Binders were the most shipped item through this mode. Paper was 2nd and Furnishings 3rd follwed by Phones and Storage"
      ],
      "metadata": {
        "id": "_2s_uVV81yqh"
      }
    },
    {
      "cell_type": "markdown",
      "source": [
        "**8. What were the sales and profit figures per segment**"
      ],
      "metadata": {
        "id": "Vv7CrRQ7iLBt"
      }
    },
    {
      "cell_type": "code",
      "source": [
        "sales_profit= df.groupby('Segment').agg(Total_Sales=(\"Sales\",'sum'),Average_Sales=('Sales','mean'),Total_Profit=(\"Profit\",'sum'),Average_Profit=('Profit','mean'))\n",
        "print (sales_profit)"
      ],
      "metadata": {
        "colab": {
          "base_uri": "https://localhost:8080/"
        },
        "id": "cmLDJP8oIixm",
        "outputId": "dbfd6bfa-92a4-4780-a98c-b14dcec75f6f"
      },
      "execution_count": null,
      "outputs": [
        {
          "output_type": "stream",
          "name": "stdout",
          "text": [
            "              Total_Sales  Average_Sales  Total_Profit  Average_Profit\n",
            "Segment                                                               \n",
            "Consumer     1.161401e+06     223.733644   134119.2092       25.836873\n",
            "Corporate    7.061464e+05     233.823300    91979.1340       30.456667\n",
            "Home Office  4.296531e+05     240.972041    60298.6785       33.818664\n"
          ]
        }
      ]
    },
    {
      "cell_type": "markdown",
      "source": [
        "The consumer segement had the highest total sales and total profit however, its average profit was the lowest amongst the three. the home offic segment had the highest average profit and average sales but the lowest total sales."
      ],
      "metadata": {
        "id": "Ex_QhmZK8eia"
      }
    },
    {
      "cell_type": "code",
      "source": [
        "df.groupby('Segment').agg(Average_Profit=('Profit','mean'),Average_Sales=('Sales','mean')).plot(kind='bar', stacked=True)"
      ],
      "metadata": {
        "colab": {
          "base_uri": "https://localhost:8080/",
          "height": 349
        },
        "id": "r4j-AHDWBFKW",
        "outputId": "40037aa0-ea9c-4cb4-aadf-2f367337beae"
      },
      "execution_count": null,
      "outputs": [
        {
          "output_type": "execute_result",
          "data": {
            "text/plain": [
              "<Axes: xlabel='Segment'>"
            ]
          },
          "metadata": {},
          "execution_count": 39
        },
        {
          "output_type": "display_data",
          "data": {
            "text/plain": [
              "<Figure size 432x288 with 1 Axes>"
            ],
            "image/png": "[encoded data removed]"
          },
          "metadata": {
            "needs_background": "light"
          }
        }
      ]
    },
    {
      "cell_type": "code",
      "source": [
        "summary= df.groupby('Segment').agg(Total_Profit=(\"Profit\",'sum'),Total_Sales=(\"Sales\",'sum')).plot(kind='bar', stacked=True)"
      ],
      "metadata": {
        "colab": {
          "base_uri": "https://localhost:8080/",
          "height": 342
        },
        "id": "ZLbOi95hAyAk",
        "outputId": "1cd3ae85-dd52-4050-b52a-2fc27a85310e"
      },
      "execution_count": null,
      "outputs": [
        {
          "output_type": "display_data",
          "data": {
            "text/plain": [
              "<Figure size 432x288 with 1 Axes>"
            ],
            "image/png": "[encoded data removed]"
          },
          "metadata": {
            "needs_background": "light"
          }
        }
      ]
    },
    {
      "cell_type": "markdown",
      "source": [
        "**Conclusion**\n",
        "\n",
        "The above analysis of the store's shipping methods were successfully completed and all questions answerd. As can be seen from the above analysis, the profit and sales along with losses vary by region, city and sub-category and shipping mode"
      ],
      "metadata": {
        "id": "QimS-M-Cj6SM"
      }
    }
  ]
}