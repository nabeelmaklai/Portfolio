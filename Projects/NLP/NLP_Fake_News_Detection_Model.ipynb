{
  "cells": [
    {
      "cell_type": "markdown",
      "metadata": {
        "id": "QaMOxGxOgMHz"
      },
      "source": [
        "A robust model for fake news detection will be built.The file used to build this model contains the tittle of the news article, its summary and a label to indicate if its fake or not with 0 indicating fake news and 1 indicating real news.\n",
        "\n"
      ]
    },
    {
      "cell_type": "code",
      "execution_count": null,
      "metadata": {
        "colab": {
          "base_uri": "https://localhost:8080/"
        },
        "id": "cdn53APR1DJ-",
        "outputId": "c20ea0e3-bd08-466a-87ac-fba7d18de3dd"
      },
      "outputs": [
        {
          "output_type": "stream",
          "name": "stderr",
          "text": [
            "[nltk_data] Downloading package stopwords to /root/nltk_data...\n",
            "[nltk_data]   Unzipping corpora/stopwords.zip.\n",
            "[nltk_data] Downloading package wordnet to /root/nltk_data...\n",
            "[nltk_data] Downloading package punkt to /root/nltk_data...\n",
            "[nltk_data]   Unzipping tokenizers/punkt.zip.\n",
            "[nltk_data] Downloading package averaged_perceptron_tagger to\n",
            "[nltk_data]     /root/nltk_data...\n",
            "[nltk_data]   Unzipping taggers/averaged_perceptron_tagger.zip.\n"
          ]
        }
      ],
      "source": [
        "# importing the necessary libraries required to build the model\n",
        "import sklearn\n",
        "import re\n",
        "import nltk\n",
        "import pandas as pd\n",
        "nltk.download('stopwords')\n",
        "nltk.download('wordnet')\n",
        "nltk.download('punkt')\n",
        "nltk.download('averaged_perceptron_tagger')\n",
        "import seaborn as sns\n",
        "import matplotlib.pyplot as plt\n",
        "from nltk.corpus import stopwords\n",
        "from sklearn.svm import LinearSVC\n",
        "from xgboost import XGBClassifier\n",
        "from sklearn.metrics import f1_score\n",
        "from nltk.tokenize import word_tokenize\n",
        "from sklearn.metrics import recall_score\n",
        "from imblearn.over_sampling import SMOTE\n",
        "from imblearn.over_sampling import ADASYN\n",
        "from sklearn.naive_bayes import GaussianNB\n",
        "from sklearn.metrics import accuracy_score\n",
        "from sklearn.metrics import precision_score\n",
        "from nltk.tokenize import wordpunct_tokenize\n",
        "from sklearn.ensemble import BaggingClassifier\n",
        "from sklearn.preprocessing import LabelEncoder\n",
        "from sklearn.tree import DecisionTreeClassifier\n",
        "from sklearn.ensemble import AdaBoostClassifier\n",
        "from sklearn.model_selection import GridSearchCV\n",
        "from imblearn.metrics import geometric_mean_score\n",
        "from sklearn.neighbors import KNeighborsClassifier\n",
        "from sklearn.metrics import classification_report\n",
        "from sklearn.ensemble import RandomForestClassifier\n",
        "from sklearn.model_selection import train_test_split\n",
        "from sklearn.ensemble import GradientBoostingClassifier\n",
        "from sklearn.feature_extraction.text import TfidfVectorizer\n",
        "from sklearn.metrics import confusion_matrix\n",
        "from sklearn.metrics import ConfusionMatrixDisplay"
      ]
    },
    {
      "cell_type": "markdown",
      "metadata": {
        "id": "UpGSdUigcUOn"
      },
      "source": [
        "# Data Acquisition\n",
        "\n",
        "The file was in a csv format. Once the file was opened using pandas, the first 5 rows of the file were displayed. As shown below, the file contained the title, text and label columns. the Unnamed:0 is the file's index column."
      ]
    },
    {
      "cell_type": "code",
      "execution_count": null,
      "metadata": {
        "colab": {
          "base_uri": "https://localhost:8080/"
        },
        "id": "XXDcO4xGahSG",
        "outputId": "5af8a649-9b80-46d0-c69c-0297ede0d0ca"
      },
      "outputs": [
        {
          "output_type": "stream",
          "name": "stdout",
          "text": [
            "Mounted at /content/drive\n"
          ]
        }
      ],
      "source": [
        "from google.colab import drive\n",
        "drive.mount('/content/drive')"
      ]
    },
    {
      "cell_type": "code",
      "execution_count": null,
      "metadata": {
        "colab": {
          "base_uri": "https://localhost:8080/",
          "height": 320
        },
        "id": "ph7H8jDl1TK3",
        "outputId": "fc1f64d2-bb49-47c1-e477-a32803a85bcd"
      },
      "outputs": [
        {
          "output_type": "execute_result",
          "data": {
            "text/plain": [
              "   Unnamed: 0                                              title  \\\n",
              "0           0  LAW ENFORCEMENT ON HIGH ALERT Following Threat...   \n",
              "1           1                                                NaN   \n",
              "2           2  UNBELIEVABLE! OBAMA’S ATTORNEY GENERAL SAYS MO...   \n",
              "3           3  Bobby Jindal, raised Hindu, uses story of Chri...   \n",
              "4           4  SATAN 2: Russia unvelis an image of its terrif...   \n",
              "\n",
              "                                                text  label  \n",
              "0  No comment is expected from Barack Obama Membe...      1  \n",
              "1     Did they post their votes for Hillary already?      1  \n",
              "2   Now, most of the demonstrators gathered last ...      1  \n",
              "3  A dozen politically active pastors came here f...      0  \n",
              "4  The RS-28 Sarmat missile, dubbed Satan 2, will...      1  "
            ],
            "text/html": [
              "\n",
              "  <div id=\"df-cd70912a-d16f-40d4-a57e-d2410cda476a\">\n",
              "    <div class=\"colab-df-container\">\n",
              "      <div>\n",
              "<style scoped>\n",
              "    .dataframe tbody tr th:only-of-type {\n",
              "        vertical-align: middle;\n",
              "    }\n",
              "\n",
              "    .dataframe tbody tr th {\n",
              "        vertical-align: top;\n",
              "    }\n",
              "\n",
              "    .dataframe thead th {\n",
              "        text-align: right;\n",
              "    }\n",
              "</style>\n",
              "<table border=\"1\" class=\"dataframe\">\n",
              "  <thead>\n",
              "    <tr style=\"text-align: right;\">\n",
              "      <th></th>\n",
              "      <th>Unnamed: 0</th>\n",
              "      <th>title</th>\n",
              "      <th>text</th>\n",
              "      <th>label</th>\n",
              "    </tr>\n",
              "  </thead>\n",
              "  <tbody>\n",
              "    <tr>\n",
              "      <th>0</th>\n",
              "      <td>0</td>\n",
              "      <td>LAW ENFORCEMENT ON HIGH ALERT Following Threat...</td>\n",
              "      <td>No comment is expected from Barack Obama Membe...</td>\n",
              "      <td>1</td>\n",
              "    </tr>\n",
              "    <tr>\n",
              "      <th>1</th>\n",
              "      <td>1</td>\n",
              "      <td>NaN</td>\n",
              "      <td>Did they post their votes for Hillary already?</td>\n",
              "      <td>1</td>\n",
              "    </tr>\n",
              "    <tr>\n",
              "      <th>2</th>\n",
              "      <td>2</td>\n",
              "      <td>UNBELIEVABLE! OBAMA’S ATTORNEY GENERAL SAYS MO...</td>\n",
              "      <td>Now, most of the demonstrators gathered last ...</td>\n",
              "      <td>1</td>\n",
              "    </tr>\n",
              "    <tr>\n",
              "      <th>3</th>\n",
              "      <td>3</td>\n",
              "      <td>Bobby Jindal, raised Hindu, uses story of Chri...</td>\n",
              "      <td>A dozen politically active pastors came here f...</td>\n",
              "      <td>0</td>\n",
              "    </tr>\n",
              "    <tr>\n",
              "      <th>4</th>\n",
              "      <td>4</td>\n",
              "      <td>SATAN 2: Russia unvelis an image of its terrif...</td>\n",
              "      <td>The RS-28 Sarmat missile, dubbed Satan 2, will...</td>\n",
              "      <td>1</td>\n",
              "    </tr>\n",
              "  </tbody>\n",
              "</table>\n",
              "</div>\n",
              "      <button class=\"colab-df-convert\" onclick=\"convertToInteractive('df-cd70912a-d16f-40d4-a57e-d2410cda476a')\"\n",
              "              title=\"Convert this dataframe to an interactive table.\"\n",
              "              style=\"display:none;\">\n",
              "        \n",
              "  <svg xmlns=\"http://www.w3.org/2000/svg\" height=\"24px\"viewBox=\"0 0 24 24\"\n",
              "       width=\"24px\">\n",
              "    <path d=\"M0 0h24v24H0V0z\" fill=\"none\"/>\n",
              "    <path d=\"M18.56 5.44l.94 2.06.94-2.06 2.06-.94-2.06-.94-.94-2.06-.94 2.06-2.06.94zm-11 1L8.5 8.5l.94-2.06 2.06-.94-2.06-.94L8.5 2.5l-.94 2.06-2.06.94zm10 10l.94 2.06.94-2.06 2.06-.94-2.06-.94-.94-2.06-.94 2.06-2.06.94z\"/><path d=\"M17.41 7.96l-1.37-1.37c-.4-.4-.92-.59-1.43-.59-.52 0-1.04.2-1.43.59L10.3 9.45l-7.72 7.72c-.78.78-.78 2.05 0 2.83L4 21.41c.39.39.9.59 1.41.59.51 0 1.02-.2 1.41-.59l7.78-7.78 2.81-2.81c.8-.78.8-2.07 0-2.86zM5.41 20L4 18.59l7.72-7.72 1.47 1.35L5.41 20z\"/>\n",
              "  </svg>\n",
              "      </button>\n",
              "      \n",
              "  <style>\n",
              "    .colab-df-container {\n",
              "      display:flex;\n",
              "      flex-wrap:wrap;\n",
              "      gap: 12px;\n",
              "    }\n",
              "\n",
              "    .colab-df-convert {\n",
              "      background-color: #E8F0FE;\n",
              "      border: none;\n",
              "      border-radius: 50%;\n",
              "      cursor: pointer;\n",
              "      display: none;\n",
              "      fill: #1967D2;\n",
              "      height: 32px;\n",
              "      padding: 0 0 0 0;\n",
              "      width: 32px;\n",
              "    }\n",
              "\n",
              "    .colab-df-convert:hover {\n",
              "      background-color: #E2EBFA;\n",
              "      box-shadow: 0px 1px 2px rgba(60, 64, 67, 0.3), 0px 1px 3px 1px rgba(60, 64, 67, 0.15);\n",
              "      fill: #174EA6;\n",
              "    }\n",
              "\n",
              "    [theme=dark] .colab-df-convert {\n",
              "      background-color: #3B4455;\n",
              "      fill: #D2E3FC;\n",
              "    }\n",
              "\n",
              "    [theme=dark] .colab-df-convert:hover {\n",
              "      background-color: #434B5C;\n",
              "      box-shadow: 0px 1px 3px 1px rgba(0, 0, 0, 0.15);\n",
              "      filter: drop-shadow(0px 1px 2px rgba(0, 0, 0, 0.3));\n",
              "      fill: #FFFFFF;\n",
              "    }\n",
              "  </style>\n",
              "\n",
              "      <script>\n",
              "        const buttonEl =\n",
              "          document.querySelector('#df-cd70912a-d16f-40d4-a57e-d2410cda476a button.colab-df-convert');\n",
              "        buttonEl.style.display =\n",
              "          google.colab.kernel.accessAllowed ? 'block' : 'none';\n",
              "\n",
              "        async function convertToInteractive(key) {\n",
              "          const element = document.querySelector('#df-cd70912a-d16f-40d4-a57e-d2410cda476a');\n",
              "          const dataTable =\n",
              "            await google.colab.kernel.invokeFunction('convertToInteractive',\n",
              "                                                     [key], {});\n",
              "          if (!dataTable) return;\n",
              "\n",
              "          const docLinkHtml = 'Like what you see? Visit the ' +\n",
              "            '<a target=\"_blank\" href=https://colab.research.google.com/notebooks/data_table.ipynb>data table notebook</a>'\n",
              "            + ' to learn more about interactive tables.';\n",
              "          element.innerHTML = '';\n",
              "          dataTable['output_type'] = 'display_data';\n",
              "          await google.colab.output.renderOutput(dataTable, element);\n",
              "          const docLink = document.createElement('div');\n",
              "          docLink.innerHTML = docLinkHtml;\n",
              "          element.appendChild(docLink);\n",
              "        }\n",
              "      </script>\n",
              "    </div>\n",
              "  </div>\n",
              "  "
            ]
          },
          "metadata": {},
          "execution_count": 3
        }
      ],
      "source": [
        "df = pd.read_csv('/content/drive/MyDrive/WELFake_Dataset.csv')\n",
        "df.head()"
      ]
    },
    {
      "cell_type": "markdown",
      "metadata": {
        "id": "AWQu9mx-k7sj"
      },
      "source": [
        "The dataset has a total of 72,134 rows and 4 columns"
      ]
    },
    {
      "cell_type": "code",
      "execution_count": null,
      "metadata": {
        "colab": {
          "base_uri": "https://localhost:8080/"
        },
        "id": "YL_GkEJZOzp8",
        "outputId": "bd970db7-dfbc-4c5c-e135-ffc52f7e0599"
      },
      "outputs": [
        {
          "output_type": "execute_result",
          "data": {
            "text/plain": [
              "(72134, 4)"
            ]
          },
          "metadata": {},
          "execution_count": 4
        }
      ],
      "source": [
        "# Displaying the number or rows and column of the dataset\n",
        "df.shape"
      ]
    },
    {
      "cell_type": "markdown",
      "metadata": {
        "id": "spBOvFRplFnn"
      },
      "source": [
        "# Data Exploration\n",
        "\n",
        "Since the dataset is large, we will access the most important information on the dataset using the info() function. This shows the datatypes of each column as well as the non-null entries. From this we can tell that both the tittle and the text column contain null values when comparing the total number of rows with non-null values to that of the whole dataset."
      ]
    },
    {
      "cell_type": "code",
      "execution_count": null,
      "metadata": {
        "colab": {
          "base_uri": "https://localhost:8080/"
        },
        "id": "EpbjzsMLDkTc",
        "outputId": "807af399-e031-493a-c8ea-8d63d19f33e3"
      },
      "outputs": [
        {
          "output_type": "stream",
          "name": "stdout",
          "text": [
            "<class 'pandas.core.frame.DataFrame'>\n",
            "RangeIndex: 72134 entries, 0 to 72133\n",
            "Data columns (total 4 columns):\n",
            " #   Column      Non-Null Count  Dtype \n",
            "---  ------      --------------  ----- \n",
            " 0   Unnamed: 0  72134 non-null  int64 \n",
            " 1   title       71576 non-null  object\n",
            " 2   text        72095 non-null  object\n",
            " 3   label       72134 non-null  int64 \n",
            "dtypes: int64(2), object(2)\n",
            "memory usage: 2.2+ MB\n"
          ]
        }
      ],
      "source": [
        "#Accessing the most important information on the dataset\n",
        "df.info()"
      ]
    },
    {
      "cell_type": "markdown",
      "metadata": {
        "id": "G-g3QzX23WjU"
      },
      "source": [
        "Since some columns contain some missing data, those columns will be discarded, specially the 'text' column which will be used to build the machine learning model. To first count how many missing values the dataset contains, the isna() function of pandas is used and summed up using the sum() function. This will display the total number of missing values in each column. These functions showed that the 'label' column and the 'Unnamed 0:' columns have no missing data, however, the 'title' and the 'text' column have 558 and 39 missing values respectively."
      ]
    },
    {
      "cell_type": "code",
      "execution_count": null,
      "metadata": {
        "colab": {
          "base_uri": "https://localhost:8080/"
        },
        "id": "nSJX1WZNFouv",
        "outputId": "7da25389-aca8-456c-8ce2-aba5cfa58489"
      },
      "outputs": [
        {
          "output_type": "execute_result",
          "data": {
            "text/plain": [
              "Unnamed: 0      0\n",
              "title         558\n",
              "text           39\n",
              "label           0\n",
              "dtype: int64"
            ]
          },
          "metadata": {},
          "execution_count": 6
        }
      ],
      "source": [
        "#Summing up the number of missing values in each column\n",
        "df.isna().sum()"
      ]
    },
    {
      "cell_type": "markdown",
      "metadata": {
        "id": "yhJe9_HT5fFP"
      },
      "source": [
        "The missing data in the 'text' column is critical as those columns already have a label. This can be inferred by no null values found in the label column when compared to 39 found in the 'text' column. To counter this, all rows with missing values in 'text' column will be dropped using the dropna() function in pandas."
      ]
    },
    {
      "cell_type": "code",
      "execution_count": null,
      "metadata": {
        "colab": {
          "base_uri": "https://localhost:8080/"
        },
        "id": "9MOCah1mFuRI",
        "outputId": "0ade9101-40ae-4b9f-e6e9-56171e6921b9"
      },
      "outputs": [
        {
          "output_type": "stream",
          "name": "stdout",
          "text": [
            "(72095, 4)\n"
          ]
        }
      ],
      "source": [
        "#Dropping the rows with missing values in theoriginal dataframe\n",
        "df.dropna(subset=['text'], inplace=True)\n",
        "#New shape of the dataframe\n",
        "print(df.shape)"
      ]
    },
    {
      "cell_type": "markdown",
      "metadata": {
        "id": "XCPBU9hGrds6"
      },
      "source": [
        "The dataset contains a set of labels which represent if the news is real or fake with 1 being real news and 0 being fake news. The number of real and fake news articles in the dataset need to be known and for this the number of each labels are counted. there are 37,067 real news articles and 35,028 number of fake news articles out of the total 72,095 (dropped rows above not counted) news articles in the dataset. This shows that the dataset is slightly imabalnced with the real news articles outnumbering the fake ones by 961."
      ]
    },
    {
      "cell_type": "code",
      "execution_count": null,
      "metadata": {
        "colab": {
          "base_uri": "https://localhost:8080/"
        },
        "id": "8FI-1q2ODrLn",
        "outputId": "70566ad0-dbb2-4e8f-a7fb-14226849aa05"
      },
      "outputs": [
        {
          "output_type": "execute_result",
          "data": {
            "text/plain": [
              "1    37067\n",
              "0    35028\n",
              "Name: label, dtype: int64"
            ]
          },
          "metadata": {},
          "execution_count": 8
        }
      ],
      "source": [
        "# Counting the number of each labels\n",
        "df['label'].value_counts()"
      ]
    },
    {
      "cell_type": "markdown",
      "metadata": {
        "id": "Yia6l-sstEzx"
      },
      "source": [
        "The value counts of each label is plotted using the Seaborn library as well their the percentages of each label for better understanding their distribution"
      ]
    },
    {
      "cell_type": "code",
      "execution_count": null,
      "metadata": {
        "colab": {
          "base_uri": "https://localhost:8080/",
          "height": 519
        },
        "id": "PgyVx9D5DwHm",
        "outputId": "c7d5e753-7750-4f34-f61c-78797b5c19da"
      },
      "outputs": [
        {
          "output_type": "stream",
          "name": "stdout",
          "text": [
            "percentage of each label:\n",
            "1    51.414106\n",
            "0    48.585894\n",
            "Name: label, dtype: float64\n"
          ]
        },
        {
          "output_type": "execute_result",
          "data": {
            "text/plain": [
              "<Axes: >"
            ]
          },
          "metadata": {},
          "execution_count": 9
        },
        {
          "output_type": "display_data",
          "data": {
            "text/plain": [
              "<Figure size 640x480 with 1 Axes>"
            ],
            "image/png": "[encoded data removed]"
          },
          "metadata": {}
        }
      ],
      "source": [
        "#Counting the total number of labels\n",
        "label_counts = df['label'].value_counts()\n",
        "#Calculating the percentage of each label\n",
        "label_percentages = 100 * label_counts / label_counts.sum()\n",
        "#Plotting the graps and displaying the percentages\n",
        "print('percentage of each label:')\n",
        "print(label_percentages)\n",
        "sns.barplot(x=label_counts.index, y=label_counts.values)\n"
      ]
    },
    {
      "cell_type": "markdown",
      "metadata": {
        "id": "c_1EbKwO3JMa"
      },
      "source": [
        "The dataset might contain duplicated entries hence it's important remove such entries as this has the potential to introduce a bias in the model."
      ]
    },
    {
      "cell_type": "code",
      "execution_count": null,
      "metadata": {
        "colab": {
          "base_uri": "https://localhost:8080/"
        },
        "id": "9MjOvrdyGdEY",
        "outputId": "c4455921-8872-4341-c852-1a6dd137ac40"
      },
      "outputs": [
        {
          "output_type": "execute_result",
          "data": {
            "text/plain": [
              "0"
            ]
          },
          "metadata": {},
          "execution_count": 10
        }
      ],
      "source": [
        "#Checking if there are any duplicated values\n",
        "df.duplicated().sum()"
      ]
    },
    {
      "cell_type": "markdown",
      "metadata": {
        "id": "V5YjAAKQ8tSX"
      },
      "source": [
        "Due to the limitaion of the computing resources, a part of the of the dataset will be used. The part of the dataset is selected using the sample() function in pandas. This function randomly selects a number of sample of the dataset and attempt's to replicate the original distribution of data."
      ]
    },
    {
      "cell_type": "code",
      "execution_count": null,
      "metadata": {
        "colab": {
          "base_uri": "https://localhost:8080/"
        },
        "id": "_O9AIzADGado",
        "outputId": "354ec2ac-10f4-4f12-ec34-b2498035f517"
      },
      "outputs": [
        {
          "output_type": "stream",
          "name": "stdout",
          "text": [
            "The percentage distribution of labels:\n",
            " 1    50.857143\n",
            "0    49.142857\n",
            "Name: label, dtype: float64\n"
          ]
        }
      ],
      "source": [
        "#Randomly selection 3500 samples of the original dataset\n",
        "df=df.sample(3500)\n",
        "\n",
        "#Checking to see if the same distribution of labels is maintained\n",
        "label_counts = df['label'].value_counts()\n",
        "print('The percentage distribution of labels:\\n',100 * label_counts / label_counts.sum())"
      ]
    },
    {
      "cell_type": "markdown",
      "metadata": {
        "id": "z7f57-S7coZ3"
      },
      "source": [
        "#Text Cleaning\n",
        "\n",
        "Pre-process is one of the most important steps when working with textual data. Text could contain many unwanted characters symbols which may distort data. These unwanted characters and values need to be removed and replaced appropriately depending on the machine learning model being built.\n",
        "\n",
        "To build this machine learning model, the text will be used as vectors to classify the news. However care must be taken because unwanted data such as special characters, symbols and emojis which might be interpreted by the model as a feature. The column will need to be checked for special characters, hashtags and mentions(@) as well as with URLs, if found these will need to be removed.\n",
        "\n",
        "To check the unwanted characters, symbols and emojis in the text, the pandas str.contains method is used to identify if the string contains any wide range of Unicode characters commonly used. This returns a boolean expression if any of these are found."
      ]
    },
    {
      "cell_type": "code",
      "execution_count": null,
      "metadata": {
        "colab": {
          "base_uri": "https://localhost:8080/"
        },
        "id": "uvsB4x5IG3_-",
        "outputId": "b250d32f-daf1-4c2f-bafc-c62499cb7693"
      },
      "outputs": [
        {
          "output_type": "execute_result",
          "data": {
            "text/plain": [
              "False    3495\n",
              "True        5\n",
              "Name: text, dtype: int64"
            ]
          },
          "metadata": {},
          "execution_count": 12
        }
      ],
      "source": [
        "#Checking if the column containes any special characters, symbols or emojis\n",
        "df['text'].str.contains('[\\U0001F000-\\U0001FFFF]', flags=re.UNICODE).value_counts()"
      ]
    },
    {
      "cell_type": "markdown",
      "metadata": {
        "id": "l-ppQNRWOnae"
      },
      "source": [
        "The syntax above returned true for 5 such characters in the 'text' column. These will be removed and replaced with and empty string using str.replace method in pandas. Running the previous syntax again to see if these special were removed and replaced with an empty string which gives a False value for all the text in the 'text' column indicating that theses special characters were removed."
      ]
    },
    {
      "cell_type": "code",
      "execution_count": null,
      "metadata": {
        "colab": {
          "base_uri": "https://localhost:8080/"
        },
        "id": "ag9KYz-iHCnc",
        "outputId": "fbff3303-5bac-425e-ad6d-61031df0eb16"
      },
      "outputs": [
        {
          "output_type": "execute_result",
          "data": {
            "text/plain": [
              "False    3500\n",
              "Name: text, dtype: int64"
            ]
          },
          "metadata": {},
          "execution_count": 13
        }
      ],
      "source": [
        "df['text']=df['text'].str.replace('[\\U0001F000-\\U0001FFFF]',' ',regex=True)\n",
        "df['text'].str.contains('[\\U0001F000-\\U0001FFFF]', flags=re.UNICODE).value_counts()"
      ]
    },
    {
      "cell_type": "markdown",
      "metadata": {
        "id": "POLWJv-dfbde"
      },
      "source": [
        "To check for URLs which may be interrupted as a feature during feature engineering part, the same syntax is used display the total number of strings that contain http or www."
      ]
    },
    {
      "cell_type": "code",
      "execution_count": null,
      "metadata": {
        "colab": {
          "base_uri": "https://localhost:8080/"
        },
        "id": "TCOcFktJeza2",
        "outputId": "0a65ad3f-3b0c-47be-91cf-257f3e50c241"
      },
      "outputs": [
        {
          "output_type": "stream",
          "name": "stdout",
          "text": [
            "total number of URLs: 285\n"
          ]
        }
      ],
      "source": [
        "links=((df['text'].str.contains('http'))|(df['text'].str.contains('www'))).sum()\n",
        "print('total number of URLs:',links)"
      ]
    },
    {
      "cell_type": "markdown",
      "metadata": {
        "id": "A7ywS3blgLKW"
      },
      "source": [
        "The above links variable showed that there were 285 instances of URLs within the 'text' column. These will be removed and replaced with empty string using the regular expression library of pandas. In the below syntax, the lambda function is applied to the 'text' column that replaces the the http, www and a sequence of digits with an empty string. To see if the URLs were successfully removed the above syntax is run again to check."
      ]
    },
    {
      "cell_type": "code",
      "execution_count": null,
      "metadata": {
        "colab": {
          "base_uri": "https://localhost:8080/"
        },
        "id": "EIGRpQAFhtV-",
        "outputId": "96db7fa5-214e-4b89-90b9-c27d5a478f78"
      },
      "outputs": [
        {
          "output_type": "stream",
          "name": "stdout",
          "text": [
            "total number of URLs: 0\n"
          ]
        }
      ],
      "source": [
        "df['text'] = df['text'].apply(lambda text: re.sub(r\"http\\S+|www\\S+|\\d+\", \"\", text))\n",
        "links=((df['text'].str.contains('http'))|(df['text'].str.contains('www'))).sum()\n",
        "print('total number of URLs:',links)"
      ]
    },
    {
      "cell_type": "markdown",
      "metadata": {
        "id": "Gsug3rVxQjrN"
      },
      "source": [
        "Next the 'text' column is checked if it contains hastags and mentions(@) using the same pandas contains() method and the sum of them is printed. This returns the sum of the hashtags and mentions(@)"
      ]
    },
    {
      "cell_type": "code",
      "execution_count": null,
      "metadata": {
        "colab": {
          "base_uri": "https://localhost:8080/"
        },
        "id": "aAsdc_2QHume",
        "outputId": "85b6ffa3-28c7-4cf8-e87b-411e509efd4b"
      },
      "outputs": [
        {
          "output_type": "stream",
          "name": "stdout",
          "text": [
            "Number of hastags: 555\n",
            "Number of mentions(@): 242\n"
          ]
        }
      ],
      "source": [
        "#Checking if the 'text' column contains # and @\n",
        "hashtags = df['text'].str.contains('#')\n",
        "mentions = df['text'].str.contains('@')\n",
        "print('Number of hastags:',mentions.sum())\n",
        "print('Number of mentions(@):',hashtags.sum())"
      ]
    },
    {
      "cell_type": "markdown",
      "metadata": {
        "id": "4o67FH0bjdpH"
      },
      "source": [
        "The number of hashtags and mentions is 555 and 242 respectively. Just like removing the URLs in the column, the regular expression library of pandas is used to substitute hashtags and mentions with empty string. the hastags and mentions variables are then checked to see if the code executed successfully."
      ]
    },
    {
      "cell_type": "code",
      "execution_count": null,
      "metadata": {
        "colab": {
          "base_uri": "https://localhost:8080/"
        },
        "id": "MNqo9IJljRxf",
        "outputId": "2d8fd44b-b194-4b58-ac03-9a340a1e2587"
      },
      "outputs": [
        {
          "output_type": "stream",
          "name": "stdout",
          "text": [
            "Number of hastags: 0\n",
            "Number of mentions(@): 0\n"
          ]
        }
      ],
      "source": [
        "df['text'] = df['text'].apply(lambda text: re.sub(r'[^\\w\\s]', '', text))\n",
        "hashtags = df['text'].str.contains('#')\n",
        "mentions = df['text'].str.contains('@')\n",
        "print('Number of hastags:',mentions.sum())\n",
        "print('Number of mentions(@):',hashtags.sum())"
      ]
    },
    {
      "cell_type": "markdown",
      "metadata": {
        "id": "mMQgzicucu5p"
      },
      "source": [
        "# Words and Sentence Pre-processing\n",
        "Natural language processing machine learning models analyze words instead of sentences. However the problem with this is that these models may attach varying importance to the same word depending on its spelling and grammatical. It might also use attach meaning to stop words, these are commonly used in sentences but don't carry much meaning. Words like 'is','the' and 'in' add to the size of a the corpus in natural language processing but information from these words are negligible. There are various steps that will be taken to attempt to negate these problems. The first step in word and sentence pre-processing for this model is the removal of stop words.\n",
        "\n",
        "\n",
        "To remove the stop words the natural language toolkit library (nltk) will be used. The toolkit will remove the stop words that match the ones in nltk's corpus from the 'text' column and replaced them with an empty string.\n",
        "\n",
        "Before any preprocessing techniques are used, the words need to be in lower case so that all the words are in a uniform format. Next all the stop words are removed from the 'text' column. Once done, the words will need to be separted from the sentences. To separate the words, nltk's tokenizer will be used. This will separate the words into individual tokens.  The words will then be stemmed to reduce them to their base root. Stemming just removes the portion of the word. This is an important step prior to converting the text into numerical data as the conversion may interpret the same word with different grammatical usage and two separate words. This pre-process will be carried out using a function which will take the text as an argument. The function is defined as a pre-process and the text that is entered, all the letters are transformed to a lowercase. Nltk's natural language toolkit then removes all the stop words and the same libarary's tokenizer utility then used to tokenize the text. The text is then stemmed using and nltk's porter stemmer. Finally the words are without any stop words, lower cased, tokenized and stemmed are then joined again. In the data frame a new column is created called 'processed'. To only apply the function to only the 'text' column, the apply() function is used."
      ]
    },
    {
      "cell_type": "code",
      "execution_count": null,
      "metadata": {
        "colab": {
          "base_uri": "https://localhost:8080/",
          "height": 354
        },
        "id": "odflJM4JiwjV",
        "outputId": "5a51dd29-317e-47b5-ad25-7afa7b269167"
      },
      "outputs": [
        {
          "output_type": "execute_result",
          "data": {
            "text/plain": [
              "       Unnamed: 0                                              title  \\\n",
              "35016       35016                                                NaN   \n",
              "52000       52000  International observers will watch U.S. vote c...   \n",
              "42827       42827  TED CRUZ Demands We Put Immediate Halt On Plan...   \n",
              "48005       48005  ACCUSED RAPIST BILL CLINTON Has 4 NEW Accusers...   \n",
              "15975       15975  Plague kills 124 in Madagascar, cities most af...   \n",
              "\n",
              "                                                    text  label  \\\n",
              "35016  Hyperbole is odious\\nThis is not a bad article...      1   \n",
              "52000  VIENNA Reuters  Amid charges from Donald Trump...      0   \n",
              "42827  Thank God America has people like Ted Cruz in ...      1   \n",
              "48005  Who didn t see this coming Four more women hav...      1   \n",
              "15975  KIGALI Reuters  A plague epidemic in Madagasca...      0   \n",
              "\n",
              "                                               processed  \n",
              "35016  hyperbol odiou bad articl part titl america su...  \n",
              "52000  vienna reuter amid charg donald trump us presi...  \n",
              "42827  thank god america peopl like ted cruz senat un...  \n",
              "48005  see come four women come forward charg bill cl...  \n",
              "15975  kigali reuter plagu epidem madagascar kill peo...  "
            ],
            "text/html": [
              "\n",
              "  <div id=\"df-ffa195f9-5995-4dfb-b269-3c4380e90ec1\">\n",
              "    <div class=\"colab-df-container\">\n",
              "      <div>\n",
              "<style scoped>\n",
              "    .dataframe tbody tr th:only-of-type {\n",
              "        vertical-align: middle;\n",
              "    }\n",
              "\n",
              "    .dataframe tbody tr th {\n",
              "        vertical-align: top;\n",
              "    }\n",
              "\n",
              "    .dataframe thead th {\n",
              "        text-align: right;\n",
              "    }\n",
              "</style>\n",
              "<table border=\"1\" class=\"dataframe\">\n",
              "  <thead>\n",
              "    <tr style=\"text-align: right;\">\n",
              "      <th></th>\n",
              "      <th>Unnamed: 0</th>\n",
              "      <th>title</th>\n",
              "      <th>text</th>\n",
              "      <th>label</th>\n",
              "      <th>processed</th>\n",
              "    </tr>\n",
              "  </thead>\n",
              "  <tbody>\n",
              "    <tr>\n",
              "      <th>35016</th>\n",
              "      <td>35016</td>\n",
              "      <td>NaN</td>\n",
              "      <td>Hyperbole is odious\\nThis is not a bad article...</td>\n",
              "      <td>1</td>\n",
              "      <td>hyperbol odiou bad articl part titl america su...</td>\n",
              "    </tr>\n",
              "    <tr>\n",
              "      <th>52000</th>\n",
              "      <td>52000</td>\n",
              "      <td>International observers will watch U.S. vote c...</td>\n",
              "      <td>VIENNA Reuters  Amid charges from Donald Trump...</td>\n",
              "      <td>0</td>\n",
              "      <td>vienna reuter amid charg donald trump us presi...</td>\n",
              "    </tr>\n",
              "    <tr>\n",
              "      <th>42827</th>\n",
              "      <td>42827</td>\n",
              "      <td>TED CRUZ Demands We Put Immediate Halt On Plan...</td>\n",
              "      <td>Thank God America has people like Ted Cruz in ...</td>\n",
              "      <td>1</td>\n",
              "      <td>thank god america peopl like ted cruz senat un...</td>\n",
              "    </tr>\n",
              "    <tr>\n",
              "      <th>48005</th>\n",
              "      <td>48005</td>\n",
              "      <td>ACCUSED RAPIST BILL CLINTON Has 4 NEW Accusers...</td>\n",
              "      <td>Who didn t see this coming Four more women hav...</td>\n",
              "      <td>1</td>\n",
              "      <td>see come four women come forward charg bill cl...</td>\n",
              "    </tr>\n",
              "    <tr>\n",
              "      <th>15975</th>\n",
              "      <td>15975</td>\n",
              "      <td>Plague kills 124 in Madagascar, cities most af...</td>\n",
              "      <td>KIGALI Reuters  A plague epidemic in Madagasca...</td>\n",
              "      <td>0</td>\n",
              "      <td>kigali reuter plagu epidem madagascar kill peo...</td>\n",
              "    </tr>\n",
              "  </tbody>\n",
              "</table>\n",
              "</div>\n",
              "      <button class=\"colab-df-convert\" onclick=\"convertToInteractive('df-ffa195f9-5995-4dfb-b269-3c4380e90ec1')\"\n",
              "              title=\"Convert this dataframe to an interactive table.\"\n",
              "              style=\"display:none;\">\n",
              "        \n",
              "  <svg xmlns=\"http://www.w3.org/2000/svg\" height=\"24px\"viewBox=\"0 0 24 24\"\n",
              "       width=\"24px\">\n",
              "    <path d=\"M0 0h24v24H0V0z\" fill=\"none\"/>\n",
              "    <path d=\"M18.56 5.44l.94 2.06.94-2.06 2.06-.94-2.06-.94-.94-2.06-.94 2.06-2.06.94zm-11 1L8.5 8.5l.94-2.06 2.06-.94-2.06-.94L8.5 2.5l-.94 2.06-2.06.94zm10 10l.94 2.06.94-2.06 2.06-.94-2.06-.94-.94-2.06-.94 2.06-2.06.94z\"/><path d=\"M17.41 7.96l-1.37-1.37c-.4-.4-.92-.59-1.43-.59-.52 0-1.04.2-1.43.59L10.3 9.45l-7.72 7.72c-.78.78-.78 2.05 0 2.83L4 21.41c.39.39.9.59 1.41.59.51 0 1.02-.2 1.41-.59l7.78-7.78 2.81-2.81c.8-.78.8-2.07 0-2.86zM5.41 20L4 18.59l7.72-7.72 1.47 1.35L5.41 20z\"/>\n",
              "  </svg>\n",
              "      </button>\n",
              "      \n",
              "  <style>\n",
              "    .colab-df-container {\n",
              "      display:flex;\n",
              "      flex-wrap:wrap;\n",
              "      gap: 12px;\n",
              "    }\n",
              "\n",
              "    .colab-df-convert {\n",
              "      background-color: #E8F0FE;\n",
              "      border: none;\n",
              "      border-radius: 50%;\n",
              "      cursor: pointer;\n",
              "      display: none;\n",
              "      fill: #1967D2;\n",
              "      height: 32px;\n",
              "      padding: 0 0 0 0;\n",
              "      width: 32px;\n",
              "    }\n",
              "\n",
              "    .colab-df-convert:hover {\n",
              "      background-color: #E2EBFA;\n",
              "      box-shadow: 0px 1px 2px rgba(60, 64, 67, 0.3), 0px 1px 3px 1px rgba(60, 64, 67, 0.15);\n",
              "      fill: #174EA6;\n",
              "    }\n",
              "\n",
              "    [theme=dark] .colab-df-convert {\n",
              "      background-color: #3B4455;\n",
              "      fill: #D2E3FC;\n",
              "    }\n",
              "\n",
              "    [theme=dark] .colab-df-convert:hover {\n",
              "      background-color: #434B5C;\n",
              "      box-shadow: 0px 1px 3px 1px rgba(0, 0, 0, 0.15);\n",
              "      filter: drop-shadow(0px 1px 2px rgba(0, 0, 0, 0.3));\n",
              "      fill: #FFFFFF;\n",
              "    }\n",
              "  </style>\n",
              "\n",
              "      <script>\n",
              "        const buttonEl =\n",
              "          document.querySelector('#df-ffa195f9-5995-4dfb-b269-3c4380e90ec1 button.colab-df-convert');\n",
              "        buttonEl.style.display =\n",
              "          google.colab.kernel.accessAllowed ? 'block' : 'none';\n",
              "\n",
              "        async function convertToInteractive(key) {\n",
              "          const element = document.querySelector('#df-ffa195f9-5995-4dfb-b269-3c4380e90ec1');\n",
              "          const dataTable =\n",
              "            await google.colab.kernel.invokeFunction('convertToInteractive',\n",
              "                                                     [key], {});\n",
              "          if (!dataTable) return;\n",
              "\n",
              "          const docLinkHtml = 'Like what you see? Visit the ' +\n",
              "            '<a target=\"_blank\" href=https://colab.research.google.com/notebooks/data_table.ipynb>data table notebook</a>'\n",
              "            + ' to learn more about interactive tables.';\n",
              "          element.innerHTML = '';\n",
              "          dataTable['output_type'] = 'display_data';\n",
              "          await google.colab.output.renderOutput(dataTable, element);\n",
              "          const docLink = document.createElement('div');\n",
              "          docLink.innerHTML = docLinkHtml;\n",
              "          element.appendChild(docLink);\n",
              "        }\n",
              "      </script>\n",
              "    </div>\n",
              "  </div>\n",
              "  "
            ]
          },
          "metadata": {},
          "execution_count": 20
        }
      ],
      "source": [
        "#Defining a  function\n",
        "def pre_process(text):\n",
        "\n",
        "    #Turning all the text to lowercase\n",
        "    text = text.lower()\n",
        "\n",
        "    #Importing a list of stop words\n",
        "    stop = stopwords.words('english')\n",
        "    #Removing stop words from the 'text' column\n",
        "    text = ' '.join([word for word in text.split() if word not in (stop)])\n",
        "\n",
        "    #Tokenizing the text and assigning it to a variable\n",
        "    words = nltk.word_tokenize(text)\n",
        "\n",
        "    #Initializing the PortmerStemmer function\n",
        "    stemmer = nltk.stem.porter.PorterStemmer()\n",
        "\n",
        "    #Stemming the words in the text using list comprehension\n",
        "    stemmed_words = [stemmer.stem(w) for w in words]\n",
        "\n",
        "    #Joining the lowercased, tokeized and stemmed words\n",
        "    return \" \".join(stemmed_words)\n",
        "\n",
        "#Applying the pre-process function to only the 'text' column of the data frame\n",
        "df['processed'] = df['text'].apply(pre_process)\n",
        "df.head()"
      ]
    },
    {
      "cell_type": "markdown",
      "metadata": {
        "id": "EdEFlnHQYP6P"
      },
      "source": [
        "# Feature Engineering\n",
        "\n",
        "Once the text has been cleaned, it needs to be converted into integers because machine learning models cannot recognize words. There are many ways with which this can be done, however, the issue with converting words to integers is that the conversion deprives the words of their meanings and importance. For other tasks such as document classification and information retrieval, converting words into integers suffices. In this case, building a machine learning model that detects fake news, every word has an importance factor attached to it which needs to be represented in the conversion. For this the Term Frequency Inverse Document Frequency (TF-IDF) method is used. This method computes a vector for the term according to its frequency and inverse of document frequency in the entire corpus. Using TF-IDF attaches lesser values to words which are used frequently and higher values to words which are used infrequently. Using TF-IDF preseves and captures the importance of words as compared to just assigning an integer value to each word. TF-IDF also normalizes the values which assists in building a dynamic and efficient machine learning model.  \n",
        "\n",
        "The 'processed' column with cleaned text was converted to integers using Skit Learn's TF-IDF vectorizer method and assigned to a different variable. The index of the original data frame was then reset and the vectorized data frame was then joined with the original data frame. To evaluate the importance of each word in the model, a dictionary of the words and their respective assigned vector was created which utilized the vocabulary attribute of the TF-IDF method."
      ]
    },
    {
      "cell_type": "code",
      "execution_count": null,
      "metadata": {
        "colab": {
          "base_uri": "https://localhost:8080/"
        },
        "id": "ltVXxt9i8D7d",
        "outputId": "17fef14d-5e0e-4c39-9929-7594a0c861d2"
      },
      "outputs": [
        {
          "output_type": "stream",
          "name": "stdout",
          "text": [
            "(3500, 44659)\n"
          ]
        }
      ],
      "source": [
        "#initializing the function\n",
        "vectorizer = TfidfVectorizer()\n",
        "#Passing the processed column to the function and assigning it to a new variable\n",
        "df_vec = pd.DataFrame(vectorizer.fit_transform(df['processed']).toarray())\n",
        "\n",
        "\n",
        "#Resetting the index prior joining to ensure alignment with the vectorized\n",
        "df = df.reset_index(drop=True)\n",
        "\n",
        "\n",
        "#Joining the 2 datasets\n",
        "df = pd.concat([df, df_vec], axis=1)\n",
        "\n",
        "#Mapping the TF-IDF values to words in a dictionary\n",
        "inverted_index = {term: id for term, id in vectorizer.vocabulary_.items()}\n",
        "\n",
        "print(df.shape)\n"
      ]
    },
    {
      "cell_type": "markdown",
      "metadata": {
        "id": "4QyDpzibvQ6D"
      },
      "source": [
        "Once the text was vectorized, the 'label' column was then taken as the target to predict for the model. A copy of the data frame was created and saved in a seperate variable from which the columns which wont be used in the model training were dropped which produced a new data frame with only float values. These values were then mapped to their corresponding words to the inverted_index dictionary created above and saved in a list."
      ]
    },
    {
      "cell_type": "code",
      "execution_count": null,
      "metadata": {
        "colab": {
          "base_uri": "https://localhost:8080/"
        },
        "id": "_u_-CvD0JTWU",
        "outputId": "8e214e05-e31c-4aa8-c5d0-cabaa588783a"
      },
      "outputs": [
        {
          "output_type": "stream",
          "name": "stdout",
          "text": [
            "shape of dataset: (3500, 44654)\n",
            "number of features: 44654\n"
          ]
        }
      ],
      "source": [
        "#Specifying the prediction target and casting it as a float type\n",
        "targets=df['label'].values\n",
        "targets=targets.astype(float)\n",
        "\n",
        "#Creating a new data frame thats a copy of the original data frame\n",
        "feats=df.copy()\n",
        "\n",
        "#Dropping the columns not used in training the model\n",
        "feats=feats.drop(columns=['Unnamed: 0', 'title', 'text', 'label', 'processed'])\n",
        "\n",
        "print ('shape of dataset:', feats.shape)\n",
        "print('number of features:', feats.shape[1])\n",
        "\n",
        "#Creating and empty list to map the values to the words of the new data frame\n",
        "feats_list=[]\n",
        "\n",
        "#Mapping the values of the words and a saveing them in the list\n",
        "for item in feats.columns:\n",
        "  if item in inverted_index:\n",
        "    feats_list.append(inverted_index[item])\n",
        "  else:\n",
        "    feats_list.append(item)\n",
        "\n",
        "features=feats.values\n",
        "features=features.astype(float)\n"
      ]
    },
    {
      "cell_type": "markdown",
      "metadata": {
        "id": "wt8yBf411dVY"
      },
      "source": [
        "To train the model the dataset was split into 4 sets with the features assigned to the x value and the target assigned to the y values. Since the dataset was imbalanced data augmentation methods was used to evaluate performance of model on a un-balanced and a balanced data set.\n",
        "\n",
        "The first split was made using an 80/120 split where 80% of the dataset was split for training and 20% for testing. This resulted in a large train and test set that will be used to train and test the final model. The distribution of classes across the train and test split were maintained using the stratify parameter in Skit Learn's train and test splitting utility.\n",
        "\n",
        "From the large training set another 80/20 split was made to create a training and validation sets. These training sets will be used to find the best models and the validation sets that will be used to test those models to evaluate their performance.\n",
        "\n",
        "The last set was creating by splitting the smaller train and test sets created in the previous step. However in this set, data augmentation method was used to balance the data. The data was oversampled to match the minority data to the size of the majority labeled data set.\n",
        "\n",
        "Due to the limited computing power the datasets could not be undersampled.\n",
        "\n",
        "\n",
        "\n"
      ]
    },
    {
      "cell_type": "code",
      "execution_count": null,
      "metadata": {
        "id": "3K7Mdk8Esvnq"
      },
      "outputs": [],
      "source": [
        "#Splitting the dataset into train and test sets\n",
        "x_train_lar,x_test,y_train_lar,y_test=(\n",
        "    sklearn.model_selection.train_test_split(features,targets,test_size=0.20, train_size=.80,stratify=targets))\n",
        "\n",
        "\n",
        "#Splitting the train and tests sets into validation training and test sets\n",
        "x_train,x_valid,y_train,y_valid=sklearn.model_selection.train_test_split(\n",
        "    x_train_lar,y_train_lar,test_size=0.20, train_size=.80, stratify=(\n",
        "        y_train_lar))\n",
        "\n",
        "#Creating oversampled train and test sets\n",
        "x_res_over, y_res_over = SMOTE().fit_resample(x_train,y_train)\n",
        "\n"
      ]
    },
    {
      "cell_type": "markdown",
      "metadata": {
        "id": "yK_ojIjydUW8"
      },
      "source": [
        "# Model Selection\n",
        "\n",
        "There are many machine learning models that can be utilized, however, their performances differ and vary according the task being carried out. To build the best model the dataset will be evaluated on various models and the best one selected. The hyper-parameters of the best performing model will then be tuned to adjust improve performance and finally the  best model will be trained using the most effective hyper-parameters.\n",
        "\n",
        "To train and identify the best model and evaluate its performance, the datasets that will be used are the train dataset as well as the resampled dataset since the data is slightly imbalanced. The models are evaluated on both the imbalanced and resampled datasets Even though the data is slightly imabalanced some important features could be missed by the model and will reflect in its performnace on the test set. Due to the limited computing capabilities, the data was only over sampled.\n",
        "\n",
        "To evaluate the performance of the various models, the validation datasets will be used. The large test dataset will be used as data that the final model has not encountered previosuly and hence can be used as an effective evaluation method of the model's prediction capabilities.\n",
        "\n",
        "Since the model was imbalanced, the accuracy would be a misleading measure of the model's performance, this is because the model will predict the majority class most of the time which would increase its accuracy. This can be misleading and not a true measure of the model's performance and capability. Since the model is being built to measure its effectiveness in identifying fake news the precision and recall are the main metrics. To identify the best performance across a range of metrics a new metric is taken. This metric is the cubic root of product of the gmean, accuracy and f1 score and called product calculation. The higher the value of product calculation the higher better the performance of the model. The recall and precision metrics are used separately to evaluate the performance of each model and not included in the product calculation.\n",
        "\n",
        "Several models are evaluated using the above mentioned metrics uing the train and test datasets as well as the over resampled datasets. The model that performed the best across all metrics was then selected.\n",
        "\n"
      ]
    },
    {
      "cell_type": "code",
      "execution_count": null,
      "metadata": {
        "colab": {
          "base_uri": "https://localhost:8080/"
        },
        "id": "iBn7Q4R-JlJJ",
        "outputId": "74aa00fe-d2b5-48be-8131-d007181cf172"
      },
      "outputs": [
        {
          "output_type": "stream",
          "name": "stdout",
          "text": [
            "<class 'sklearn.tree._classes.DecisionTreeClassifier'>\n",
            "--------------------------------------------------\n",
            "Imbalanced\n",
            "G-Mean=0.87 Accu=0.87 f1=0.87\n",
            "Prod=0.87 recall=0.87 prec=0.88\n",
            "\n",
            "Balanced\n",
            "G-Mean=0.87 Accu=0.87 f1=0.87\n",
            "Prod=0.87 recall=0.87 prec=0.87\n",
            "\n",
            "\n",
            "<class 'sklearn.ensemble._gb.GradientBoostingClassifier'>\n",
            "--------------------------------------------------\n",
            "Imbalanced\n",
            "G-Mean=0.93 Accu=0.93 f1=0.93\n",
            "Prod=0.93 recall=0.96 prec=0.91\n",
            "\n",
            "Balanced\n",
            "G-Mean=0.93 Accu=0.93 f1=0.93\n",
            "Prod=0.93 recall=0.96 prec=0.90\n",
            "\n",
            "\n",
            "<class 'sklearn.ensemble._forest.RandomForestClassifier'>\n",
            "--------------------------------------------------\n",
            "Imbalanced\n",
            "G-Mean=0.90 Accu=0.90 f1=0.90\n",
            "Prod=0.90 recall=0.88 prec=0.92\n",
            "\n",
            "Balanced\n",
            "G-Mean=0.90 Accu=0.90 f1=0.90\n",
            "Prod=0.90 recall=0.88 prec=0.92\n",
            "\n",
            "\n",
            "<class 'sklearn.svm._classes.LinearSVC'>\n",
            "--------------------------------------------------\n",
            "Imbalanced\n",
            "G-Mean=0.91 Accu=0.91 f1=0.91\n",
            "Prod=0.91 recall=0.93 prec=0.90\n",
            "\n",
            "Balanced\n",
            "G-Mean=0.91 Accu=0.91 f1=0.91\n",
            "Prod=0.91 recall=0.93 prec=0.90\n",
            "\n",
            "\n",
            "<class 'sklearn.ensemble._weight_boosting.AdaBoostClassifier'>\n",
            "--------------------------------------------------\n",
            "Imbalanced\n",
            "G-Mean=0.91 Accu=0.91 f1=0.91\n",
            "Prod=0.91 recall=0.91 prec=0.92\n",
            "\n",
            "Balanced\n",
            "G-Mean=0.90 Accu=0.90 f1=0.90\n",
            "Prod=0.90 recall=0.89 prec=0.91\n",
            "\n",
            "\n",
            "<class 'sklearn.ensemble._bagging.BaggingClassifier'>\n",
            "--------------------------------------------------\n",
            "Imbalanced\n",
            "G-Mean=0.91 Accu=0.91 f1=0.91\n",
            "Prod=0.91 recall=0.93 prec=0.90\n",
            "\n",
            "Balanced\n",
            "G-Mean=0.90 Accu=0.90 f1=0.90\n",
            "Prod=0.90 recall=0.92 prec=0.88\n",
            "\n",
            "\n",
            "<class 'xgboost.sklearn.XGBClassifier'>\n",
            "--------------------------------------------------\n",
            "Imbalanced\n",
            "G-Mean=0.94 Accu=0.94 f1=0.94\n",
            "Prod=0.94 recall=0.95 prec=0.94\n",
            "\n",
            "Balanced\n",
            "G-Mean=0.94 Accu=0.94 f1=0.94\n",
            "Prod=0.94 recall=0.95 prec=0.93\n",
            "\n",
            "\n"
          ]
        }
      ],
      "source": [
        "#Defining a function to calculate the product\n",
        "def prod_calc(y_true, y_pred):\n",
        "    gmean = geometric_mean_score(y_true, y_pred)\n",
        "    acc = accuracy_score(y_true, y_pred)\n",
        "    f1 = f1_score(y_true, y_pred, average='macro')\n",
        "    return (gmean * acc * f1) ** (1. / 3)\n",
        "\n",
        "#Defining a function that will train the models\n",
        "def apply_model(clf_class, **kwargs):\n",
        "    clf = clf_class(**kwargs)\n",
        "    print(clf_class)\n",
        "    print('--------------------------------------------------')\n",
        "\n",
        "    #Training the models on imbalaned dataset and evaluating the metrics\n",
        "    clf.fit(x_train, y_train)\n",
        "    pred = clf.predict(x_valid)\n",
        "    gmean = geometric_mean_score(y_valid, pred)\n",
        "    acc = accuracy_score(y_valid, pred)\n",
        "    f1 = f1_score(y_valid, pred, average='macro')\n",
        "    prod = prod_calc(y_valid, pred)\n",
        "    recall=recall_score(y_valid, pred)\n",
        "    precision=precision_score(y_valid, pred)\n",
        "    print('Imbalanced')\n",
        "    print('G-Mean={:.2f} Accu={:.2f} f1={:.2f}'.format(gmean, acc, f1))\n",
        "    print('Prod={:.2f} recall={:.2f} prec={:.2f}'.format(prod,recall,precision))\n",
        "\n",
        "    #Training the models on oversampled dataset and evaluating the metrics\n",
        "    clf.fit(x_res_over, y_res_over)\n",
        "    pred = clf.predict(x_valid)\n",
        "    gmean = geometric_mean_score(y_valid, pred)\n",
        "    acc = accuracy_score(y_valid, pred)\n",
        "    f1 = f1_score(y_valid, pred, average='macro')\n",
        "    prod = prod_calc(y_valid, pred)\n",
        "    recall=recall_score(y_valid, pred)\n",
        "    precision=precision_score(y_valid, pred)\n",
        "    print('\\nBalanced')\n",
        "    print('G-Mean={:.2f} Accu={:.2f} f1={:.2f}'.format(gmean, acc, f1))\n",
        "    print('Prod={:.2f} recall={:.2f} prec={:.2f}'.format(prod,recall,precision))\n",
        "    print('\\n')\n",
        "\n",
        "\n",
        "\n",
        "#Training the models selected\n",
        "def compare_models():\n",
        "  apply_model(DecisionTreeClassifier)\n",
        "  apply_model(GradientBoostingClassifier)\n",
        "  apply_model(RandomForestClassifier)\n",
        "  apply_model(LinearSVC)\n",
        "  apply_model(AdaBoostClassifier)\n",
        "  apply_model(BaggingClassifier)\n",
        "  apply_model(XGBClassifier)\n",
        "\n",
        "\n",
        "compare_models()"
      ]
    },
    {
      "cell_type": "markdown",
      "metadata": {
        "id": "FqqQ9ukVzKEH"
      },
      "source": [
        "The Gradient Boosting Classifier and the XGBClassifier were the models that performed the best. The XGBClassifier however was consistent accross all metrics. It exhibited similar performace for both the balanced and imabalnced dataset. The XGBClassifier was then selected as the final model and its hyperparameters were tuned to obtain the best performing model."
      ]
    },
    {
      "cell_type": "markdown",
      "metadata": {
        "id": "r5MYUaJfqhBY"
      },
      "source": [
        "# Model Hyper-parameter Tuning\n",
        "\n",
        "The XGBClassifier is also known as Extreme Gradient Boosting classifier and is a very robust gradient boosting classifier widely used to build classification models. It uses the Decision Tree model and makes use of various gradient boosting algorithms to train of a dataset. Being a very flexible classifier, XGB has various hyperparameters that can be tuned to improve the efficiency of the model. However, due to the limited computing capabilities, only 3 of the hyperparameters were used to tune the model.\n"
      ]
    },
    {
      "cell_type": "code",
      "execution_count": null,
      "metadata": {
        "colab": {
          "base_uri": "https://localhost:8080/"
        },
        "id": "isXYy5MPPfhE",
        "outputId": "ae11fb3d-2239-47e0-9cf5-c40daf5794f8"
      },
      "outputs": [
        {
          "output_type": "stream",
          "name": "stdout",
          "text": [
            "Manual grid search results:\n",
            "\n",
            "n_etimators = 100,learning_rate = 0.2 max_depth = 3\n",
            "----------------------------------------------------------\n",
            "product = 0.93, accuracy = 0.93\n",
            "precision=0.92, recall=0.95\n",
            "\n",
            "n_etimators = 100,learning_rate = 0.2 max_depth = 4\n",
            "----------------------------------------------------------\n",
            "product = 0.93, accuracy = 0.93\n",
            "precision=0.93, recall=0.93\n",
            "\n",
            "n_etimators = 100,learning_rate = 0.3 max_depth = 3\n",
            "----------------------------------------------------------\n",
            "product = 0.92, accuracy = 0.92\n",
            "precision=0.91, recall=0.93\n",
            "\n",
            "n_etimators = 100,learning_rate = 0.3 max_depth = 4\n",
            "----------------------------------------------------------\n",
            "product = 0.93, accuracy = 0.93\n",
            "precision=0.93, recall=0.93\n",
            "\n",
            "n_etimators = 150,learning_rate = 0.2 max_depth = 3\n",
            "----------------------------------------------------------\n",
            "product = 0.93, accuracy = 0.93\n",
            "precision=0.92, recall=0.94\n",
            "\n",
            "n_etimators = 150,learning_rate = 0.2 max_depth = 4\n",
            "----------------------------------------------------------\n",
            "product = 0.93, accuracy = 0.93\n",
            "precision=0.93, recall=0.93\n",
            "\n",
            "n_etimators = 150,learning_rate = 0.3 max_depth = 3\n",
            "----------------------------------------------------------\n",
            "product = 0.92, accuracy = 0.92\n",
            "precision=0.91, recall=0.93\n",
            "\n",
            "n_etimators = 150,learning_rate = 0.3 max_depth = 4\n",
            "----------------------------------------------------------\n",
            "product = 0.93, accuracy = 0.93\n",
            "precision=0.93, recall=0.94\n",
            "\n",
            "=========================================================================\n",
            "The best hyper-parameters are:\n",
            "\n",
            "n_estimators = 150|learning_rate=0.20|max_depth= 4| product=0.93\n"
          ]
        }
      ],
      "source": [
        "n_estimators=[100,150]\n",
        "learning_rate=[0.2,0.3]\n",
        "max_depth=[3,4]\n",
        "\n",
        "print('Manual grid search results:\\n')\n",
        "\n",
        "max_prod=0\n",
        "best_hyper_param=[]\n",
        "\n",
        "for n in n_estimators:\n",
        "  for r in learning_rate:\n",
        "    for d in max_depth:\n",
        "      model=XGBClassifier(n_estimators=n, learning_rate=r,max_depth=d)\n",
        "      model.fit(x_train,y_train)\n",
        "      pred=model.predict(x_valid)\n",
        "      prod=prod_calc(y_valid,pred)\n",
        "      acc=accuracy_score(y_valid,pred)\n",
        "      recall=recall_score(y_valid, pred)\n",
        "      precision=precision_score(y_valid, pred)\n",
        "      print('n_etimators = {:},learning_rate = {:} max_depth = {:}'.format(n,r,d))\n",
        "      print('----------------------------------------------------------')\n",
        "      print('product = {:.2f}, accuracy = {:.2f}'.format(prod,acc))\n",
        "      print('precision={:.2f}, recall={:.2f}\\n'.format(precision,recall))\n",
        "\n",
        "\n",
        "\n",
        "      if prod>max_prod:\n",
        "        max_prod=prod\n",
        "        best_hyper_params=[n,r,d]\n",
        "\n",
        "print('=========================================================================')\n",
        "print('The best hyper-parameters are:\\n')\n",
        "print('n_estimators = {:3d}|learning_rate={:.2f}|max_depth={:2d}| product={:.2f}'.format(best_hyper_params[0], best_hyper_params[\n",
        "    1], best_hyper_params[2], prod))"
      ]
    },
    {
      "cell_type": "markdown",
      "metadata": {
        "id": "Q5Bn3ns9rAl7"
      },
      "source": [
        "# Building the Model\n",
        "\n",
        "Once the best hyperparameters were identified, the XGBClassifier model was trained using the large training sets."
      ]
    },
    {
      "cell_type": "code",
      "execution_count": null,
      "metadata": {
        "colab": {
          "base_uri": "https://localhost:8080/",
          "height": 248
        },
        "id": "txjtVXMxYjJW",
        "outputId": "0847f844-8ae1-4b03-bb69-f504226e2218"
      },
      "outputs": [
        {
          "output_type": "display_data",
          "data": {
            "text/plain": [
              "XGBClassifier(base_score=None, booster=None, callbacks=None,\n",
              "              colsample_bylevel=None, colsample_bynode=None,\n",
              "              colsample_bytree=None, early_stopping_rounds=None,\n",
              "              enable_categorical=False, eval_metric=None, feature_types=None,\n",
              "              gamma=None, gpu_id=None, grow_policy=None, importance_type=None,\n",
              "              interaction_constraints=None, learning_rate=0.2, max_bin=None,\n",
              "              max_cat_threshold=None, max_cat_to_onehot=None,\n",
              "              max_delta_step=None, max_depth=4, max_leaves=None,\n",
              "              min_child_weight=None, missing=nan, monotone_constraints=None,\n",
              "              n_estimators=150, n_jobs=None, num_parallel_tree=None,\n",
              "              predictor=None, random_state=None, ...)"
            ],
            "text/html": [
              "<style>#sk-container-id-1 {color: black;background-color: white;}#sk-container-id-1 pre{padding: 0;}#sk-container-id-1 div.sk-toggleable {background-color: white;}#sk-container-id-1 label.sk-toggleable__label {cursor: pointer;display: block;width: 100%;margin-bottom: 0;padding: 0.3em;box-sizing: border-box;text-align: center;}#sk-container-id-1 label.sk-toggleable__label-arrow:before {content: \"▸\";float: left;margin-right: 0.25em;color: #696969;}#sk-container-id-1 label.sk-toggleable__label-arrow:hover:before {color: black;}#sk-container-id-1 div.sk-estimator:hover label.sk-toggleable__label-arrow:before {color: black;}#sk-container-id-1 div.sk-toggleable__content {max-height: 0;max-width: 0;overflow: hidden;text-align: left;background-color: #f0f8ff;}#sk-container-id-1 div.sk-toggleable__content pre {margin: 0.2em;color: black;border-radius: 0.25em;background-color: #f0f8ff;}#sk-container-id-1 input.sk-toggleable__control:checked~div.sk-toggleable__content {max-height: 200px;max-width: 100%;overflow: auto;}#sk-container-id-1 input.sk-toggleable__control:checked~label.sk-toggleable__label-arrow:before {content: \"▾\";}#sk-container-id-1 div.sk-estimator input.sk-toggleable__control:checked~label.sk-toggleable__label {background-color: #d4ebff;}#sk-container-id-1 div.sk-label input.sk-toggleable__control:checked~label.sk-toggleable__label {background-color: #d4ebff;}#sk-container-id-1 input.sk-hidden--visually {border: 0;clip: rect(1px 1px 1px 1px);clip: rect(1px, 1px, 1px, 1px);height: 1px;margin: -1px;overflow: hidden;padding: 0;position: absolute;width: 1px;}#sk-container-id-1 div.sk-estimator {font-family: monospace;background-color: #f0f8ff;border: 1px dotted black;border-radius: 0.25em;box-sizing: border-box;margin-bottom: 0.5em;}#sk-container-id-1 div.sk-estimator:hover {background-color: #d4ebff;}#sk-container-id-1 div.sk-parallel-item::after {content: \"\";width: 100%;border-bottom: 1px solid gray;flex-grow: 1;}#sk-container-id-1 div.sk-label:hover label.sk-toggleable__label {background-color: #d4ebff;}#sk-container-id-1 div.sk-serial::before {content: \"\";position: absolute;border-left: 1px solid gray;box-sizing: border-box;top: 0;bottom: 0;left: 50%;z-index: 0;}#sk-container-id-1 div.sk-serial {display: flex;flex-direction: column;align-items: center;background-color: white;padding-right: 0.2em;padding-left: 0.2em;position: relative;}#sk-container-id-1 div.sk-item {position: relative;z-index: 1;}#sk-container-id-1 div.sk-parallel {display: flex;align-items: stretch;justify-content: center;background-color: white;position: relative;}#sk-container-id-1 div.sk-item::before, #sk-container-id-1 div.sk-parallel-item::before {content: \"\";position: absolute;border-left: 1px solid gray;box-sizing: border-box;top: 0;bottom: 0;left: 50%;z-index: -1;}#sk-container-id-1 div.sk-parallel-item {display: flex;flex-direction: column;z-index: 1;position: relative;background-color: white;}#sk-container-id-1 div.sk-parallel-item:first-child::after {align-self: flex-end;width: 50%;}#sk-container-id-1 div.sk-parallel-item:last-child::after {align-self: flex-start;width: 50%;}#sk-container-id-1 div.sk-parallel-item:only-child::after {width: 0;}#sk-container-id-1 div.sk-dashed-wrapped {border: 1px dashed gray;margin: 0 0.4em 0.5em 0.4em;box-sizing: border-box;padding-bottom: 0.4em;background-color: white;}#sk-container-id-1 div.sk-label label {font-family: monospace;font-weight: bold;display: inline-block;line-height: 1.2em;}#sk-container-id-1 div.sk-label-container {text-align: center;}#sk-container-id-1 div.sk-container {/* jupyter's `normalize.less` sets `[hidden] { display: none; }` but bootstrap.min.css set `[hidden] { display: none !important; }` so we also need the `!important` here to be able to override the default hidden behavior on the sphinx rendered scikit-learn.org. See: https://github.com/scikit-learn/scikit-learn/issues/21755 */display: inline-block !important;position: relative;}#sk-container-id-1 div.sk-text-repr-fallback {display: none;}</style><div id=\"sk-container-id-1\" class=\"sk-top-container\"><div class=\"sk-text-repr-fallback\"><pre>XGBClassifier(base_score=None, booster=None, callbacks=None,\n",
              "              colsample_bylevel=None, colsample_bynode=None,\n",
              "              colsample_bytree=None, early_stopping_rounds=None,\n",
              "              enable_categorical=False, eval_metric=None, feature_types=None,\n",
              "              gamma=None, gpu_id=None, grow_policy=None, importance_type=None,\n",
              "              interaction_constraints=None, learning_rate=0.2, max_bin=None,\n",
              "              max_cat_threshold=None, max_cat_to_onehot=None,\n",
              "              max_delta_step=None, max_depth=4, max_leaves=None,\n",
              "              min_child_weight=None, missing=nan, monotone_constraints=None,\n",
              "              n_estimators=150, n_jobs=None, num_parallel_tree=None,\n",
              "              predictor=None, random_state=None, ...)</pre><b>In a Jupyter environment, please rerun this cell to show the HTML representation or trust the notebook. <br />On GitHub, the HTML representation is unable to render, please try loading this page with nbviewer.org.</b></div><div class=\"sk-container\" hidden><div class=\"sk-item\"><div class=\"sk-estimator sk-toggleable\"><input class=\"sk-toggleable__control sk-hidden--visually\" id=\"sk-estimator-id-1\" type=\"checkbox\" checked><label for=\"sk-estimator-id-1\" class=\"sk-toggleable__label sk-toggleable__label-arrow\">XGBClassifier</label><div class=\"sk-toggleable__content\"><pre>XGBClassifier(base_score=None, booster=None, callbacks=None,\n",
              "              colsample_bylevel=None, colsample_bynode=None,\n",
              "              colsample_bytree=None, early_stopping_rounds=None,\n",
              "              enable_categorical=False, eval_metric=None, feature_types=None,\n",
              "              gamma=None, gpu_id=None, grow_policy=None, importance_type=None,\n",
              "              interaction_constraints=None, learning_rate=0.2, max_bin=None,\n",
              "              max_cat_threshold=None, max_cat_to_onehot=None,\n",
              "              max_delta_step=None, max_depth=4, max_leaves=None,\n",
              "              min_child_weight=None, missing=nan, monotone_constraints=None,\n",
              "              n_estimators=150, n_jobs=None, num_parallel_tree=None,\n",
              "              predictor=None, random_state=None, ...)</pre></div></div></div></div></div>"
            ]
          },
          "metadata": {}
        }
      ],
      "source": [
        "#Training the model using the best hyperparameters identified\n",
        "model= XGBClassifier(n_estimators = 150,learning_rate=0.20,max_depth= 4)\n",
        "clf=model.fit(x_train_lar, y_train_lar)\n",
        "display(model)"
      ]
    },
    {
      "cell_type": "markdown",
      "metadata": {
        "id": "27IQiYf0qwv7"
      },
      "source": [
        "# Model Evaluation\n",
        "\n",
        "The trained model's performance was then evaluted using the test sets. Since the model was required to identify if a news article is fake or not (labeled 0 for fake and 1 for real), the important evaluation parameters were precision and recall. This is because identifying a fake news article is critical so that it does not show up on the app. Precision is the number of true positives compared to the predicted positive predictions made by the model. Recall is a measure of how well the model identifies the each instance. The trained model has a precision of 94% in identifying fake news articles which translates to a low false positive rate, where the news article is real but the model flagged it as fake. The model also has a recall of 92% when it predicts fake news articles. this means that the model correctly predicted fake news 92% of the time.  "
      ]
    },
    {
      "cell_type": "code",
      "execution_count": null,
      "metadata": {
        "colab": {
          "base_uri": "https://localhost:8080/"
        },
        "id": "2xDZCtS5NaSi",
        "outputId": "686304f2-a0fc-45de-ea97-766d87b6ec30"
      },
      "outputs": [
        {
          "output_type": "stream",
          "name": "stdout",
          "text": [
            "              precision    recall  f1-score   support\n",
            "\n",
            "         0.0       0.94      0.92      0.93       344\n",
            "         1.0       0.92      0.95      0.93       356\n",
            "\n",
            "    accuracy                           0.93       700\n",
            "   macro avg       0.93      0.93      0.93       700\n",
            "weighted avg       0.93      0.93      0.93       700\n",
            "\n"
          ]
        }
      ],
      "source": [
        "#Evaluating the model on the test sets\n",
        "y_pred=clf.predict(x_test)\n",
        "print(classification_report(y_test,y_pred))"
      ]
    },
    {
      "cell_type": "markdown",
      "source": [
        "The confusion matrix builds on the classification report above and shows the performance of the model on the test set. The model predicted and identified 315 of the fake news articles correctly and 337 of the real news articles correctly. According to the confusion matrix the model performed reasonable well, however there is room for improvement that will be discussed in the conclusion section below."
      ],
      "metadata": {
        "id": "ixZhtyG_BzQO"
      }
    },
    {
      "cell_type": "code",
      "execution_count": null,
      "metadata": {
        "colab": {
          "base_uri": "https://localhost:8080/",
          "height": 467
        },
        "id": "rEa66ZYcQHII",
        "outputId": "365b24e3-501a-4545-ce88-7d4300b0ccce"
      },
      "outputs": [
        {
          "output_type": "execute_result",
          "data": {
            "text/plain": [
              "<sklearn.metrics._plot.confusion_matrix.ConfusionMatrixDisplay at 0x7f9bca2d8580>"
            ]
          },
          "metadata": {},
          "execution_count": 28
        },
        {
          "output_type": "display_data",
          "data": {
            "text/plain": [
              "<Figure size 640x480 with 2 Axes>"
            ],
            "image/png": "[encoded data removed]"
          },
          "metadata": {}
        }
      ],
      "source": [
        "#Displaying the confusion matrix for the predicted values\n",
        "y_pred=clf.predict(x_test)\n",
        "cm=sklearn.metrics.confusion_matrix(y_test,y_pred)\n",
        "ConfusionMatrixDisplay(cm).plot()"
      ]
    },
    {
      "cell_type": "markdown",
      "source": [
        "To evaluate the most important features used by the model, the model's feature importance attribute of the model was utilized. This was matched to the list of features created in the feature engineering section. The top 15 features that the model considered important in its training are plotted below. From the plot it can be seen that the model considered Mr. as a very important feature and attached a high importance to it. The plot also includes some stop words that were not completely removed from the set and model but were so rare across the dataset that the model attached high importance to them."
      ],
      "metadata": {
        "id": "1tw-DufBITtG"
      }
    },
    {
      "cell_type": "code",
      "execution_count": null,
      "metadata": {
        "colab": {
          "base_uri": "https://localhost:8080/",
          "height": 866
        },
        "id": "ogEdDV_FZ1Wq",
        "outputId": "703e9ac1-12b2-46b5-be26-cf5114aba440"
      },
      "outputs": [
        {
          "output_type": "stream",
          "name": "stdout",
          "text": [
            "Top 15 important features:\n"
          ]
        },
        {
          "output_type": "execute_result",
          "data": {
            "text/plain": [
              "<Axes: >"
            ]
          },
          "metadata": {},
          "execution_count": 31
        },
        {
          "output_type": "display_data",
          "data": {
            "text/plain": [
              "<Figure size 1000x1000 with 1 Axes>"
            ],
            "image/png": "[encoded data removed]"
          },
          "metadata": {}
        }
      ],
      "source": [
        "Top_n = 15\n",
        "print('Top', Top_n, 'important features:')\n",
        "feat_importance = pd.Series(clf.feature_importances_, index=feats_list)\n",
        "feat_importance = feat_importance.nlargest(Top_n)\n",
        "\n",
        "# Get the feature names from inverted_index\n",
        "feature_names = [key for key, value in inverted_index.items() if value in feat_importance.index]\n",
        "\n",
        "feat_importance.index = feature_names\n",
        "\n",
        "feat_importance.plot(kind='barh', figsize=(10, 10))"
      ]
    },
    {
      "cell_type": "markdown",
      "metadata": {
        "id": "D1pzyTAmqz5K"
      },
      "source": [
        "# Conclusion\n",
        "\n",
        "The trained model exhibited a reasonably high degree of accuracy in identifying and predicting articles that were fake news. The dataset was slightly imbalanced however, when evaluating various models, there was little difference in performance when compared to the ones evaluated on an oversampled dataset. A more comprehensive evaluation could be made if the models were evaluated using both the over and under sampled dataset. The model's accuracy could be further increased if a larger subset was taken which may contain more important features allowing the model to make predictions and with a higher degree of precision. A more effective and powerful stop word removal utility could be used to remove all the stop words that were found so that the model does not interpret them as an important feature."
      ]
    }
  ],
  "metadata": {
    "colab": {
      "provenance": []
    },
    "kernelspec": {
      "display_name": "Python 3",
      "name": "python3"
    },
    "language_info": {
      "name": "python"
    }
  },
  "nbformat": 4,
  "nbformat_minor": 0
}